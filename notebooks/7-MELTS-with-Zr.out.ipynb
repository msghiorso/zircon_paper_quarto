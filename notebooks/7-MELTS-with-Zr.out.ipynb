{
 "cells": [
  {
   "cell_type": "markdown",
   "metadata": {},
   "source": [
    "# 7-Phase equilibria: MELTS liquid model with ZrSiO<sub>4</sub>"
   ],
   "id": "b9fa5f6c-c7fd-4ac3-a44d-dec0e4ddb082"
  },
  {
   "cell_type": "markdown",
   "metadata": {},
   "source": [
    "# 7-Phase equilibria: MELTS liquid model with ZrSiO<sub>4</sub>\n",
    "\n",
    "Associated solution model:\n",
    "\n",
    "| Components:                                | Species:                                    | Reaction:                                                                                                                              | Variable: | Component: | Species X: |\n",
    "|:-------------|:----------|:-----------|:-----------|:------------|:------------|\n",
    "| SiO<sub>2</sub>                            | SiO<sub>2</sub>                             |                                                                                                                                        |           | $n_1$      | $X_1$      |\n",
    "| TiO<sub>2</sub>                            | TiO<sub>2</sub>                             |                                                                                                                                        | $r_1$     | $n_2$      | $X_2$      |\n",
    "| Al<sub>2</sub>O<sub>3</sub>                | Al<sub>2</sub>O<sub>3</sub>                 |                                                                                                                                        | $r_2$     | $n_3$      | $X_3$      |\n",
    "| Fe<sub>2</sub>O<sub>3</sub>                | Fe<sub>2</sub>O<sub>3</sub>                 |                                                                                                                                        | $r_3$     | $n_4$      | $X_4$      |\n",
    "| MgCr<sub>2</sub>O<sub>4</sub>              | MgCr<sub>2</sub>O<sub>4</sub>               |                                                                                                                                        | $r_4$     | $n_5$      | $X_5$      |\n",
    "| Fe<sub>2</sub>SiO<sub>4</sub>              | Fe<sub>2</sub>SiO<sub>4</sub>               |                                                                                                                                        | $r_5$     | $n_6$      | $X_6$      |\n",
    "| MnSi<sub>1/2</sub>O<sub>2</sub>            | MnSi<sub>1/2</sub>O<sub>2</sub>             |                                                                                                                                        | $r_6$     | $n_7$      | $X_7$      |\n",
    "| Mg<sub>2</sub>SiO<sub>4</sub>              | Mg<sub>2</sub>SiO<sub>4</sub>               |                                                                                                                                        | $r_7$     | $n_8$      | $X_8$      |\n",
    "| NiSi<sub>1/2</sub>O<sub>2</sub>            | NiSi<sub>1/2</sub>O<sub>2</sub>             |                                                                                                                                        | $r_8$     | $n_9$      | $X_9$      |\n",
    "| CoSi<sub>1/2</sub>O<sub>2</sub>            | CoSi<sub>1/2</sub>O<sub>2</sub>             |                                                                                                                                        | $r_9$     | $n_{10}$   | $X_{10}$   |\n",
    "| CaSiO<sub>3</sub>                          | CaSiO<sub>3</sub>                           |                                                                                                                                        | $r_{10}$  | $n_{11}$   | $X_{11}$   |\n",
    "| Na<sub>2</sub>SiO<sub>3</sub>              | Na<sub>2</sub>SiO<sub>3</sub>               |                                                                                                                                        | $r_{11}$  | $n_{12}$   | $X_{12}$   |\n",
    "| KAlSiO<sub>4</sub>                         | KAlSiO<sub>4</sub>                          |                                                                                                                                        | $r_{12}$  | $n_{13}$   | $X_{13}$   |\n",
    "| Ca<sub>3</sub>(PO<sub>4</sub>)<sub>2</sub> | Ca<sub>3</sub>(PO<sub>4</sub>)<sub>2</sub>  |                                                                                                                                        | $r_{13}$  | $n_{14}$   | $X_{14}$   |\n",
    "| H<sub>2</sub>O                             | H<sub>2</sub>O                              |                                                                                                                                        | $r_{14}$  | $n_{15}$   | $X_{15}$   |\n",
    "| CO<sub>2</sub>                             | CO<sub>2</sub>                              |                                                                                                                                        | $r_{15}$  | $n_{16}$   | $X_{16}$   |\n",
    "| ZrSiO<sub>4</sub>                          | ZrSiO<sub>4</sub>                           |                                                                                                                                        | $r_{16}$  | $n_{17}$   | $X_{17}$   |\n",
    "|                                            | CaCO<sub>3</sub>                            | CO<sub>2</sub> + CaSiO<sub>3</sub> = CaCO<sub>3</sub> + SiO<sub>2</sub>                                                                | $s_1$     |            | $X_{18}$   |\n",
    "|                                            | Na<sub>4</sub>ZrSi<sub>2</sub>O<sub>8</sub> | ZrSiO<sub>4</sub> + 2Na<sub>2</sub>SiO<sub>3</sub> = Na<sub>4</sub>ZrSi<sub>2</sub>O<sub>8</sub> + SiO<sub>2</sub>                     | $s_2$     |            | $X_{19}$   |\n",
    "|                                            | K<sub>4</sub>ZrSi<sub>2</sub>O<sub>8</sub>  | ZrSiO<sub>4</sub> + 4KAlSiO<sub>4</sub> = K<sub>4</sub>ZrSi<sub>2</sub>O<sub>8</sub> + 2Al<sub>2</sub>O<sub>3</sub> + 3SiO<sub>2</sub> | $s_3$     |            | $X_{20}$   |"
   ],
   "id": "cell-0"
  },
  {
   "cell_type": "markdown",
   "metadata": {},
   "source": [
    "## Gibbs energy minimization (fixed T, P, bulk composition)\n",
    "\n",
    "Closed system; crystallization of a rhyolitic liquid using rhyolite-MELTS 1.1 + Zr-model"
   ],
   "id": "cell-1"
  },
  {
   "cell_type": "code",
   "execution_count": null,
   "metadata": {},
   "outputs": [],
   "source": [
    "import numpy as np\n",
    "import scipy.optimize as opt\n",
    "import scipy.linalg as lin \n",
    "import sys\n",
    "from thermoengine import core, phases, model, equilibrate\n",
    "import warnings\n",
    "warnings.filterwarnings(\"ignore\", category=DeprecationWarning)\n",
    "warnings.filterwarnings(\"ignore\", category=FutureWarning)\n",
    "import matplotlib.pyplot as plt\n",
    "import scipy as sci\n",
    "%matplotlib inline"
   ],
   "id": "cell-2"
  },
  {
   "cell_type": "code",
   "execution_count": null,
   "metadata": {},
   "outputs": [],
   "source": [
    "model_working_dir = \"working\"\n",
    "%cd {model_working_dir}\n",
    "from pyximport import install\n",
    "install()\n",
    "import rMELTS_ZR\n",
    "import zirconium_minerals\n",
    "modelDB_ZR_min = model.Database(database=\"CoderModule\", calib=True, \n",
    "                             phase_tuple=('zirconium_minerals', {\n",
    "                                 'Zrc':['zircon','pure'],\n",
    "                                 'Bdd':['baddeleyite','pure']\n",
    "                             }))\n",
    "modelDB_ZR_liq = model.Database(database=\"CoderModule\", calib=True, \n",
    "                             phase_tuple=('rMELTS_ZR', {\n",
    "                                 'liq':['Liquid', 'solution']\n",
    "                             }))\n",
    "%cd .."
   ],
   "id": "cell-3"
  },
  {
   "cell_type": "code",
   "execution_count": null,
   "metadata": {},
   "outputs": [],
   "source": [
    "modelDB_ZR_min.phase_info"
   ],
   "id": "cell-4"
  },
  {
   "cell_type": "code",
   "execution_count": null,
   "metadata": {},
   "outputs": [],
   "source": [
    "modelDB_ZR_liq.phase_info"
   ],
   "id": "cell-5"
  },
  {
   "cell_type": "markdown",
   "metadata": {},
   "source": [
    "## Read in parameter estimates from first calibration notebook"
   ],
   "id": "cell-6"
  },
  {
   "cell_type": "code",
   "execution_count": null,
   "metadata": {},
   "outputs": [],
   "source": [
    "import pickle\n",
    "with open('calib_params.pickle', 'rb') as f:\n",
    "    params_stored = pickle.load(f)\n",
    "for i,x in enumerate(params_stored):\n",
    "    rMELTS_ZR.cy_Liquid_rMELTS_ZR_set_param_value(i, x) "
   ],
   "id": "cell-7"
  },
  {
   "cell_type": "markdown",
   "metadata": {},
   "source": [
    "## Create phases for equilibrium assemblages"
   ],
   "id": "cell-8"
  },
  {
   "cell_type": "code",
   "execution_count": null,
   "metadata": {},
   "outputs": [],
   "source": [
    "src_obj = core.get_src_object('EquilibrateUsingMELTSv102')\n",
    "modelDB = model.Database()\n",
    "Liquid = modelDB_ZR_liq.get_phase('liq')\n",
    "Feldspar = modelDB.get_phase('Fsp')\n",
    "Quartz = modelDB.get_phase('Qz')\n",
    "Spinel = modelDB.get_phase('SplS')\n",
    "Opx = modelDB.get_phase('Opx')\n",
    "RhomOx = modelDB.get_phase('Rhom')\n",
    "Zircon = modelDB_ZR_min.get_phase('Zrc')\n",
    "Baddeleyite = modelDB_ZR_min.get_phase('Bdd')"
   ],
   "id": "cell-9"
  },
  {
   "cell_type": "markdown",
   "metadata": {},
   "source": [
    "The MELTS 1.0.2 water model."
   ],
   "id": "cell-10"
  },
  {
   "cell_type": "code",
   "execution_count": null,
   "metadata": {},
   "outputs": [],
   "source": [
    "Water = phases.PurePhase('WaterMelts', 'H2O', calib=False)"
   ],
   "id": "cell-11"
  },
  {
   "cell_type": "markdown",
   "metadata": {},
   "source": [
    "The MELTS 1.1.x fluid (H<sub>2</sub>O, CO<sub>2</sub>) model."
   ],
   "id": "cell-12"
  },
  {
   "cell_type": "code",
   "execution_count": null,
   "metadata": {},
   "outputs": [],
   "source": [
    "Fluid = phases.SolutionPhase('FluidDuan','Fld')"
   ],
   "id": "cell-13"
  },
  {
   "cell_type": "markdown",
   "metadata": {},
   "source": [
    "## Define elements in system and phases in system"
   ],
   "id": "cell-14"
  },
  {
   "cell_type": "code",
   "execution_count": null,
   "metadata": {},
   "outputs": [],
   "source": [
    "elm_sys = ['H','C','O','Na','Mg','Al','Si','P','K','Ca','Ti','Cr','Mn','Fe','Co','Ni','Zr']\n",
    "#phs_sys = [Liquid, Feldspar, Quartz, Spinel, Opx, RhomOx, Zircon, Baddeleyite, Water]\n",
    "phs_sys = [Liquid, Feldspar, Quartz, Spinel, Opx, RhomOx, Zircon, Baddeleyite, Fluid]"
   ],
   "id": "cell-15"
  },
  {
   "cell_type": "markdown",
   "metadata": {},
   "source": [
    "## Composition of the system\n",
    "\n",
    "This is a high-silica rhyolite"
   ],
   "id": "cell-16"
  },
  {
   "cell_type": "code",
   "execution_count": null,
   "metadata": {},
   "outputs": [],
   "source": [
    "grm_oxides = {\n",
    "    'SiO2':  77.5, \n",
    "    'TiO2':   0.08, \n",
    "    'Al2O3': 12.5, \n",
    "    'Fe2O3':  0.207,\n",
    "    'Cr2O3':  0.0, \n",
    "    'FeO':    0.473, \n",
    "    'MnO':    0.0,\n",
    "    'MgO':    0.03, \n",
    "    'NiO':    0.0, \n",
    "    'CoO':    0.0,\n",
    "    'CaO':    0.43, \n",
    "    'Na2O':   3.98, \n",
    "    'K2O':    4.88, \n",
    "    'P2O5':   0.0, \n",
    "    'H2O':    5.5,\n",
    "    'CO2':    0.0005\n",
    "}\n",
    "Zr_ppm = 100"
   ],
   "id": "cell-17"
  },
  {
   "cell_type": "markdown",
   "metadata": {},
   "source": [
    "Cast this composition as moles of elements for input to the Equilibrate class"
   ],
   "id": "cell-18"
  },
  {
   "cell_type": "code",
   "execution_count": null,
   "metadata": {},
   "outputs": [],
   "source": [
    "tot_grm_oxides = 0.0\n",
    "for key in grm_oxides.keys():\n",
    "    tot_grm_oxides += grm_oxides[key]\n",
    "mol_oxides = core.chem.format_mol_oxide_comp(grm_oxides, convert_grams_to_moles=True)\n",
    "mol_elm = core.chem.mol_oxide_to_elem(mol_oxides)\n",
    "elm_ref = np.zeros(107)\n",
    "for i,sym in enumerate(\n",
    "    ['Si', 'Ti', 'Al', 'Fe', 'Cr', 'Mn', 'Mg', 'Ni', 'Co', 'Ca', 'Na', 'K', 'P', 'H', 'C', 'O']):\n",
    "    index = core.chem.PERIODIC_ORDER.tolist().index(sym)\n",
    "    elm_ref[index] = mol_elm[i]\n",
    "#\n",
    "elm = np.copy(elm_ref)\n",
    "wtZrO2 = 123.218*Zr_ppm/91.224/1000000.0\n",
    "wtZrO2 *= tot_grm_oxides + wtZrO2\n",
    "elm[core.chem.PERIODIC_ORDER.tolist().index('Zr')] += wtZrO2/123.218\n",
    "elm[core.chem.PERIODIC_ORDER.tolist().index('O')]  += wtZrO2*2.0/123.218\n",
    "blk_cmp = []\n",
    "for x in elm_sys:\n",
    "    index = core.chem.PERIODIC_ORDER.tolist().index(x)\n",
    "    blk_cmp.append(elm[index])\n",
    "blk_cmp = np.array(blk_cmp)"
   ],
   "id": "cell-19"
  },
  {
   "cell_type": "markdown",
   "metadata": {},
   "source": [
    "## Instantiate class instance and run calculation"
   ],
   "id": "cell-20"
  },
  {
   "cell_type": "code",
   "execution_count": null,
   "metadata": {},
   "outputs": [],
   "source": [
    "equil = equilibrate.Equilibrate(elm_sys, phs_sys)"
   ],
   "id": "cell-21"
  },
  {
   "cell_type": "code",
   "execution_count": null,
   "metadata": {},
   "outputs": [],
   "source": [
    "t =  762.0 + 273.15\n",
    "p = 1750.0\n",
    "state = equil.execute(t, p, bulk_comp=blk_cmp, debug=0, stats=False)\n",
    "state.print_state()"
   ],
   "id": "cell-22"
  },
  {
   "cell_type": "markdown",
   "metadata": {},
   "source": [
    "Set up a function to help with plotting results"
   ],
   "id": "cell-23"
  },
  {
   "cell_type": "code",
   "execution_count": null,
   "metadata": {},
   "outputs": [],
   "source": [
    "phs_mass = []\n",
    "phs_name = []\n",
    "temperatures = []\n",
    "def plot_data():\n",
    "    global phs_mass, phs_name, temperatures\n",
    "    phs_state = state.properties()\n",
    "    temperatures.append(state.temperature - 273.15)\n",
    "    masses = []\n",
    "    names = []\n",
    "    for key in phs_state.keys():\n",
    "        if phs_state[key] == 'stable':\n",
    "            names.append(key)\n",
    "            masses.append(state.properties(phase_name=key, props='Mass'))\n",
    "    phs_name.append(names)\n",
    "    phs_mass.append(masses)\n",
    "plot_data()"
   ],
   "id": "cell-24"
  },
  {
   "cell_type": "markdown",
   "metadata": {},
   "source": [
    "Run a sequence …"
   ],
   "id": "cell-25"
  },
  {
   "cell_type": "code",
   "execution_count": null,
   "metadata": {},
   "outputs": [],
   "source": [
    "for i in range(1,61):\n",
    "    state = equil.execute(t-i/5.0, p, state=state, debug=0, stats=False)\n",
    "    state.print_state()\n",
    "    plot_data()"
   ],
   "id": "cell-26"
  },
  {
   "cell_type": "markdown",
   "metadata": {},
   "source": [
    "Massage output into a suitable state for plotting"
   ],
   "id": "cell-27"
  },
  {
   "cell_type": "code",
   "execution_count": null,
   "metadata": {},
   "outputs": [],
   "source": [
    "temperatures = np.array(temperatures)\n",
    "phs_name_unique = []\n",
    "for lst in phs_name:\n",
    "    phs_name_unique += lst\n",
    "phs_name_unique = list(sorted((set(phs_name_unique))))\n",
    "phs_name_unique.remove('System')\n",
    "phs_mass_unique = []\n",
    "for i,lst in enumerate(phs_mass):\n",
    "    masses = np.zeros(len(phs_name_unique))\n",
    "    for j,name in enumerate(phs_name[i]):\n",
    "        if name is not 'System':\n",
    "            ind = phs_name_unique.index(name)\n",
    "            masses[ind] = lst[j]\n",
    "    phs_mass_unique.append(masses)\n",
    "phs_mass_unique = np.array(phs_mass_unique)\n",
    "zr_onset = 0.0\n",
    "zr_ind = phs_name_unique.index('zircon')\n",
    "for i,tval in enumerate(temperatures):\n",
    "    if phs_mass_unique[i,zr_ind] > 0.0:\n",
    "        zr_onset = tval\n",
    "        break"
   ],
   "id": "cell-28"
  },
  {
   "cell_type": "markdown",
   "metadata": {},
   "source": [
    "## Plot results of sequence"
   ],
   "id": "cell-29"
  },
  {
   "cell_type": "code",
   "execution_count": null,
   "metadata": {},
   "outputs": [],
   "source": [
    "fig = plt.figure(figsize=(15,10))\n",
    "for i,name in enumerate(phs_name_unique):\n",
    "    plt.plot(temperatures, phs_mass_unique[:,i], label=name)\n",
    "plt.plot(np.array([zr_onset, zr_onset]), np.array([0,105]), 'k--', label='zircon liquidus')\n",
    "plt.legend()\n",
    "plt.show()"
   ],
   "id": "cell-30"
  },
  {
   "cell_type": "code",
   "execution_count": null,
   "metadata": {},
   "outputs": [],
   "source": [
    "fig = plt.figure(figsize=(15,10))\n",
    "plt.stackplot(temperatures, phs_mass_unique.T, labels=phs_name_unique)\n",
    "plt.plot(np.array([zr_onset, zr_onset]), np.array([0,105]), 'k--', label='zircon liquidus')\n",
    "plt.legend(loc='upper right')\n",
    "plt.title(\"High-silica rhyolite\")\n",
    "plt.xlabel(\"Temperature °C\")\n",
    "plt.ylabel(\"Mass (g)\")\n",
    "plt.xlim(750, 762)\n",
    "plt.ylim(0,105)\n",
    "fig.savefig(\"MELTS-zr-rhyolite.pdf\", bbox_inches='tight')\n",
    "plt.show()"
   ],
   "id": "cell-31"
  }
 ],
 "nbformat": 4,
 "nbformat_minor": 5,
 "metadata": {}
}
