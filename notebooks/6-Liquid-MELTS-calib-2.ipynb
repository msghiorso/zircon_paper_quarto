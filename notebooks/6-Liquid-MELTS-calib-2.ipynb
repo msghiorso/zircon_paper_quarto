{
 "cells": [
  {
   "cell_type": "markdown",
   "metadata": {},
   "source": [
    "# 6-Calibration: MELTS liquid model with ZrSiO<sub>4</sub>\n",
    "\n",
    "**Parameter and calibration exploration notebook.**  \n",
    "**Run Endmembers-MELTS, Liquid-MELTS-codegen, Liquid-MELTS-API-tests and Liquid=MELTS-calib-1 notebooks first!**  \n",
    "\n",
    "Proposed associated solution model:\n",
    "\n",
    "| Components: | Species: | Reaction: | Variable: | Component: | Species X: |\n",
    "| :---------- | :------- | :-------- | :-------- | :--------- | :--------- |\n",
    "| SiO<sub>2</sub> | SiO<sub>2</sub> | | | $n_1$ | $X_1$ |\n",
    "| TiO<sub>2</sub> | TiO<sub>2</sub> | | $r_1$ | $n_2$ | $X_2$ |\n",
    "| Al<sub>2</sub>O<sub>3</sub> | Al<sub>2</sub>O<sub>3</sub> | | $r_2$ | $n_3$ | $X_3$ |\n",
    "| Fe<sub>2</sub>O<sub>3</sub> | Fe<sub>2</sub>O<sub>3</sub> | | $r_3$ | $n_4$ | $X_4$ |\n",
    "| MgCr<sub>2</sub>O<sub>4</sub> | MgCr<sub>2</sub>O<sub>4</sub> | | $r_4$ | $n_5$ | $X_5$ |\n",
    "| Fe<sub>2</sub>SiO<sub>4</sub> | Fe<sub>2</sub>SiO<sub>4</sub> | | $r_5$ | $n_6$ | $X_6$ |\n",
    "| MnSi<sub>1/2</sub>O<sub>2</sub> | MnSi<sub>1/2</sub>O<sub>2</sub> | | $r_6$ | $n_7$ | $X_7$ |\n",
    "| Mg<sub>2</sub>SiO<sub>4</sub> | Mg<sub>2</sub>SiO<sub>4</sub> | | $r_7$ | $n_8$ | $X_8$ |\n",
    "| NiSi<sub>1/2</sub>O<sub>2</sub> | NiSi<sub>1/2</sub>O<sub>2</sub>  | | $r_8$ | $n_9$ | $X_9$ |\n",
    "| CoSi<sub>1/2</sub>O<sub>2</sub> | CoSi<sub>1/2</sub>O<sub>2</sub> | | $r_9$ | $n_{10}$ | $X_{10}$ |\n",
    "| CaSiO<sub>3</sub> | CaSiO<sub>3</sub> | | $r_{10}$ | $n_{11}$ | $X_{11}$ |\n",
    "| Na<sub>2</sub>SiO<sub>3</sub> | Na<sub>2</sub>SiO<sub>3</sub> | | $r_{11}$ | $n_{12}$ | $X_{12}$ |\n",
    "| KAlSiO<sub>4</sub> | KAlSiO<sub>4</sub> | | $r_{12}$ | $n_{13}$ | $X_{13}$ |\n",
    "| Ca<sub>3</sub>(PO<sub>4</sub>)<sub>2</sub> | Ca<sub>3</sub>(PO<sub>4</sub>)<sub>2</sub> | | $r_{13}$ | $n_{14}$ | $X_{14}$ |\n",
    "| H<sub>2</sub>O | H<sub>2</sub>O | | $r_{14}$ | $n_{15}$ | $X_{15}$ |\n",
    "| CO<sub>2</sub> | CO<sub>2</sub> | | $r_{15}$ | $n_{16}$ | $X_{16}$ |\n",
    "| ZrSiO<sub>4</sub> | ZrSiO<sub>4</sub> | | $r_{16}$ | $n_{17}$ | $X_{17}$ |\n",
    "| | CaCO<sub>3</sub> | CO<sub>2</sub> + CaSiO<sub>3</sub> = CaCO<sub>3</sub> + SiO<sub>2</sub> | $s_1$ | | $X_{18}$ |\n",
    "| | Na<sub>4</sub>ZrSi<sub>2</sub>O<sub>8</sub> | ZrSiO<sub>4</sub> + 2Na<sub>2</sub>SiO<sub>3</sub> = Na<sub>4</sub>ZrSi<sub>2</sub>O<sub>8</sub> + SiO<sub>2</sub> | $s_2$ | | $X_{19}$ |\n",
    "| | K<sub>4</sub>ZrSi<sub>2</sub>O<sub>8</sub> | ZrSiO<sub>4</sub> + 4KAlSiO<sub>4</sub> = K<sub>4</sub>ZrSi<sub>2</sub>O<sub>8</sub> + 2Al<sub>2</sub>O<sub>3</sub> + 3SiO<sub>2</sub> | $s_3$ | | $X_{20}$ |"
   ]
  },
  {
   "cell_type": "code",
   "execution_count": null,
   "metadata": {},
   "outputs": [],
   "source": [
    "import pandas as pd\n",
    "import numpy as np\n",
    "from thermoengine import core, coder, phases\n",
    "import sympy as sym\n",
    "import math\n",
    "sym.init_printing()\n",
    "from thermoengine.model import Database\n",
    "db = Database()\n",
    "import matplotlib.pyplot as plt\n",
    "import scipy as sci\n",
    "%matplotlib inline\n",
    "import warnings\n",
    "warnings.filterwarnings(\"ignore\", category=DeprecationWarning)\n",
    "warnings.filterwarnings(\"ignore\", category=FutureWarning)"
   ]
  },
  {
   "cell_type": "markdown",
   "metadata": {},
   "source": [
    "- Number of components = 17\n",
    "- Number of species = 20\n",
    "- Number of \"ordering parameters\" (i.e., dependent species) = 3"
   ]
  },
  {
   "cell_type": "code",
   "execution_count": null,
   "metadata": {},
   "outputs": [],
   "source": [
    "nc = 17\n",
    "nw = 20\n",
    "ns = 3"
   ]
  },
  {
   "cell_type": "markdown",
   "metadata": {},
   "source": [
    "Import previously generated and compiled model"
   ]
  },
  {
   "cell_type": "code",
   "execution_count": null,
   "metadata": {},
   "outputs": [],
   "source": [
    "model_working_dir = \"working\"\n",
    "%cd {model_working_dir}\n",
    "from pyximport import install\n",
    "install()\n",
    "import rMELTS_ZR\n",
    "%cd .."
   ]
  },
  {
   "cell_type": "markdown",
   "metadata": {},
   "source": [
    "Test identifier routines"
   ]
  },
  {
   "cell_type": "code",
   "execution_count": null,
   "metadata": {},
   "outputs": [],
   "source": [
    "print(rMELTS_ZR.cy_Liquid_rMELTS_ZR_calib_identifier())\n",
    "print(rMELTS_ZR.cy_Liquid_rMELTS_ZR_calib_name())"
   ]
  },
  {
   "cell_type": "markdown",
   "metadata": {},
   "source": [
    "## Read in parameter estimates from first calibration notebook"
   ]
  },
  {
   "cell_type": "code",
   "execution_count": null,
   "metadata": {},
   "outputs": [],
   "source": [
    "import pickle\n",
    "with open('params.pickle', 'rb') as f:\n",
    "    params_stored = pickle.load(f)\n",
    "for i,x in enumerate(params_stored):\n",
    "    rMELTS_ZR.cy_Liquid_rMELTS_ZR_set_param_value(i, x) "
   ]
  },
  {
   "cell_type": "markdown",
   "metadata": {},
   "source": [
    "## Create models for zirconium-bearing minerals"
   ]
  },
  {
   "cell_type": "code",
   "execution_count": null,
   "metadata": {},
   "outputs": [],
   "source": [
    "model = coder.StdStateModel()\n",
    "model.set_module_name('zirconium_minerals')\n",
    "model_type = \"calib\"\n",
    "T = model.get_symbol_for_t()\n",
    "P = model.get_symbol_for_p()\n",
    "Tr = model.get_symbol_for_tr()\n",
    "Pr = model.get_symbol_for_pr()"
   ]
  },
  {
   "cell_type": "markdown",
   "metadata": {},
   "source": [
    "### Formulation, Robie RA, Hemingway BS, 1995\n",
    "Thermodynamic Properties of Minerals and Related Substances at 298.15 K and 1 Bar (10<sup>5</sup> Pascals) Pressure and at Higher Temperatures. U.S. Geological Survey, Bulletin 2131, 461pp  \n",
    "\n",
    "- $\\Delta H_f$, S, V, Cp\n",
    "- $Cp = A_1 + A_2 T + \\frac{A_3}{T^2} + \\frac{A_4}{\\sqrt{T}} + A_5 T^2$"
   ]
  },
  {
   "cell_type": "code",
   "execution_count": null,
   "metadata": {},
   "outputs": [],
   "source": [
    "h0,s0,a1,a2,a3,a4,a5,v = sym.symbols('h0 s0 a1 a2 a3 a4 a5 v')\n",
    "params = [\n",
    "    ('h0','J',h0), \n",
    "    ('s0','J/K', s0), \n",
    "    ('a1', 'J/K', a1), \n",
    "    ('a2', 'J/K^2', a2), \n",
    "    ('a3', 'J-K', a3), \n",
    "    ('a4', 'J/K^1/2', a4), \n",
    "    ('a5', 'J/K^3', a5),\n",
    "    ('v', 'J/bar', v)\n",
    "]\n",
    "Cp = a1 + a2*T + a3/T**2 + a4/sym.sqrt(T) + a5*T**2\n",
    "G = h0 + sym.integrate(Cp,(T,Tr,T)) - T*(s0 + sym.integrate(Cp/T,(T,Tr,T))) + sym.integrate(v,(P,Pr,P))\n",
    "model.add_expression_to_model(G, params)"
   ]
  },
  {
   "cell_type": "code",
   "execution_count": null,
   "metadata": {},
   "outputs": [],
   "source": [
    "model_working_dir = \"working\"\n",
    "!mkdir -p {model_working_dir}\n",
    "%cd {model_working_dir}"
   ]
  },
  {
   "cell_type": "code",
   "execution_count": null,
   "metadata": {},
   "outputs": [],
   "source": [
    "param_dict = {\n",
    "    'Phase': 'zircon',\n",
    "    'Formula': 'Zr(1)Si(1)O(4)',\n",
    "    'h0':  -2034200.0,\n",
    "    's0':        84.0,\n",
    "    'v':          3.926,\n",
    "    'a1':         2.370e2,\n",
    "    'a2':        -1.788e-2,\n",
    "    'a3':        -1.496e5,\n",
    "    'a4':        -2.268e3,\n",
    "    'a5':         0.0,\n",
    "    'T_r':      298.15,\n",
    "    'P_r':        1.0,\n",
    "    'trl':     1673.15\n",
    "}\n",
    "result = model.create_code_module(phase=param_dict['Phase'], formula=param_dict['Formula'], params=param_dict, module_type=model_type)\n",
    "%cp zirconium_minerals.pyx endmembers.pyx\n",
    "endmember_file_list = ['zircon_zirconium_minerals_calib.c']\n",
    "endmember_name_list = ['zircon']"
   ]
  },
  {
   "cell_type": "code",
   "execution_count": null,
   "metadata": {},
   "outputs": [],
   "source": [
    "param_dict = {\n",
    "    'Phase': 'baddeleyite',\n",
    "    'Formula': 'Zr(1)O(2)',\n",
    "    'h0':  -1100600.0,\n",
    "    's0':        50.4,\n",
    "    'a1':         1.073e2,\n",
    "    'a2':        -5.011e-3,\n",
    "    'a3':        -2.203e5,\n",
    "    'a4':        -8.141e2,\n",
    "    'a5':         0.0,\n",
    "    'v':          2.115,\n",
    "    'T_r':      298.15,\n",
    "    'P_r':        1.0,\n",
    "    'trl':     1673.15\n",
    "}\n",
    "result = model.create_code_module(phase=param_dict['Phase'], formula=param_dict['Formula'], params=param_dict, module_type=model_type)\n",
    "%cat zirconium_minerals.pyx >> endmembers.pyx\n",
    "endmember_file_list.append('baddeleyite_zirconium_minerals_calib.c')\n",
    "endmember_name_list.append('baddeleyite')"
   ]
  },
  {
   "cell_type": "code",
   "execution_count": null,
   "metadata": {},
   "outputs": [],
   "source": [
    "with open('zirconium_minerals.pyxbld', 'r') as f:\n",
    "    fold = f.read()\n",
    "    f.close()\n",
    "old_file_list = \"'\" + endmember_file_list[-1] + \"'\"\n",
    "new_file_list = ''\n",
    "sep = ''\n",
    "for x in endmember_file_list:\n",
    "    new_file_list += sep + \"'\" + x + \"'\"\n",
    "    sep = \", \"\n",
    "fnew = fold.replace(old_file_list, new_file_list)\n",
    "with open('zirconium_minerals.pyxbld', 'w') as f:\n",
    "    f.write(fnew)\n",
    "    f.close\n",
    "%cp endmembers.pyx zirconium_minerals.pyx"
   ]
  },
  {
   "cell_type": "code",
   "execution_count": null,
   "metadata": {},
   "outputs": [],
   "source": [
    "import zirconium_minerals\n",
    "%cd .."
   ]
  },
  {
   "cell_type": "markdown",
   "metadata": {},
   "source": [
    "## Read common scripts\n",
    "Execute scripts in the Jupyter notebook namespace so that methods have access to notebook variables."
   ]
  },
  {
   "cell_type": "code",
   "execution_count": null,
   "metadata": {},
   "outputs": [],
   "source": [
    "%run -i support_scripts.py"
   ]
  },
  {
   "cell_type": "markdown",
   "metadata": {},
   "source": [
    "## Function to calculate affinities for these reactions:\n",
    "ZrSiO<sub>4</sub> = ZrSiO<sub>4</sub> (zircon)  \n",
    "ZrSiO<sub>4</sub> = ZrO<sub>2</sub> (baddeleyite)  + SiO<sub>2</sub>"
   ]
  },
  {
   "cell_type": "code",
   "execution_count": null,
   "metadata": {},
   "outputs": [],
   "source": [
    "def zirconium_min_affinities(t, p, mu, print_results=True):\n",
    "    global zirconium_minerals\n",
    "    G0zirc = zirconium_minerals.cy_zircon_zirconium_minerals_calib_g(t,p)\n",
    "    G0badd = zirconium_minerals.cy_baddeleyite_zirconium_minerals_calib_g(t,p)\n",
    "    affinities = []\n",
    "    affinities.append(mu[16] - G0zirc)\n",
    "    affinities.append(mu[16] - G0badd - mu[0])\n",
    "    if print_results:\n",
    "        print ('Affinity {0:<12.12s} {1:12.3f}'.format('zircon', affinities[0]))\n",
    "        print ('Affinity {0:<12.12s} {1:12.3f}'.format('baddeleyite', affinities[1]))\n",
    "    return tuple(affinities)"
   ]
  },
  {
   "cell_type": "markdown",
   "metadata": {},
   "source": [
    "## Guess some parameter values (from a first pass through the primary calibration data)\n",
    "- Exchange entropies and volumes are maintained at zero\n",
    "- Free parameters are enthalpies of ZrSiO<sub>4</sub>, Na<sub>4</sub>ZrSi<sub>2</sub>O<sub>8</sub> and K<sub>4</sub>ZrSi<sub>2</sub>O<sub>8</sub>, and the entropy and volume of ZrSiO<sub>4</sub>  \n",
    "\n",
    "These estimates are arrived at by guess work minimization of residuals.  They are not final values."
   ]
  },
  {
   "cell_type": "code",
   "execution_count": null,
   "metadata": {},
   "outputs": [],
   "source": [
    "ref_param_values = rMELTS_ZR.cy_Liquid_rMELTS_ZR_get_param_values()\n",
    "ref_param_values"
   ]
  },
  {
   "cell_type": "code",
   "execution_count": null,
   "metadata": {},
   "outputs": [],
   "source": [
    "adj_H_ZrSiO4 = 100000.0 + 22020.0    + 107500.0    - 32110.0\n",
    "adj_S_ZrSiO4 =               40.0242 +     83.7465 -    27.8937\n",
    "adj_V_ZrSiO4 =                0.5448 -      0.2236 -     0.110\n",
    "rMELTS_ZR.cy_Liquid_rMELTS_ZR_set_param_value(5,  ref_param_values[ 5] + adj_H_ZrSiO4 - 225000.0) # Na4ZrSi2O8\n",
    "rMELTS_ZR.cy_Liquid_rMELTS_ZR_set_param_value(6,  ref_param_values[ 6] + adj_S_ZrSiO4)\n",
    "rMELTS_ZR.cy_Liquid_rMELTS_ZR_set_param_value(7,  ref_param_values[ 7] + adj_V_ZrSiO4)\n",
    "rMELTS_ZR.cy_Liquid_rMELTS_ZR_set_param_value(8,  ref_param_values[ 8] + adj_H_ZrSiO4 -  75000.0) # K4ZrSi2O8\n",
    "rMELTS_ZR.cy_Liquid_rMELTS_ZR_set_param_value(9,  ref_param_values[ 9] + adj_S_ZrSiO4)\n",
    "rMELTS_ZR.cy_Liquid_rMELTS_ZR_set_param_value(10, ref_param_values[10] + adj_V_ZrSiO4)\n",
    "rMELTS_ZR.cy_Liquid_rMELTS_ZR_set_param_value(11, ref_param_values[11] + adj_H_ZrSiO4)            # ZrSiO4\n",
    "rMELTS_ZR.cy_Liquid_rMELTS_ZR_set_param_value(12, ref_param_values[12] + adj_S_ZrSiO4)\n",
    "rMELTS_ZR.cy_Liquid_rMELTS_ZR_set_param_value(13, ref_param_values[13] + adj_V_ZrSiO4)"
   ]
  },
  {
   "cell_type": "code",
   "execution_count": null,
   "metadata": {},
   "outputs": [],
   "source": [
    "param_values = rMELTS_ZR.cy_Liquid_rMELTS_ZR_get_param_values()\n",
    "param_values"
   ]
  },
  {
   "cell_type": "markdown",
   "metadata": {},
   "source": [
    "## Evaluate zircon saturation data\n",
    "- two primary sources:\n",
    "  - Watson EB and Harrison TM (1983) Zircon saturation revisited: temperature and composition effects in a variety of crustal magma types. Earth and Planetary Science Letters, 64, 295-304\n",
    "  - Boehnke P, Watson EB, Trail D, Harrison TM, Schmitt AK (2013) Zircon saturation re-visited. Chemical Geology, 351, 324-334"
   ]
  },
  {
   "cell_type": "markdown",
   "metadata": {},
   "source": [
    "Read data sources (Excel files) as Pandas dataframes"
   ]
  },
  {
   "cell_type": "code",
   "execution_count": null,
   "metadata": {},
   "outputs": [],
   "source": [
    "df1 = pd.read_csv('Watson_and_Harrison.csv')\n",
    "df1.fillna(0)"
   ]
  },
  {
   "cell_type": "code",
   "execution_count": null,
   "metadata": {},
   "outputs": [],
   "source": [
    "for i,x in enumerate(df1.columns):\n",
    "    print (i+1, x)"
   ]
  },
  {
   "cell_type": "code",
   "execution_count": null,
   "metadata": {},
   "outputs": [],
   "source": [
    "df2 = pd.read_csv('Boehnke_et_al.csv')\n",
    "df2.fillna(0)"
   ]
  },
  {
   "cell_type": "code",
   "execution_count": null,
   "metadata": {},
   "outputs": [],
   "source": [
    "for i,x in enumerate(df2.columns):\n",
    "    print (i+1, x)"
   ]
  },
  {
   "cell_type": "markdown",
   "metadata": {},
   "source": [
    "Process the two data sets and store residual information and other results in the following Python lists:\n",
    "- x_data[] - data index \n",
    "- y_data[] - residual\n",
    "- n_liq[] - liquid compositional vector\n",
    "- s_liq[] - liquid species concentration vector\n",
    "- t_data[] - temperature in Kelvins\n",
    "- p_data[] - pressure in bars\n",
    "- name[] - source string or experimental descriptor\n",
    "- s_data[] - source author id (1, 2)\n",
    "- y_est[] - extimated value of Zr liquid concentration in PPM (value that zeros residuals)\n",
    "- y_con[] - True or False regarding convergence of y_est\n",
    "- y_ref[] - measured value of Zr liquid concentration"
   ]
  },
  {
   "cell_type": "code",
   "execution_count": null,
   "metadata": {},
   "outputs": [],
   "source": [
    "name = []\n",
    "x_data = []\n",
    "y_data = []\n",
    "n_liq = []\n",
    "s_liq = []\n",
    "t_data = []\n",
    "p_data = []\n",
    "s_data = []\n",
    "y_est = []\n",
    "y_con = []\n",
    "y_ref = []\n",
    "auth_dat = []\n",
    "for df in [df1, df2]:\n",
    "    df_iterator = df.itertuples()\n",
    "    #\n",
    "    for row_indx,data in enumerate(df_iterator):\n",
    "        auth_id = data[3]\n",
    "        t = data[25 if auth_id == 1 else 17] + 273.15\n",
    "        p = data[26 if auth_id == 1 else 18]*10000.0\n",
    "        if data[4] != 'Liquid':\n",
    "            continue\n",
    "        grm_oxides = {\n",
    "            'SiO2':  data[5 if auth_id == 1 else 5], \n",
    "            'TiO2':  data[7 if auth_id == 1 else 6], \n",
    "            'Al2O3': data[9 if auth_id == 1 else 7], \n",
    "            'Fe2O3': 0.0,\n",
    "            'Cr2O3': 0.0, \n",
    "            'FeO':   data[11 if auth_id == 1 else 8], \n",
    "            'MnO':    0.0,\n",
    "            'MgO':   data[13 if auth_id == 1 else 9], \n",
    "            'NiO':    0.0, \n",
    "            'CoO':    0.0,\n",
    "            'CaO':   data[15 if auth_id == 1 else 10], \n",
    "            'Na2O':  data[17 if auth_id == 1 else 11], \n",
    "            'K2O':   data[19 if auth_id == 1 else 12], \n",
    "            'P2O5':   0.0, \n",
    "            'H2O':   data[24 if auth_id == 1 else 15],\n",
    "            'CO2':    0.01\n",
    "        }\n",
    "        tot_grm_oxides = 0.0\n",
    "        for key in grm_oxides.keys():\n",
    "            tot_grm_oxides += grm_oxides[key]\n",
    "        mol_oxides = core.chem.format_mol_oxide_comp(grm_oxides, convert_grams_to_moles=True)\n",
    "        #\n",
    "        NNO = db.redox_buffer(t, p, buffer='NNO', method='LEPR')\n",
    "        ox_moles = mol_oxides.reshape(1,nc-1)\n",
    "        db.redox_state(t, p, \n",
    "                       oxide_comp={'Liq':ox_moles}, \n",
    "                       logfO2=np.array(NNO), \n",
    "                       phase_of_interest='Liq', method='Kress91')\n",
    "        #print ('n Fe2O3   at NNO   moles = {0:10.8f}'.format(ox_moles[0,3]))\n",
    "        #print ('n FeO     at NNO   moles = {0:10.8f}'.format(ox_moles[0,5]))\n",
    "        mol_oxides[3] = ox_moles[0,3]\n",
    "        mol_oxides[5] = ox_moles[0,5]\n",
    "        #\n",
    "        mol_elm = core.chem.mol_oxide_to_elem(mol_oxides)\n",
    "        elm = np.zeros(107)\n",
    "        for i,sym in enumerate(\n",
    "            ['Si', 'Ti', 'Al', 'Fe', 'Cr', 'Mn', 'Mg', 'Ni', 'Co', 'Ca', 'Na', 'K', 'P', 'H', 'C', 'O']):\n",
    "            index = core.chem.PERIODIC_ORDER.tolist().index(sym)\n",
    "            elm[index] = mol_elm[i]\n",
    "        #\n",
    "        wtZrO2 = data[22 if auth_id == 1 else 13]\n",
    "        if wtZrO2 > 1.0:\n",
    "            continue\n",
    "        auth_dat.append(auth_id)\n",
    "        y_ref.append(wtZrO2)\n",
    "        elm_ref = np.copy(elm)\n",
    "        elm[core.chem.PERIODIC_ORDER.tolist().index('Zr')] += wtZrO2/123.218\n",
    "        elm[core.chem.PERIODIC_ORDER.tolist().index('O')]  += wtZrO2*2.0/123.218\n",
    "        n = rMELTS_ZR.cy_Liquid_rMELTS_ZR_calib_conv_elm_to_moles(elm)\n",
    "        if not rMELTS_ZR.cy_Liquid_rMELTS_ZR_calib_test_moles(n):\n",
    "            print ('Output of intrinsic composition calculation fails tests for permissible values.')\n",
    "            continue\n",
    "        s = rMELTS_ZR.cy_Liquid_rMELTS_ZR_order_params(t, p, n)\n",
    "        mu = rMELTS_ZR.cy_Liquid_rMELTS_ZR_calib_dgdn(t,p,n)\n",
    "        y = zirconium_min_affinities(t, p, mu, print_results=False)[0]\n",
    "        #\n",
    "        # Estimate zirconium content by zeroing the residuals\n",
    "        def residual(log_wtZrO2_est, doprint=False):\n",
    "            global elm_ref, t, p\n",
    "            wtZrO2_est = np.exp(log_wtZrO2_est)\n",
    "            elm_est = np.copy(elm_ref)\n",
    "            elm_est[core.chem.PERIODIC_ORDER.tolist().index('Zr')] += wtZrO2_est/123.218\n",
    "            elm_est[core.chem.PERIODIC_ORDER.tolist().index('O')]  += wtZrO2_est*2.0/123.218\n",
    "            n_est = rMELTS_ZR.cy_Liquid_rMELTS_ZR_calib_conv_elm_to_moles(elm_est)\n",
    "            mu_est= rMELTS_ZR.cy_Liquid_rMELTS_ZR_calib_dgdn(t,p,n_est)\n",
    "            result = zirconium_min_affinities(t, p, mu_est, print_results=False)[0]\n",
    "            if doprint:\n",
    "                print (wtZrO2_est, result)\n",
    "            return result\n",
    "        #\n",
    "        try:\n",
    "            sol = sci.optimize.root_scalar(residual, \n",
    "                                           #x0=np.log(wtZrO2), \n",
    "                                           #x1=np.log(wtZrO2*10.), \n",
    "                                           rtol=1.e-5,\n",
    "                                           bracket=[-5,2.3],\n",
    "                                           method='brentq',\n",
    "                                           maxiter=50)\n",
    "            print (sol)\n",
    "            y_est.append(np.exp(sol.root))\n",
    "            y_con.append(sol.converged)\n",
    "        except ValueError:\n",
    "            print ('Solution not within brackets')\n",
    "            y_est.append(0.0)\n",
    "            y_con.append(False)\n",
    "        #\n",
    "        print (auth_id, data[2], y)\n",
    "        s_data.append(auth_id)\n",
    "        name.append(data[2])\n",
    "        x_data.append(row_indx)\n",
    "        y_data.append(y)\n",
    "        n_liq.append(n)\n",
    "        s_liq.append(s)\n",
    "        t_data.append(t)\n",
    "        p_data.append(p)"
   ]
  },
  {
   "cell_type": "markdown",
   "metadata": {},
   "source": [
    "Residual statistics and a linear regression that provides rough estimates of H, S and V forZrSiO<sub>4</sub>"
   ]
  },
  {
   "cell_type": "code",
   "execution_count": null,
   "metadata": {},
   "outputs": [],
   "source": [
    "print ('Average residual:', np.mean(np.array(y_data)))\n",
    "print ('Std Dev residual:', np.std(np.array(y_data)))"
   ]
  },
  {
   "cell_type": "code",
   "execution_count": null,
   "metadata": {},
   "outputs": [],
   "source": [
    "import statsmodels.api as sm"
   ]
  },
  {
   "cell_type": "code",
   "execution_count": null,
   "metadata": {},
   "outputs": [],
   "source": [
    "X = sm.add_constant(np.column_stack((t_data, p_data)))\n",
    "results = sm.OLS(np.array(y_data), X).fit()\n",
    "results.summary()"
   ]
  },
  {
   "cell_type": "markdown",
   "metadata": {},
   "source": [
    "### Analysis of residuals\n",
    "\n",
    "Back calculation of Zr concentrations made by zeroing residuals"
   ]
  },
  {
   "cell_type": "code",
   "execution_count": null,
   "metadata": {},
   "outputs": [],
   "source": [
    "plt.figure(figsize=(15,5))\n",
    "plt.subplot(1,2,1)\n",
    "plt.plot(np.array([x for i,x in enumerate(y_ref) if y_con[i]]), \n",
    "         np.array([x for i,x in enumerate(y_est) if y_con[i]]), 'r+')\n",
    "plt.plot(np.array([x for i,x in enumerate(y_ref) if not y_con[i]]), \n",
    "         np.array([x for i,x in enumerate(y_est) if not y_con[i]]), 'b+')\n",
    "plt.plot(np.array([0,1]), np.array([0,1]), 'g-')\n",
    "plt.ylabel('wt ZrO2 est')\n",
    "plt.xlabel('wt ZrO2 data')\n",
    "plt.subplot(1,2,2)\n",
    "plt.plot(np.array([91.224*1000000.0*x/100.0/123.218 for i,x in enumerate(y_ref) if y_con[i]]), \n",
    "         np.array([91.224*1000000.0*x/100.0/123.218 for i,x in enumerate(y_est) if y_con[i]]), 'r+')\n",
    "plt.plot(np.array([0,7000]), np.array([0,7000]), 'g-')\n",
    "plt.ylabel('ppm ZrO2 est')\n",
    "plt.xlabel('ppm ZrO2 data')\n",
    "#axes = plt.gca()\n",
    "#axes.set_xlim(0,1)\n",
    "plt.tight_layout()\n",
    "plt.show"
   ]
  },
  {
   "cell_type": "markdown",
   "metadata": {},
   "source": [
    "Residuals from fitting the two data sets (red is Watson and Harrison, blue is Boehnke et al.)"
   ]
  },
  {
   "cell_type": "code",
   "execution_count": null,
   "metadata": {},
   "outputs": [],
   "source": [
    "plt.figure(figsize=(15,5))\n",
    "plt.subplot(1,3,1)\n",
    "plt.plot([min(x_data),max(x_data)], [0.0,0.0], 'g-')\n",
    "plt.plot(np.array([x_data[i] for i,x in enumerate(s_data) if x == 1]),\n",
    "         np.array([y_data[i] for i,x in enumerate(s_data) if x == 1]), 'r+')\n",
    "plt.plot(np.array([x_data[i] for i,x in enumerate(s_data) if x == 2]),\n",
    "         np.array([y_data[i] for i,x in enumerate(s_data) if x == 2]), 'b+')\n",
    "plt.ylabel('residual')\n",
    "plt.xlabel('index')\n",
    "plt.subplot(1,3,2)\n",
    "plt.plot([min(np.array(n_liq)[:,0]),max(np.array(n_liq)[:,0])], [0.0,0.0], 'g-')\n",
    "plt.plot(np.array([np.array(n_liq)[i,0] for i,x in enumerate(s_data) if x == 1]),\n",
    "         np.array([y_data[i] for i,x in enumerate(s_data) if x == 1]), 'r+')\n",
    "plt.plot(np.array([np.array(n_liq)[i,0] for i,x in enumerate(s_data) if x == 2]),\n",
    "         np.array([y_data[i] for i,x in enumerate(s_data) if x == 2]), 'b+')\n",
    "plt.ylabel('residual')\n",
    "plt.xlabel('X SiO2')\n",
    "plt.subplot(1,3,3)\n",
    "plt.plot([min(np.array(n_liq)[:,16]),max(np.array(n_liq)[:,16])], [0.0,0.0], 'g-')\n",
    "plt.plot(np.array([np.array(n_liq)[i,16] for i,x in enumerate(s_data) if x == 1]),\n",
    "         np.array([y_data[i] for i,x in enumerate(s_data) if x == 1]), 'r+')\n",
    "plt.plot(np.array([np.array(n_liq)[i,16] for i,x in enumerate(s_data) if x == 2]),\n",
    "         np.array([y_data[i] for i,x in enumerate(s_data) if x == 2]), 'b+')\n",
    "plt.ylabel('residual')\n",
    "plt.xlabel('X ZrSiO4')\n",
    "plt.tight_layout()\n",
    "plt.show()"
   ]
  },
  {
   "cell_type": "markdown",
   "metadata": {},
   "source": [
    "Examine residual (zircon affinity) dependence on alkali and water concentrations"
   ]
  },
  {
   "cell_type": "code",
   "execution_count": null,
   "metadata": {},
   "outputs": [],
   "source": [
    "plt.figure(figsize=(15,5))\n",
    "plt.subplot(1,3,1)\n",
    "plt.plot([min(np.array(n_liq)[:,11]),max(np.array(n_liq)[:,11])], [0.0,0.0], 'g-')\n",
    "plt.plot(np.array([np.array(n_liq)[i,11] for i,x in enumerate(s_data) if x == 1]),\n",
    "         np.array([y_data[i] for i,x in enumerate(s_data) if x == 1]), 'r+')\n",
    "plt.plot(np.array([np.array(n_liq)[i,11] for i,x in enumerate(s_data) if x == 2]),\n",
    "         np.array([y_data[i] for i,x in enumerate(s_data) if x == 2]), 'b+')\n",
    "plt.ylabel('residual')\n",
    "plt.xlabel('X Na2SiO3')\n",
    "plt.subplot(1,3,2)\n",
    "plt.plot([min(np.array(n_liq)[:,12]),max(np.array(n_liq)[:,12])], [0.0,0.0], 'g-')\n",
    "plt.plot(np.array([np.array(n_liq)[i,12] for i,x in enumerate(s_data) if x == 1]),\n",
    "         np.array([y_data[i] for i,x in enumerate(s_data) if x == 1]), 'r+')\n",
    "plt.plot(np.array([np.array(n_liq)[i,12] for i,x in enumerate(s_data) if x == 2]),\n",
    "         np.array([y_data[i] for i,x in enumerate(s_data) if x == 2]), 'b+')\n",
    "plt.ylabel('residual')\n",
    "plt.xlabel('X KAlSiO4')\n",
    "plt.subplot(1,3,3)\n",
    "plt.plot([min(np.array(n_liq)[:,14]),max(np.array(n_liq)[:,14])], [0.0,0.0], 'g-')\n",
    "plt.plot(np.array([np.array(n_liq)[i,14] for i,x in enumerate(s_data) if x == 1]),\n",
    "         np.array([y_data[i] for i,x in enumerate(s_data) if x == 1]), 'r+')\n",
    "plt.plot(np.array([np.array(n_liq)[i,14] for i,x in enumerate(s_data) if x == 2]),\n",
    "         np.array([y_data[i] for i,x in enumerate(s_data) if x == 2]), 'b+')\n",
    "plt.ylabel('residual')\n",
    "plt.xlabel('X H2O')\n",
    "plt.tight_layout()\n",
    "plt.show()"
   ]
  },
  {
   "cell_type": "markdown",
   "metadata": {},
   "source": [
    "Examine residual (zircon affinity) dependence on temperature"
   ]
  },
  {
   "cell_type": "code",
   "execution_count": null,
   "metadata": {},
   "outputs": [],
   "source": [
    "plt.plot([min(t_data),max(t_data)], [0.0,0.0], 'g-')\n",
    "plt.plot(np.array([t_data[i] for i,x in enumerate(s_data) if x == 1]),\n",
    "         np.array([y_data[i] for i,x in enumerate(s_data) if x == 1]), 'r+')\n",
    "plt.plot(np.array([t_data[i] for i,x in enumerate(s_data) if x == 2]),\n",
    "         np.array([y_data[i] for i,x in enumerate(s_data) if x == 2]), 'b+')\n",
    "plt.ylabel('residual')\n",
    "plt.xlabel('T K')\n",
    "plt.show()"
   ]
  },
  {
   "cell_type": "markdown",
   "metadata": {},
   "source": [
    "Examine residual (zircon affinity) dependence on pressure"
   ]
  },
  {
   "cell_type": "code",
   "execution_count": null,
   "metadata": {},
   "outputs": [],
   "source": [
    "plt.plot([min(p_data),max(p_data)], [0.0,0.0], 'g-')\n",
    "plt.plot(np.array([p_data[i] for i,x in enumerate(s_data) if x == 1]),\n",
    "         np.array([y_data[i] for i,x in enumerate(s_data) if x == 1]), 'r+')\n",
    "plt.plot(np.array([p_data[i] for i,x in enumerate(s_data) if x == 2]),\n",
    "         np.array([y_data[i] for i,x in enumerate(s_data) if x == 2]), 'b+')\n",
    "\n",
    "plt.ylabel('residual')\n",
    "plt.xlabel('P (GPa)')\n",
    "plt.show()"
   ]
  },
  {
   "cell_type": "markdown",
   "metadata": {},
   "source": [
    "Examine Zr-speciation of the liquid"
   ]
  },
  {
   "cell_type": "code",
   "execution_count": null,
   "metadata": {},
   "outputs": [],
   "source": [
    "plt.figure(figsize=(15,5))\n",
    "plt.subplot(1,3,1)\n",
    "plt.plot(np.array(x_data), np.array(n_liq)[:,16], 'r+')\n",
    "plt.ylabel('n ZrSiO4')\n",
    "plt.xlabel('index')\n",
    "plt.subplot(1,3,2)\n",
    "plt.plot(np.array(x_data), np.array(s_liq)[:,1], 'r+')\n",
    "plt.ylabel('n Na4ZrSi2O8')\n",
    "plt.xlabel('index')\n",
    "plt.subplot(1,3,3)\n",
    "plt.plot(np.array(x_data), np.array(s_liq)[:,2], 'r+')\n",
    "plt.ylabel('n K4ZrSi2O8')\n",
    "plt.xlabel('index')\n",
    "plt.tight_layout()\n",
    "plt.show()"
   ]
  },
  {
   "cell_type": "code",
   "execution_count": null,
   "metadata": {},
   "outputs": [],
   "source": [
    "plt.figure(figsize=(15,5))\n",
    "plt.semilogy(np.array(x_data), np.array(n_liq)[:,16], 'r+', label='ZrSiO4')\n",
    "plt.semilogy(np.array(x_data), np.array(s_liq)[:,1],  'g+', label='Na4ZrSi2O8')\n",
    "plt.semilogy(np.array(x_data), np.array(s_liq)[:,2],  'b+', label='K4ZrSi2O8')\n",
    "plt.ylabel('n Zr species')\n",
    "plt.xlabel('index')\n",
    "plt.legend()\n",
    "plt.show()"
   ]
  },
  {
   "cell_type": "code",
   "execution_count": null,
   "metadata": {},
   "outputs": [],
   "source": [
    "plt.figure(figsize=(15,5))\n",
    "plt.semilogy(np.array(n_liq)[:,11], np.array(n_liq)[:,16], 'r+', label='ZrSiO4')\n",
    "plt.semilogy(np.array(n_liq)[:,11], np.array(s_liq)[:,1],  'g+', label='Na4ZrSi2O8')\n",
    "plt.semilogy(np.array(n_liq)[:,11], np.array(s_liq)[:,2],  'b+', label='K4ZrSi2O8')\n",
    "plt.ylabel('n Zr species')\n",
    "plt.xlabel('n Na2SiO3')\n",
    "plt.legend()\n",
    "plt.show()"
   ]
  },
  {
   "cell_type": "code",
   "execution_count": null,
   "metadata": {},
   "outputs": [],
   "source": [
    "plt.figure(figsize=(15,5))\n",
    "plt.semilogy(np.array(n_liq)[:,12], np.array(n_liq)[:,16], 'r+', label='ZrSiO4')\n",
    "plt.semilogy(np.array(n_liq)[:,12], np.array(s_liq)[:,1],  'g+', label='Na4ZrSi2O8')\n",
    "plt.semilogy(np.array(n_liq)[:,12], np.array(s_liq)[:,2],  'b+', label='K4ZrSi2O8')\n",
    "plt.ylabel('n Zr species')\n",
    "plt.xlabel('n KAlSiO4')\n",
    "plt.legend()\n",
    "plt.show()"
   ]
  },
  {
   "cell_type": "markdown",
   "metadata": {},
   "source": [
    "Remember these results before lists are over written with the peralkaline dataset"
   ]
  },
  {
   "cell_type": "code",
   "execution_count": null,
   "metadata": {},
   "outputs": [],
   "source": [
    "name_all   = [] + name\n",
    "x_data_all = [] + x_data \n",
    "y_data_all = [] + y_data\n",
    "n_liq_all  = [] + n_liq\n",
    "s_liq_all  = [] + s_liq\n",
    "t_data_all = [] + t_data\n",
    "p_data_all = [] + p_data\n",
    "s_data_all = [] + s_data\n",
    "y_est_all  = [] + y_est\n",
    "y_con_all  = [] + y_con\n",
    "y_ref_all  = [] + y_ref"
   ]
  },
  {
   "cell_type": "markdown",
   "metadata": {},
   "source": [
    "## Evaluate peralkaline compositions reported in Watson (1979)"
   ]
  },
  {
   "cell_type": "code",
   "execution_count": null,
   "metadata": {},
   "outputs": [],
   "source": [
    "df3 = pd.read_excel('Watson_1979.xlsx')\n",
    "df3.fillna(0)"
   ]
  },
  {
   "cell_type": "code",
   "execution_count": null,
   "metadata": {},
   "outputs": [],
   "source": [
    "for i,x in enumerate(df3.columns):\n",
    "    print (i+1, x)"
   ]
  },
  {
   "cell_type": "markdown",
   "metadata": {},
   "source": [
    "Re-estimate \"optimal\" parameters for this data set "
   ]
  },
  {
   "cell_type": "code",
   "execution_count": null,
   "metadata": {},
   "outputs": [],
   "source": [
    "print(ref_param_values)"
   ]
  },
  {
   "cell_type": "code",
   "execution_count": null,
   "metadata": {},
   "outputs": [],
   "source": [
    "adj_H_ZrSiO4 = 100000.0 + 22020.0    + 107500.0    - 32110.0\n",
    "adj_S_ZrSiO4 =               40.0242 +     83.7465 -    27.8937\n",
    "adj_V_ZrSiO4 =                0.5448 -      0.2236 -     0.110\n",
    "rMELTS_ZR.cy_Liquid_rMELTS_ZR_set_param_value(5,  ref_param_values[ 5] + adj_H_ZrSiO4 - 225000.0 - 50000.0) # Na4ZrSi2O8\n",
    "rMELTS_ZR.cy_Liquid_rMELTS_ZR_set_param_value(6,  ref_param_values[ 6] + adj_S_ZrSiO4)\n",
    "rMELTS_ZR.cy_Liquid_rMELTS_ZR_set_param_value(7,  ref_param_values[ 7] + adj_V_ZrSiO4)\n",
    "rMELTS_ZR.cy_Liquid_rMELTS_ZR_set_param_value(8,  ref_param_values[ 8] + adj_H_ZrSiO4 -  75000.0 - 50000.0)  # K4ZrSi2O8\n",
    "rMELTS_ZR.cy_Liquid_rMELTS_ZR_set_param_value(9,  ref_param_values[ 9] + adj_S_ZrSiO4)\n",
    "rMELTS_ZR.cy_Liquid_rMELTS_ZR_set_param_value(10, ref_param_values[10] + adj_V_ZrSiO4)\n",
    "rMELTS_ZR.cy_Liquid_rMELTS_ZR_set_param_value(11, ref_param_values[11] + adj_H_ZrSiO4) # ZrSiO4\n",
    "rMELTS_ZR.cy_Liquid_rMELTS_ZR_set_param_value(12, ref_param_values[12] + adj_S_ZrSiO4)\n",
    "rMELTS_ZR.cy_Liquid_rMELTS_ZR_set_param_value(13, ref_param_values[13] + adj_V_ZrSiO4)"
   ]
  },
  {
   "cell_type": "code",
   "execution_count": null,
   "metadata": {},
   "outputs": [],
   "source": [
    "param_values = rMELTS_ZR.cy_Liquid_rMELTS_ZR_get_param_values()\n",
    "print (param_values)"
   ]
  },
  {
   "cell_type": "markdown",
   "metadata": {},
   "source": [
    "Analyze the data set"
   ]
  },
  {
   "cell_type": "code",
   "execution_count": null,
   "metadata": {},
   "outputs": [],
   "source": [
    "df_iterator = df3.itertuples()\n",
    "name = []\n",
    "x_data = []\n",
    "y_data = []\n",
    "n_liq = []\n",
    "s_liq = []\n",
    "t_data = []\n",
    "p_data = []\n",
    "s_data = []\n",
    "y_est = []\n",
    "y_con = []\n",
    "y_ref = []\n",
    "jacobian = []\n",
    "for row_indx,data in enumerate(df_iterator):\n",
    "    auth_id = data[1]\n",
    "    t = data[4] + 273.15\n",
    "    p = data[5]\n",
    "    grm_oxides = {\n",
    "        'SiO2':  data[6], \n",
    "        'TiO2':  0.0, \n",
    "        'Al2O3': data[7], \n",
    "        'Fe2O3': max(data[8], 0.01),\n",
    "        'Cr2O3': 0.0, \n",
    "        'FeO':   0.0, \n",
    "        'MnO':   0.0,\n",
    "        'MgO':   0.0, \n",
    "        'NiO':   0.0, \n",
    "        'CoO':   0.0,\n",
    "        'CaO':   max(data[9], 0.01), \n",
    "        'Na2O':  data[10], \n",
    "        'K2O':   data[11], \n",
    "        'P2O5':  0.0, \n",
    "        'H2O':   6.5,\n",
    "        'CO2':   0.01\n",
    "    }\n",
    "    auth_dat.append(3)\n",
    "    tot_grm_oxides = 0.0\n",
    "    for key in grm_oxides.keys():\n",
    "        tot_grm_oxides += grm_oxides[key]\n",
    "    mol_oxides = core.chem.format_mol_oxide_comp(grm_oxides, convert_grams_to_moles=True)\n",
    "    #\n",
    "    if data[8] > 0.0:\n",
    "        NNO = db.redox_buffer(t, p, buffer='NNO', method='LEPR')\n",
    "        ox_moles = mol_oxides.reshape(1,nc-1)\n",
    "        db.redox_state(t, p, \n",
    "                       oxide_comp={'Liq':ox_moles}, \n",
    "                       logfO2=np.array(NNO), \n",
    "                       phase_of_interest='Liq', method='Kress91')\n",
    "        #print ('n Fe2O3   at NNO   moles = {0:10.8f}'.format(ox_moles[0,3]))\n",
    "        #print ('n FeO     at NNO   moles = {0:10.8f}'.format(ox_moles[0,5]))\n",
    "        mol_oxides[3] = ox_moles[0,3]\n",
    "        mol_oxides[5] = ox_moles[0,5]\n",
    "        #\n",
    "    mol_elm = core.chem.mol_oxide_to_elem(mol_oxides)\n",
    "    elm = np.zeros(107)\n",
    "    for i,sym in enumerate(\n",
    "        ['Si', 'Ti', 'Al', 'Fe', 'Cr', 'Mn', 'Mg', 'Ni', 'Co', 'Ca', 'Na', 'K', 'P', 'H', 'C', 'O']):\n",
    "        index = core.chem.PERIODIC_ORDER.tolist().index(sym)\n",
    "        elm[index] = mol_elm[i]\n",
    "    #\n",
    "    wtZrO2 = 100.0*123.218*data[2]/91.224/1000000.0\n",
    "    y_ref.append(wtZrO2)\n",
    "    elm_ref = np.copy(elm)\n",
    "    elm[core.chem.PERIODIC_ORDER.tolist().index('Zr')] += wtZrO2/123.218\n",
    "    elm[core.chem.PERIODIC_ORDER.tolist().index('O')]  += wtZrO2*2.0/123.218\n",
    "    n = rMELTS_ZR.cy_Liquid_rMELTS_ZR_calib_conv_elm_to_moles(elm)\n",
    "    if not rMELTS_ZR.cy_Liquid_rMELTS_ZR_calib_test_moles(n):\n",
    "        print ('Output of intrinsic composition calculation fails tests for permissible values.')\n",
    "        continue\n",
    "    s = rMELTS_ZR.cy_Liquid_rMELTS_ZR_order_params(t, p, n)\n",
    "    mu = rMELTS_ZR.cy_Liquid_rMELTS_ZR_calib_dgdn(t, p, n)\n",
    "    y = zirconium_min_affinities(t, p, mu, print_results=False)[0]\n",
    "    #\n",
    "    # Estimate zirconium content by zeroing the residuals\n",
    "    def residual(log_wtZrO2_est, doprint=False):\n",
    "        global elm_ref, t, p\n",
    "        wtZrO2_est = np.exp(log_wtZrO2_est)\n",
    "        elm_est = np.copy(elm_ref)\n",
    "        elm_est[core.chem.PERIODIC_ORDER.tolist().index('Zr')] += wtZrO2_est/123.218\n",
    "        elm_est[core.chem.PERIODIC_ORDER.tolist().index('O')]  += wtZrO2_est*2.0/123.218\n",
    "        n_est = rMELTS_ZR.cy_Liquid_rMELTS_ZR_calib_conv_elm_to_moles(elm_est)\n",
    "        mu_est= rMELTS_ZR.cy_Liquid_rMELTS_ZR_calib_dgdn(t,p,n_est)\n",
    "        result = zirconium_min_affinities(t, p, mu_est, print_results=False)[0]\n",
    "        if doprint:\n",
    "            print (wtZrO2_est, result)\n",
    "        return result\n",
    "    #\n",
    "    try:\n",
    "        sol = sci.optimize.root_scalar(residual, \n",
    "                                       #x0=np.log(wtZrO2), \n",
    "                                       #x1=np.log(wtZrO2*10.), \n",
    "                                       rtol=1.e-5,\n",
    "                                       bracket=[-5,2.3],\n",
    "                                       method='brentq',\n",
    "                                       maxiter=50)\n",
    "        print (sol)\n",
    "        y_est.append(np.exp(sol.root))\n",
    "        y_con.append(sol.converged)\n",
    "    except ValueError:\n",
    "        print ('Solution not within brackets')\n",
    "        y_est.append(0.0)\n",
    "        y_con.append(False)\n",
    "    #\n",
    "    dparam = []\n",
    "    for i in range(0,rMELTS_ZR.cy_Liquid_rMELTS_ZR_get_param_number()):\n",
    "        D2gDnDparam = rMELTS_ZR.cy_Liquid_rMELTS_ZR_dparam_dgdn(t, p, n, i)\n",
    "        dparam.append(D2gDnDparam[16])\n",
    "    #\n",
    "    print (auth_id, data[2], y)\n",
    "    s_data.append(auth_id)\n",
    "    name.append(data[12])\n",
    "    x_data.append(row_indx)\n",
    "    y_data.append(y)\n",
    "    n_liq.append(n)\n",
    "    s_liq.append(s)\n",
    "    t_data.append(t)\n",
    "    p_data.append(p)\n",
    "    jacobian.append(dparam)"
   ]
  },
  {
   "cell_type": "markdown",
   "metadata": {},
   "source": [
    "Residual statistics"
   ]
  },
  {
   "cell_type": "code",
   "execution_count": null,
   "metadata": {},
   "outputs": [],
   "source": [
    "print ('Average residual:', np.mean(np.array(y_data)))\n",
    "print ('Std Dev residual:', np.std(np.array(y_data)))"
   ]
  },
  {
   "cell_type": "code",
   "execution_count": null,
   "metadata": {},
   "outputs": [],
   "source": [
    "for i,y in enumerate(y_data):\n",
    "    if y > 40000.0 or y < -20000.0:\n",
    "        print ('{0:10.2f} {1:5s} {2:<10s} {3:10.2f} {4:10.2f} {5:7.3f}'.format(y, str(s_data[i]), name[i], t_data[i], p_data[i], y_ref[i]))"
   ]
  },
  {
   "cell_type": "code",
   "execution_count": null,
   "metadata": {},
   "outputs": [],
   "source": [
    "results = sm.OLS(np.array(y_data), np.array(t_data)).fit()\n",
    "results.summary()"
   ]
  },
  {
   "cell_type": "markdown",
   "metadata": {},
   "source": [
    "Select a subset of data points to identify in plots (these are \"natural\" compositions - with iron and calcium)"
   ]
  },
  {
   "cell_type": "code",
   "execution_count": null,
   "metadata": {},
   "outputs": [],
   "source": [
    "selection = [name.index('PPK(g)'), name.index('PK(g)'), name.index('KPK(g)'), name.index('K(g)')]"
   ]
  },
  {
   "cell_type": "markdown",
   "metadata": {},
   "source": [
    "Estimated Zr concentration plotted against measured concentration"
   ]
  },
  {
   "cell_type": "code",
   "execution_count": null,
   "metadata": {},
   "outputs": [],
   "source": [
    "plt.figure(figsize=(15,5))\n",
    "plt.subplot(1,2,1)\n",
    "plt.plot(np.array([x for i,x in enumerate(y_ref) if y_con[i]]), \n",
    "         np.array([x for i,x in enumerate(y_est) if y_con[i]]), 'r+')\n",
    "plt.plot(np.array([x for i,x in enumerate(y_ref) if not y_con[i]]), \n",
    "         np.array([x for i,x in enumerate(y_est) if not y_con[i]]), 'b+')\n",
    "plt.plot(np.array([y_ref[i] for i in selection]), \n",
    "         np.array([y_est[i] for i in selection]), 'ko')\n",
    "plt.plot(np.array([0,max(y_ref)]), np.array([0,max(y_ref)]), 'g-')\n",
    "plt.ylabel('wt ZrO2 est')\n",
    "plt.xlabel('wt ZrO2 data')\n",
    "plt.subplot(1,2,2)\n",
    "plt.plot(np.array([91.224*1000000.0*x/100.0/123.218 for i,x in enumerate(y_ref) if y_con[i]]), \n",
    "         np.array([91.224*1000000.0*x/100.0/123.218 for i,x in enumerate(y_est) if y_con[i]]), 'r+')\n",
    "plt.plot(np.array([0,91.224*1000000.0*max(y_ref)/100.0/123.218]), np.array([0,91.224*1000000.0*max(y_ref)/100.0/123.218]), 'g-')\n",
    "plt.ylabel('ppm ZrO2 est')\n",
    "plt.xlabel('ppm ZrO2 data')\n",
    "#axes = plt.gca()\n",
    "#axes.set_xlim(0,1)\n",
    "plt.tight_layout()\n",
    "plt.show"
   ]
  },
  {
   "cell_type": "markdown",
   "metadata": {},
   "source": [
    "Examine residuals (zircon affinity) for the Watson (1979) data set"
   ]
  },
  {
   "cell_type": "code",
   "execution_count": null,
   "metadata": {},
   "outputs": [],
   "source": [
    "plt.figure(figsize=(15,5))\n",
    "plt.subplot(1,3,1)\n",
    "plt.plot([min(x_data),max(x_data)], [0.0,0.0], 'g-')\n",
    "plt.plot(np.array(x_data), np.array(y_data), 'r+')\n",
    "plt.plot(np.array([x_data[i] for i in selection]), np.array([y_data[i] for i in selection]), 'ko')\n",
    "plt.ylabel('residual')\n",
    "plt.xlabel('index')\n",
    "plt.subplot(1,3,2)\n",
    "plt.plot([min(np.array(n_liq)[:,0]),max(np.array(n_liq)[:,0])], [0.0,0.0], 'g-')\n",
    "plt.plot(np.array(np.array(n_liq)[:,0]), np.array(y_data), 'r+')\n",
    "plt.plot(np.array(np.array([n_liq[i] for i in selection])[:,0]), np.array([y_data[i] for i in selection]), 'ko')\n",
    "plt.ylabel('residual')\n",
    "plt.xlabel('X SiO2')\n",
    "plt.subplot(1,3,3)\n",
    "plt.plot([min(np.array(n_liq)[:,16]),max(np.array(n_liq)[:,16])], [0.0,0.0], 'g-')\n",
    "plt.plot(np.array(np.array(n_liq)[:,16]), np.array(y_data), 'r+')\n",
    "plt.plot(np.array(np.array([n_liq[i] for i in selection])[:,16]), np.array([y_data[i] for i in selection]), 'ko')\n",
    "plt.ylabel('residual')\n",
    "plt.xlabel('X ZrSiO4')\n",
    "plt.tight_layout()\n",
    "plt.show()"
   ]
  },
  {
   "cell_type": "markdown",
   "metadata": {},
   "source": [
    "Examine residuals (zircon affinity) dependence on alkali content"
   ]
  },
  {
   "cell_type": "code",
   "execution_count": null,
   "metadata": {},
   "outputs": [],
   "source": [
    "plt.figure(figsize=(15,5))\n",
    "plt.subplot(1,2,1)\n",
    "plt.plot([min(np.array(n_liq)[:,11]),max(np.array(n_liq)[:,11])], [0.0,0.0], 'g-')\n",
    "plt.plot(np.array(np.array(n_liq)[:,11]), np.array(y_data), 'r+')\n",
    "plt.plot(np.array(np.array([n_liq[i] for i in selection])[:,11]), np.array([y_data[i] for i in selection]), 'ko')\n",
    "plt.ylabel('residual')\n",
    "plt.xlabel('X Na2SiO3')\n",
    "plt.subplot(1,2,2)\n",
    "plt.plot([min(np.array(n_liq)[:,12]),max(np.array(n_liq)[:,12])], [0.0,0.0], 'g-')\n",
    "plt.plot(np.array(np.array(n_liq)[:,12]), np.array(y_data), 'r+')\n",
    "plt.plot(np.array(np.array([n_liq[i] for i in selection])[:,12]), np.array([y_data[i] for i in selection]), 'ko')\n",
    "plt.ylabel('residual')\n",
    "plt.xlabel('X KAlSiO4')\n",
    "plt.tight_layout()\n",
    "plt.show()"
   ]
  },
  {
   "cell_type": "markdown",
   "metadata": {},
   "source": [
    "Examine residuals (zircon affinity) dependence on temperature"
   ]
  },
  {
   "cell_type": "code",
   "execution_count": null,
   "metadata": {},
   "outputs": [],
   "source": [
    "plt.figure(figsize=(15,5))\n",
    "plt.plot([min(t_data)-273.15,max(t_data)-273.15], [0.0,0.0], 'g-')\n",
    "plt.plot(np.array(t_data)-273.15, np.array(y_data), 'r+')\n",
    "plt.plot(np.array([t_data[i] for i in selection])-273.15, np.array([y_data[i] for i in selection]), 'ko')\n",
    "plt.ylabel('residual')\n",
    "plt.xlabel('T °C')\n",
    "plt.show()"
   ]
  },
  {
   "cell_type": "markdown",
   "metadata": {},
   "source": [
    "Examine Zr-speciation"
   ]
  },
  {
   "cell_type": "code",
   "execution_count": null,
   "metadata": {},
   "outputs": [],
   "source": [
    "plt.figure(figsize=(15,5))\n",
    "plt.subplot(1,3,1)\n",
    "plt.plot(np.array(x_data), np.array(n_liq)[:,16], 'r+')\n",
    "plt.plot(np.array([x_data[i] for i in selection]), np.array([n_liq[i] for i in selection])[:,16], 'ko')\n",
    "plt.ylabel('n ZrSiO4')\n",
    "plt.xlabel('index')\n",
    "plt.subplot(1,3,2)\n",
    "plt.plot(np.array(x_data), np.array(s_liq)[:,1], 'r+')\n",
    "plt.plot(np.array([x_data[i] for i in selection]), np.array([s_liq[i] for i in selection])[:,1], 'ko')\n",
    "plt.ylabel('n Na4ZrSi2O8')\n",
    "plt.xlabel('index')\n",
    "plt.subplot(1,3,3)\n",
    "plt.plot(np.array(x_data), np.array(s_liq)[:,2], 'r+')\n",
    "plt.plot(np.array([x_data[i] for i in selection]), np.array([s_liq[i] for i in selection])[:,2], 'ko')\n",
    "plt.ylabel('n K4ZrSi2O8')\n",
    "plt.xlabel('index')\n",
    "plt.tight_layout()\n",
    "plt.show()"
   ]
  },
  {
   "cell_type": "code",
   "execution_count": null,
   "metadata": {},
   "outputs": [],
   "source": [
    "plt.figure(figsize=(15,5))\n",
    "plt.subplot(1,2,1)\n",
    "plt.semilogy(np.array(x_data), np.array(n_liq)[:,16], 'r+', label='ZrSiO4')\n",
    "plt.semilogy(np.array(x_data), np.array(s_liq)[:,1],  'g+', label='Na4ZrSi2O8')\n",
    "plt.semilogy(np.array(x_data), np.array(s_liq)[:,2],  'b+', label='K4ZrSi2O8')\n",
    "plt.semilogy(np.array([x_data[i] for i in selection]), np.array([n_liq[i] for i in selection])[:,16], 'ro')\n",
    "plt.semilogy(np.array([x_data[i] for i in selection]), np.array([s_liq[i] for i in selection])[:,1],  'go')\n",
    "plt.semilogy(np.array([x_data[i] for i in selection]), np.array([s_liq[i] for i in selection])[:,2],  'bo')\n",
    "plt.ylabel('n Zr species')\n",
    "plt.xlabel('index')\n",
    "plt.legend()\n",
    "plt.subplot(1,2,2)\n",
    "plt.semilogy(np.array(x_data), np.array(s_liq)[:,1],  'g+')\n",
    "plt.semilogy(np.array([x_data[i] for i in selection]), np.array([s_liq[i] for i in selection])[:,1],  'go')\n",
    "plt.ylabel('n Na4ZrSi2O8')\n",
    "plt.xlabel('index')\n",
    "plt.tight_layout()\n",
    "plt.show()"
   ]
  },
  {
   "cell_type": "code",
   "execution_count": null,
   "metadata": {},
   "outputs": [],
   "source": [
    "plt.figure(figsize=(15,5))\n",
    "plt.subplot(1,2,1)\n",
    "plt.semilogy(np.array(n_liq)[:,11], np.array(n_liq)[:,16], 'r+', label='ZrSiO4')\n",
    "plt.semilogy(np.array(n_liq)[:,11], np.array(s_liq)[:,1],  'g+', label='Na4ZrSi2O8')\n",
    "plt.semilogy(np.array(n_liq)[:,11], np.array(s_liq)[:,2],  'b+', label='K4ZrSi2O8')\n",
    "plt.semilogy(np.array([n_liq[i] for i in selection])[:,11], np.array([n_liq[i] for i in selection])[:,16], 'ro')\n",
    "plt.semilogy(np.array([n_liq[i] for i in selection])[:,11], np.array([s_liq[i] for i in selection])[:,1],  'go')\n",
    "plt.semilogy(np.array([n_liq[i] for i in selection])[:,11], np.array([s_liq[i] for i in selection])[:,2],  'bo')\n",
    "plt.ylabel('n Zr species')\n",
    "plt.xlabel('n Na2SiO3')\n",
    "plt.legend()\n",
    "plt.subplot(1,2,2)\n",
    "plt.semilogy(np.array(n_liq)[:,11], np.array(s_liq)[:,1],  'g+')\n",
    "plt.semilogy(np.array([n_liq[i] for i in selection])[:,11], np.array([s_liq[i] for i in selection])[:,1],  'go')\n",
    "plt.ylabel('n Na4ZrSi2O8')\n",
    "plt.xlabel('n Na2SiO3')\n",
    "plt.tight_layout()\n",
    "plt.show()"
   ]
  },
  {
   "cell_type": "code",
   "execution_count": null,
   "metadata": {},
   "outputs": [],
   "source": [
    "plt.figure(figsize=(15,5))\n",
    "plt.subplot(1,2,1)\n",
    "plt.semilogy(np.array(n_liq)[:,12], np.array(n_liq)[:,16], 'r+', label='ZrSiO4')\n",
    "plt.semilogy(np.array(n_liq)[:,12], np.array(s_liq)[:,1],  'g+', label='Na4ZrSi2O8')\n",
    "plt.semilogy(np.array(n_liq)[:,12], np.array(s_liq)[:,2],  'b+', label='K4ZrSi2O8')\n",
    "plt.semilogy(np.array([n_liq[i] for i in selection])[:,12], np.array([n_liq[i] for i in selection])[:,16], 'ro')\n",
    "plt.semilogy(np.array([n_liq[i] for i in selection])[:,12], np.array([s_liq[i] for i in selection])[:,1],  'go')\n",
    "plt.semilogy(np.array([n_liq[i] for i in selection])[:,12], np.array([s_liq[i] for i in selection])[:,2],  'bo')\n",
    "plt.ylabel('n Zr species')\n",
    "plt.xlabel('n KAlSiO4')\n",
    "plt.legend()\n",
    "plt.subplot(1,2,2)\n",
    "plt.semilogy(np.array(n_liq)[:,12], np.array(s_liq)[:,2],  'b+')\n",
    "plt.semilogy(np.array([n_liq[i] for i in selection])[:,12], np.array([s_liq[i] for i in selection])[:,2],  'bo')\n",
    "plt.ylabel('n K4ZrSi2O8')\n",
    "plt.xlabel('n KAlSiO4')\n",
    "plt.tight_layout()\n",
    "plt.show()"
   ]
  },
  {
   "cell_type": "markdown",
   "metadata": {},
   "source": [
    "Select Watson (1979) data points for inclusion in final data fit"
   ]
  },
  {
   "cell_type": "code",
   "execution_count": null,
   "metadata": {},
   "outputs": [],
   "source": [
    "#selection = [name.index('PPK(g)'), name.index('PK(g)'), name.index('KPK(g)'), name.index('K(g)')]\n",
    "selection = []"
   ]
  },
  {
   "cell_type": "code",
   "execution_count": null,
   "metadata": {},
   "outputs": [],
   "source": [
    "name_all   += [name[i] for i in selection]\n",
    "x_data_all += [x_data[i] for i in selection]\n",
    "y_data_all += [y_data[i] for i in selection]\n",
    "n_liq_all  += [n_liq[i] for i in selection]\n",
    "s_liq_all  += [s_liq[i] for i in selection]\n",
    "t_data_all += [t_data[i] for i in selection]\n",
    "p_data_all += [p_data[i] for i in selection]\n",
    "s_data_all += [s_data[i] for i in selection]\n",
    "y_est_all  += [y_est[i] for i in selection]\n",
    "y_con_all  += [y_con[i] for i in selection]\n",
    "y_ref_all  += [y_ref[i] for i in selection]"
   ]
  },
  {
   "cell_type": "code",
   "execution_count": null,
   "metadata": {},
   "outputs": [],
   "source": [
    "plt.figure(figsize=(15,5))\n",
    "plt.plot(np.array([2*x[11]/x[12] for x in n_liq_all]), np.array([y[1]/y[2] for y in s_liq_all]), 'r+')\n",
    "plt.plot(np.array([0,5]), np.array([0,5]), 'g-')\n",
    "plt.ylabel('n Na4ZrSi2O8 / n K4ZrSi2O8')\n",
    "plt.xlabel('n 2*Na2SiO3 / n KAlSiO4')\n",
    "plt.show()"
   ]
  },
  {
   "cell_type": "markdown",
   "metadata": {},
   "source": [
    "## Optimize parameters from experimental data sets\n",
    "Note that this process resets the parameter array to the resulting optimization"
   ]
  },
  {
   "cell_type": "code",
   "execution_count": null,
   "metadata": {},
   "outputs": [],
   "source": [
    "def res_func(x, t_data, p_data, n_liq, \n",
    "             ref_param_values, rMELTS_ZR, adj_H_ZrSiO4, adj_S_ZrSiO4, adj_V_ZrSiO4, use_weighting, \n",
    "             use_priors, prior_weight, \n",
    "             zirconium_min_affinities):\n",
    "    y = []\n",
    "    priors = []\n",
    "    rMELTS_ZR.cy_Liquid_rMELTS_ZR_set_param_value(5,  ref_param_values[ 5] + adj_H_ZrSiO4 - 225000.0 + x[0]) # Na4ZrSi2O8\n",
    "    rMELTS_ZR.cy_Liquid_rMELTS_ZR_set_param_value(6,  ref_param_values[ 6] + adj_S_ZrSiO4            + x[3])\n",
    "    rMELTS_ZR.cy_Liquid_rMELTS_ZR_set_param_value(7,  ref_param_values[ 7] + adj_V_ZrSiO4            + x[4])\n",
    "    rMELTS_ZR.cy_Liquid_rMELTS_ZR_set_param_value(8,  ref_param_values[ 8] + adj_H_ZrSiO4 -  75000.0 + x[1]) # K4ZrSi2O8\n",
    "    rMELTS_ZR.cy_Liquid_rMELTS_ZR_set_param_value(9,  ref_param_values[ 9] + adj_S_ZrSiO4            + x[3])\n",
    "    rMELTS_ZR.cy_Liquid_rMELTS_ZR_set_param_value(10, ref_param_values[10] + adj_V_ZrSiO4            + x[4])\n",
    "    rMELTS_ZR.cy_Liquid_rMELTS_ZR_set_param_value(11, ref_param_values[11] + adj_H_ZrSiO4            + x[2]) # ZrSiO4\n",
    "    rMELTS_ZR.cy_Liquid_rMELTS_ZR_set_param_value(12, ref_param_values[12] + adj_S_ZrSiO4            + x[3])\n",
    "    rMELTS_ZR.cy_Liquid_rMELTS_ZR_set_param_value(13, ref_param_values[13] + adj_V_ZrSiO4            + x[4])\n",
    "    for t, p, n in zip(t_data, p_data, n_liq):\n",
    "        mu = rMELTS_ZR.cy_Liquid_rMELTS_ZR_calib_dgdn(t, p, n)\n",
    "        s = rMELTS_ZR.cy_Liquid_rMELTS_ZR_order_params(t, p, n)\n",
    "        affinity = zirconium_min_affinities(t, p, mu, print_results=False)[0]\n",
    "        weight = 1.0 \n",
    "        if use_weighting:\n",
    "            weight = ((2*n[11]/n[12])/(s[1]/s[2]) + (s[1]/s[2])/(2*n[11]/n[12]))/2  # += (2*n[11]/n[12] - s[1]/s[2])**2\n",
    "        y.append(affinity*weight)\n",
    "        if use_priors:\n",
    "            priors.append(prior_weight*np.log((2*n[11]/n[12])/(s[1]/s[2])))\n",
    "    return np.array(y+priors)"
   ]
  },
  {
   "cell_type": "markdown",
   "metadata": {},
   "source": [
    "Bayesian prior: $w_p \\log \\left( \\frac{ \\frac{2 n_{12}}{n_{13}} }{ \\frac{y_{19}}{y_{20}} } \\right)$ to impose Watson's Na/K observation"
   ]
  },
  {
   "cell_type": "code",
   "execution_count": null,
   "metadata": {},
   "outputs": [],
   "source": [
    "use_weighting = False\n",
    "use_priors = True\n",
    "prior_weight = 2500.0\n",
    "#\n",
    "# perform fit\n",
    "fit_res = sci.optimize.least_squares(res_func, \n",
    "                                     [0.0, 0.0, -50000.0, 0, 0],\n",
    "                                     bounds=(np.array([ -np.inf, -np.inf, -np.inf, -np.inf, -np.inf]), \n",
    "                                             np.array([  np.inf,  np.inf,  np.inf,  np.inf,  np.inf])\n",
    "                                            ),\n",
    "                                     jac='3-point',\n",
    "                                     method='trf',\n",
    "                                     ftol=None, gtol=1.0e-8,\n",
    "                                     args=(t_data_all, p_data_all, n_liq_all, ref_param_values, rMELTS_ZR, \n",
    "                                           adj_H_ZrSiO4, adj_S_ZrSiO4, adj_V_ZrSiO4, use_weighting, use_priors, \n",
    "                                           prior_weight, zirconium_min_affinities),\n",
    "                                     verbose=2)\n",
    "#\n",
    "# recalculate residuals associated with the reaction affinity\n",
    "y_data_rev = res_func(fit_res.x, t_data_all, p_data_all, n_liq_all, \n",
    "                      ref_param_values, rMELTS_ZR, adj_H_ZrSiO4, adj_S_ZrSiO4, adj_V_ZrSiO4, False, False, \n",
    "                      prior_weight, zirconium_min_affinities)\n",
    "rms_residuals = np.sqrt(np.mean(y_data_rev**2))\n",
    "#\n",
    "# sigma is calculated from teh full Jacobian, including rows associated with priors\n",
    "sigma = np.sqrt(np.diagonal(np.linalg.inv(2*np.matmul(fit_res.jac.T, fit_res.jac)))*rms_residuals**2)\n",
    "print ('X:', fit_res.x)\n",
    "print ('grad', fit_res.grad)\n",
    "print ('Optimality:', fit_res.optimality)\n",
    "print ('nfev:', fit_res.nfev)\n",
    "print ('njev:', fit_res.njev)\n",
    "print ('status:', fit_res.status)\n",
    "print ('message:', fit_res.message)\n",
    "print ('success:', fit_res.success)\n",
    "print ('rms of affinity residuals', rms_residuals)\n",
    "print ('H Na4ZrSi2O8 old: {0:12.2f} new: {1:12.2f} dif: {2:12.2f} param: {3:12.2f} sigma: {4:12.5g}'.format(\n",
    "    ref_param_values[ 5] + adj_H_ZrSiO4 - 225000.0, \n",
    "    ref_param_values[ 5] + adj_H_ZrSiO4 - 225000.0 + fit_res.x[0],\n",
    "    fit_res.x[0], - 225000.0 + fit_res.x[0], sigma[0]))\n",
    "print ('H K4ZrSi2O8  old: {0:12.2f} new: {1:12.2f} dif: {2:12.2f} param: {3:12.2f} sigma: {4:12.5g}'.format(\n",
    "    ref_param_values[ 8] + adj_H_ZrSiO4 -  75000.0, \n",
    "    ref_param_values[ 8] + adj_H_ZrSiO4 -  75000.0 + fit_res.x[1], \n",
    "    fit_res.x[1], -  75000.0 + fit_res.x[1], sigma[1]))\n",
    "print ('H ZrSiO4     old: {0:12.2f} new: {1:12.2f} dif: {2:12.2f} param: {3:12.2f} sigma: {4:12.5g}'.format(\n",
    "    ref_param_values[11] + adj_H_ZrSiO4,\n",
    "    ref_param_values[11] + adj_H_ZrSiO4 + fit_res.x[2],\n",
    "    fit_res.x[2], adj_H_ZrSiO4 + fit_res.x[2], sigma[2]))\n",
    "print ('S ZrSiO4     old: {0:12.2f} new: {1:12.2f} dif: {2:12.2f} param: {3:12.2f} sigma: {4:12.5g}'.format(\n",
    "    ref_param_values[12] + adj_S_ZrSiO4,\n",
    "    ref_param_values[12] + adj_S_ZrSiO4 + fit_res.x[3],\n",
    "    fit_res.x[3], adj_S_ZrSiO4 + fit_res.x[3], sigma[3]))\n",
    "print ('V ZrSiO4     old: {0:12.2f} new: {1:12.2f} dif: {2:12.2f} param: {3:12.2f} sigma: {4:12.5g}'.format(\n",
    "    ref_param_values[13] + adj_V_ZrSiO4,\n",
    "    ref_param_values[13] + adj_V_ZrSiO4 + fit_res.x[4],\n",
    "    fit_res.x[4], adj_V_ZrSiO4 + fit_res.x[4], sigma[4]))\n",
    "print ('S Na4ZrSi2O8 old: {0:12.2f} new: {1:12.2f} dif: {2:12.2f} param: {3:12.2f} sigma: {4:12.5g}'.format(\n",
    "    ref_param_values[ 6] + adj_S_ZrSiO4,\n",
    "    ref_param_values[ 6] + adj_S_ZrSiO4 + fit_res.x[3],\n",
    "    fit_res.x[3], 0.0, sigma[3]))\n",
    "print ('V Na4ZrSi2O8 old: {0:12.2f} new: {1:12.2f} dif: {2:12.2f} param: {3:12.2f} sigma: {4:12.5g}'.format(\n",
    "    ref_param_values[ 7] + adj_V_ZrSiO4,\n",
    "    ref_param_values[ 7] + adj_V_ZrSiO4 + fit_res.x[4],\n",
    "    fit_res.x[4], 0.0, sigma[4]))\n",
    "print ('S K4ZrSi2O8  old: {0:12.2f} new: {1:12.2f} dif: {2:12.2f} param: {3:12.2f} sigma: {4:12.5g}'.format(\n",
    "    ref_param_values[ 9] + adj_S_ZrSiO4,\n",
    "    ref_param_values[ 9] + adj_S_ZrSiO4 + fit_res.x[3],\n",
    "    fit_res.x[3], 0.0, sigma[3]))\n",
    "print ('V K4ZrSi2O8  old: {0:12.2f} new: {1:12.2f} dif: {2:12.2f} param: {3:12.2f} sigma: {4:12.5g}'.format(\n",
    "    ref_param_values[10] + adj_V_ZrSiO4,\n",
    "    ref_param_values[10] + adj_V_ZrSiO4 + fit_res.x[4],\n",
    "    fit_res.x[4], 0.0, sigma[4]))"
   ]
  },
  {
   "cell_type": "markdown",
   "metadata": {},
   "source": [
    "Construct a parameter correlation matrix from the Jacobian evaluated at the optimal solution"
   ]
  },
  {
   "cell_type": "code",
   "execution_count": null,
   "metadata": {},
   "outputs": [],
   "source": [
    "print ('Estimated parameter correlation matrix:')\n",
    "cov_mat = np.linalg.inv(2*np.matmul(fit_res.jac.T, fit_res.jac))*rms_residuals**2\n",
    "labl = ['', 'H Na4', 'H K4', 'H Zr', 'S Zr', 'V Zr']\n",
    "for x in labl:\n",
    "    print ('{0:>12.12s}'.format(x), end=' ')\n",
    "print ('')\n",
    "for i,row in enumerate(cov_mat):\n",
    "    print ('{0:>12.12s}'.format(labl[i+1]), end=' ')\n",
    "    for j,col in enumerate(row):\n",
    "        print ('{0:12.6g}'.format(col/sigma[i]/sigma[j]), end=' ')\n",
    "    print ('')"
   ]
  },
  {
   "cell_type": "markdown",
   "metadata": {},
   "source": [
    "Decompose the Jacobian (evaluated at the optimal solution) using singular value analysis"
   ]
  },
  {
   "cell_type": "code",
   "execution_count": null,
   "metadata": {},
   "outputs": [],
   "source": [
    "u,s,vT = np.linalg.svd(fit_res.jac)\n",
    "for col in s:\n",
    "    print ('{0:13.6g}'.format(col), end=' ')\n",
    "print ('')\n",
    "print ('')\n",
    "for row in vT.T:\n",
    "    for col in row:\n",
    "        print ('{0:13.6g}'.format(col), end=' ')\n",
    "    print ('')"
   ]
  },
  {
   "cell_type": "markdown",
   "metadata": {},
   "source": [
    "Residual statistics (compared to guessed parameter fit)"
   ]
  },
  {
   "cell_type": "code",
   "execution_count": null,
   "metadata": {},
   "outputs": [],
   "source": [
    "print ('Average residual before: {0:13.6g} fit: {1:13.6g} fit+prior: {2:13.6g}'.format(np.mean(np.array(y_data_all)), np.mean(y_data_rev), np.mean(fit_res.fun)))\n",
    "print ('Std Dev residual before: {0:13.6g} fit: {1:13.6g} fit+prior: {2:13.6g}'.format(np.std(np.array(y_data_all)),  np.std(y_data_rev),  np.std(fit_res.fun)))"
   ]
  },
  {
   "cell_type": "markdown",
   "metadata": {},
   "source": [
    "Monte Carlo analysis of parameter variance"
   ]
  },
  {
   "cell_type": "code",
   "execution_count": null,
   "metadata": {},
   "outputs": [],
   "source": [
    "deviates = np.random.multivariate_normal(fit_res.x, cov_mat, size=100)\n",
    "plt.figure(figsize=(20,5))\n",
    "plt.subplot(1,5,1)\n",
    "plt.hist(deviates[:,0], orientation='horizontal')\n",
    "plt.title('H Na4ZrSi2O8')\n",
    "plt.subplot(1,5,2)\n",
    "plt.hist(deviates[:,1], orientation='horizontal')\n",
    "plt.title('H K4ZrSi2O8')\n",
    "plt.subplot(1,5,3)\n",
    "plt.hist(deviates[:,2], orientation='horizontal')\n",
    "plt.title('H ZrSiO4')\n",
    "plt.subplot(1,5,4)\n",
    "plt.hist(deviates[:,3], orientation='horizontal')\n",
    "plt.title('S ZrSiO4')\n",
    "plt.subplot(1,5,5)\n",
    "plt.hist(deviates[:,4], orientation='horizontal')\n",
    "plt.title('V ZrSiO4')\n",
    "plt.tight_layout()\n",
    "plt.show()"
   ]
  },
  {
   "cell_type": "markdown",
   "metadata": {},
   "source": [
    "Recompute speciation and plot Na/K ratio of Zr species against Na/K bulk composition ratio"
   ]
  },
  {
   "cell_type": "code",
   "execution_count": null,
   "metadata": {},
   "outputs": [],
   "source": [
    "s_revised = []\n",
    "for t, p, n in zip(t_data_all, p_data_all, n_liq_all):\n",
    "    s_revised.append(rMELTS_ZR.cy_Liquid_rMELTS_ZR_order_params(t, p, n))\n",
    "s_revised = s_revised\n",
    "fig = plt.figure(figsize=(15,10))\n",
    "plt.loglog(np.array([2*x[11]/x[12] for x in n_liq_all]), np.array([y[1]/y[2] for y in s_revised]), 'r+')\n",
    "plt.loglog(np.array([0,5]), np.array([0,5]), 'g-')\n",
    "plt.ylabel('Na/K species ratio')\n",
    "plt.xlabel('Na/K reported ratio')\n",
    "plt.grid(True)\n",
    "plt.xticks([0.5,0.6,0.7,0.8,0.9,1,2,3,4,5],\n",
    "           ['','0.6','0.7','0.8','0.9','1','2','3','4','5'])\n",
    "plt.yticks([0.1,0.2,0.3,0.4,0.5,0.6,0.7,0.8,0.9,1,2,3,4,5,6,7,8,9,10,20,30,40,50,60,70,80,90,100],\n",
    "          ['0.1','','','','0.5','','','','','1','','','','5','','','','','10','','','','50','','','','','100'])\n",
    "#plt.ylim(0,5)\n",
    "plt.show()\n",
    "fig.savefig(\"Figure_Na_K.pdf\", bbox_inches='tight')"
   ]
  },
  {
   "cell_type": "markdown",
   "metadata": {},
   "source": [
    "Estimate zirconium content by zeroing the residuals"
   ]
  },
  {
   "cell_type": "code",
   "execution_count": null,
   "metadata": {},
   "outputs": [],
   "source": [
    "Zr_meas = []\n",
    "Zr_pred = []\n",
    "def residual(log_Zr_est, t, p, nLiq):\n",
    "    Zr_est = np.exp(log_Zr_est)\n",
    "    wtZrO2_est = 100.0*123.218*Zr_est/91.224/1000000.0\n",
    "    elm_est = rMELTS_ZR.cy_Liquid_rMELTS_ZR_calib_conv_moles_to_elm(nLiq)\n",
    "    Zr_old = elm_est[core.chem.PERIODIC_ORDER.tolist().index('Zr')]\n",
    "    elm_est[core.chem.PERIODIC_ORDER.tolist().index('Zr')] -= Zr_old\n",
    "    elm_est[core.chem.PERIODIC_ORDER.tolist().index('O')]  -= 2.0*Zr_old\n",
    "    elm_est[core.chem.PERIODIC_ORDER.tolist().index('Zr')] += wtZrO2_est/123.218\n",
    "    elm_est[core.chem.PERIODIC_ORDER.tolist().index('O')]  += wtZrO2_est*2.0/123.218\n",
    "    n_est = rMELTS_ZR.cy_Liquid_rMELTS_ZR_calib_conv_elm_to_moles(elm_est)\n",
    "    mu_est= rMELTS_ZR.cy_Liquid_rMELTS_ZR_calib_dgdn(t,p,n_est)\n",
    "    result = zirconium_min_affinities(t, p, mu_est, print_results=False)[0]\n",
    "    return result\n",
    "#\n",
    "for t_in, p_in, n_in, y_ref in zip(t_data_all, p_data_all, n_liq_all, y_ref_all):\n",
    "    try:\n",
    "        sol = sci.optimize.root_scalar(residual, \n",
    "                                       args=(t_in, p_in, n_in),\n",
    "                                       rtol=1.e-5,\n",
    "                                       bracket=[0,10],\n",
    "                                       method='brentq',\n",
    "                                       maxiter=50)\n",
    "        print (sol)\n",
    "        Zr_pred.append(np.exp(sol.root))\n",
    "        Zr_meas.append(91.224*1000000.0*y_ref/123.218/100.0)\n",
    "    except ValueError:\n",
    "        print ('Solution not within brackets')"
   ]
  },
  {
   "cell_type": "code",
   "execution_count": null,
   "metadata": {},
   "outputs": [],
   "source": [
    "fig = plt.figure(figsize=(15,10))\n",
    "#plt.subplot(1,2,1)\n",
    "plt.loglog(np.array(Zr_meas), np.array(Zr_pred), 'r+')\n",
    "plt.loglog(np.array([100,10000]), np.array([100, 10000]), 'g-')\n",
    "plt.ylabel('Zr PPM predicted value')\n",
    "plt.xlabel('Zr PPM reported value')\n",
    "plt.grid(True)\n",
    "plt.xticks([100,200,300,400,500,600,700,800,900,1000,2000,3000,4000,5000,6000,7000,8000,9000,10000],\n",
    "           ['100','','','','500','','','','','1000','','','','5000','','','','','10000'])\n",
    "plt.yticks([100,200,300,400,500,600,700,800,900,1000,2000,3000,4000,5000,6000,7000,8000,9000,10000],\n",
    "           ['100','','','','500','','','','','1000','','','','5000','','','','','10000'])\n",
    "#plt.tight_layout()\n",
    "plt.show()\n",
    "fig.savefig(\"Figure_Zr_Zr.pdf\", bbox_inches='tight')"
   ]
  },
  {
   "cell_type": "markdown",
   "metadata": {},
   "source": [
    "If the priors constraints are imposed, compare affinity resiudlas and prior residuals"
   ]
  },
  {
   "cell_type": "code",
   "execution_count": null,
   "metadata": {},
   "outputs": [],
   "source": [
    "if use_priors:\n",
    "    jac_rows = int(fit_res.fun.shape[0]/2)\n",
    "    fig = plt.figure(figsize=(15,10))\n",
    "    plt.subplot(2,2,1)\n",
    "    plt.plot(np.array(n_liq_all)[:,11], fit_res.fun[:jac_rows], 'r+', label='affin')\n",
    "    plt.plot(np.array(n_liq_all)[:,11], fit_res.fun[jac_rows:], 'b+', label='prior')\n",
    "    plt.xlabel('n Na2SiO3')\n",
    "    plt.ylabel('residual')\n",
    "    plt.grid(True)\n",
    "    plt.legend()\n",
    "    plt.subplot(2,2,2)\n",
    "    plt.plot(np.array(n_liq_all)[:,12], fit_res.fun[:jac_rows], 'r+', label='affin')\n",
    "    plt.plot(np.array(n_liq_all)[:,12], fit_res.fun[jac_rows:], 'b+', label='prior')\n",
    "    plt.xlabel('n KAlSiO4')\n",
    "    plt.ylabel('residual')\n",
    "    plt.grid(True)\n",
    "    plt.legend()\n",
    "    plt.subplot(2,2,3)\n",
    "    plt.plot(np.array(t_data_all), fit_res.fun[:jac_rows], 'r+', label='affin')\n",
    "    plt.plot(np.array(t_data_all), fit_res.fun[jac_rows:], 'b+', label='prior')\n",
    "    plt.xlabel('T (K)')\n",
    "    plt.ylabel('residual')\n",
    "    plt.grid(True)\n",
    "    plt.legend()\n",
    "    plt.subplot(2,2,4)\n",
    "    plt.plot(np.array(p_data_all), fit_res.fun[:jac_rows], 'r+', label='affin')\n",
    "    plt.plot(np.array(p_data_all), fit_res.fun[jac_rows:], 'b+', label='prior')\n",
    "    plt.xlabel('P (bars)')\n",
    "    plt.ylabel('residual')\n",
    "    plt.grid(True)\n",
    "    plt.legend()\n",
    "    plt.tight_layout()\n",
    "    plt.show\n",
    "    fig.savefig(\"Figure_Residuals.pdf\", bbox_inches='tight')"
   ]
  },
  {
   "cell_type": "markdown",
   "metadata": {},
   "source": [
    "Compared guessed parameter residuals (x axis) against optimized parameter residuals (y axis)"
   ]
  },
  {
   "cell_type": "code",
   "execution_count": null,
   "metadata": {},
   "outputs": [],
   "source": [
    "plt.figure(figsize=(15,5))\n",
    "#plt.subplot(1,2,1)\n",
    "plt.plot(np.array([x for i,x in enumerate(y_data_all) if auth_dat[i] == 1]), \n",
    "         np.array([x for i,x in enumerate(y_data_rev) if auth_dat[i] == 1]), 'r+')\n",
    "plt.plot(np.array([x for i,x in enumerate(y_data_all) if auth_dat[i] == 2]), \n",
    "         np.array([x for i,x in enumerate(y_data_rev) if auth_dat[i] == 2]), 'b+')\n",
    "plt.plot(np.array([x for i,x in enumerate(y_data_all) if auth_dat[i] == 3]), \n",
    "         np.array([x for i,x in enumerate(y_data_rev) if auth_dat[i] == 3]), 'k+')\n",
    "plt.plot(np.array([y_data_all[i] for i in selection]), \n",
    "         np.array([fit_res.fun[i] for i in selection]), 'ko')\n",
    "plt.plot(np.array([-10000,10000]), np.array([-10000, 10000]), 'g-')\n",
    "plt.ylabel('fit residual')\n",
    "plt.xlabel('inp residual')\n",
    "#plt.tight_layout()\n",
    "plt.show()"
   ]
  },
  {
   "cell_type": "markdown",
   "metadata": {},
   "source": [
    "Compare temperature correlation to residuals (zircon affinities) calculated using parameter guesses and parameter fit"
   ]
  },
  {
   "cell_type": "code",
   "execution_count": null,
   "metadata": {},
   "outputs": [],
   "source": [
    "plt.figure(figsize=(15,5))\n",
    "plt.subplot(1,2,1)\n",
    "plt.plot(np.array([x for i,x in enumerate(t_data_all) if auth_dat[i] == 1]), \n",
    "         np.array([x for i,x in enumerate(y_data_all) if auth_dat[i] == 1]), 'r+')\n",
    "plt.plot(np.array([x for i,x in enumerate(t_data_all) if auth_dat[i] == 2]), \n",
    "         np.array([x for i,x in enumerate(y_data_all) if auth_dat[i] == 2]), 'b+')\n",
    "plt.plot(np.array([x for i,x in enumerate(t_data_all) if auth_dat[i] == 3]), \n",
    "         np.array([x for i,x in enumerate(y_data_all) if auth_dat[i] == 3]), 'k+')\n",
    "plt.plot(np.array([t_data_all[i] for i in selection]), \n",
    "         np.array([y_data_all[i] for i in selection]), 'ko')\n",
    "plt.plot(np.array([min(t_data_all), max(t_data_all)]), np.array([0, 0]), 'g-')\n",
    "plt.ylabel('fit residual')\n",
    "plt.xlabel('T (K)')\n",
    "plt.subplot(1,2,2)\n",
    "plt.plot(np.array([x for i,x in enumerate(t_data_all) if auth_dat[i] == 1]), \n",
    "         np.array([x for i,x in enumerate(y_data_rev) if auth_dat[i] == 1]), 'r+')\n",
    "plt.plot(np.array([x for i,x in enumerate(t_data_all) if auth_dat[i] == 2]), \n",
    "         np.array([x for i,x in enumerate(y_data_rev) if auth_dat[i] == 2]), 'b+')\n",
    "plt.plot(np.array([x for i,x in enumerate(t_data_all) if auth_dat[i] == 3]), \n",
    "         np.array([x for i,x in enumerate(y_data_rev) if auth_dat[i] == 3]), 'k+')\n",
    "plt.plot(np.array([t_data_all[i] for i in selection]), \n",
    "         np.array([fit_res.fun[i] for i in selection]), 'ko')\n",
    "plt.plot(np.array([min(t_data_all), max(t_data_all)]), np.array([0, 0]), 'g-')\n",
    "plt.ylabel('fit residual')\n",
    "plt.xlabel('T (K)')\n",
    "plt.tight_layout()\n",
    "plt.show()"
   ]
  },
  {
   "cell_type": "markdown",
   "metadata": {},
   "source": [
    "Compare pressure correlation to residuals (zircon affinities) calculated using parameter guesses and parameter fit"
   ]
  },
  {
   "cell_type": "code",
   "execution_count": null,
   "metadata": {},
   "outputs": [],
   "source": [
    "plt.figure(figsize=(15,5))\n",
    "plt.subplot(1,2,1)\n",
    "plt.plot(np.array([x for i,x in enumerate(p_data_all) if auth_dat[i] == 1]), \n",
    "         np.array([x for i,x in enumerate(y_data_all) if auth_dat[i] == 1]), 'r+')\n",
    "plt.plot(np.array([x for i,x in enumerate(p_data_all) if auth_dat[i] == 2]), \n",
    "         np.array([x for i,x in enumerate(y_data_all) if auth_dat[i] == 2]), 'b+')\n",
    "plt.plot(np.array([x for i,x in enumerate(p_data_all) if auth_dat[i] == 3]), \n",
    "         np.array([x for i,x in enumerate(y_data_all) if auth_dat[i] == 3]), 'k+')\n",
    "plt.plot(np.array([min(p_data_all), max(p_data_all)]), np.array([0, 0]), 'g-')\n",
    "plt.ylabel('fit residual')\n",
    "plt.xlabel('P (bars)')\n",
    "plt.subplot(1,2,2)\n",
    "plt.plot(np.array([x for i,x in enumerate(p_data_all) if auth_dat[i] == 1]), \n",
    "         np.array([x for i,x in enumerate(y_data_rev) if auth_dat[i] == 1]), 'r+')\n",
    "plt.plot(np.array([x for i,x in enumerate(p_data_all) if auth_dat[i] == 2]), \n",
    "         np.array([x for i,x in enumerate(y_data_rev) if auth_dat[i] == 2]), 'b+')\n",
    "plt.plot(np.array([x for i,x in enumerate(p_data_all) if auth_dat[i] == 3]), \n",
    "         np.array([x for i,x in enumerate(y_data_rev) if auth_dat[i] == 3]), 'k+')\n",
    "plt.plot(np.array([min(p_data_all), max(p_data_all)]), np.array([0, 0]), 'g-')\n",
    "plt.ylabel('fit residual')\n",
    "plt.xlabel('P (bars)')\n",
    "plt.tight_layout()\n",
    "plt.show()"
   ]
  },
  {
   "cell_type": "markdown",
   "metadata": {},
   "source": [
    "## Plot zircon saturation surface"
   ]
  },
  {
   "cell_type": "markdown",
   "metadata": {},
   "source": [
    "**Assemble a dictionary of interesting compositions**  \n",
    "\n",
    "- Bishop Tuff rhyolite composition is LBT from Gualda\n",
    "- Pantellerite composition is from Carmichael ISA, Turner FJ, Verhoogen J (1974) Igneous Petrology, McGraw-Hill, New York, 739pp; page 237, Table 5-1, column 1. Water content estimated at 2.5 wt% from ion-probe data reported in Lowenstern JB, Mahood GA (1991) New data on magmatic H<sub>2</sub>O contents of pantellerites, with implications for petrogenesis and eruptive dynamics of Pantelleria. Bulletin of Volcanology, 54, 78-83\n",
    "- Carmichael reports Zr concentration in the pantellerite is 1800 PPM \n",
    "- Trachyte, Phonolite in Carmichael, Turner and Verhoogen (1974), p36, Table 2-3\n",
    "- Dacite, in Carmichael, Turner and Verhoogen (1974), page 9\n",
    "- Madupite is LH.16 in Carmichael ISE (1967) The Mineralogy and Petrology of the Volcanic Rocks from the Leucite Hills, Wyoming. Contributions to Mineralogy and Petrology, 15, 24-66. It contains appreciable wadeite, Zr<sub>2</sub>K<sub>4</sub>Si<sub>6</sub>O<sub>18</sub>.  This rock has 0.27 wt% ZrO<sub>2</sub>. The Wyomingite is LH.3 . The rock has no Zr analysis but other wyomingites have 0.28 wt% ZrO<sub>2</sub>.  All the analyses are from Table 12 (page 50)."
   ]
  },
  {
   "cell_type": "code",
   "execution_count": null,
   "metadata": {},
   "outputs": [],
   "source": [
    "composition_d = {\n",
    "    'rhyolite': { # Bishop Tuff\n",
    "        'SiO2':  77.5, \n",
    "        'TiO2':   0.08, \n",
    "        'Al2O3': 12.5, \n",
    "        'Fe2O3':  0.207,\n",
    "        'Cr2O3':  0.0, \n",
    "        'FeO':    0.473, \n",
    "        'MnO':    0.0,\n",
    "        'MgO':    0.03, \n",
    "        'NiO':    0.0, \n",
    "        'CoO':    0.0,\n",
    "        'CaO':    0.43, \n",
    "        'Na2O':   3.98, \n",
    "        'K2O':    4.88, \n",
    "        'P2O5':   0.0, \n",
    "        'H2O':    5.5,\n",
    "        'CO2':    0.05\n",
    "    },\n",
    "    'Iceland-rhyolite': { # Carmichael, Turner and Verhoogen, p 237; 385 PPM Zr (p. 75)\n",
    "        'SiO2':  74.96, \n",
    "        'TiO2':   0.23, \n",
    "        'Al2O3': 12.55, \n",
    "        'Fe2O3':  1.72,\n",
    "        'Cr2O3':  0.0, \n",
    "        'FeO':    0.71, \n",
    "        'MnO':    0.04,\n",
    "        'MgO':    0.02, \n",
    "        'NiO':    0.0, \n",
    "        'CoO':    0.0,\n",
    "        'CaO':    0.90, \n",
    "        'Na2O':   4.41, \n",
    "        'K2O':    3.65, \n",
    "        'P2O5':   0.04, \n",
    "        'H2O':    5.5,\n",
    "        'CO2':    0.05\n",
    "    },\n",
    "    'California-rhyolite': { # Carmichael, Turner and Verhoogen, p 237\n",
    "        'SiO2':  75.04, \n",
    "        'TiO2':   0.07, \n",
    "        'Al2O3': 12.29, \n",
    "        'Fe2O3':  0.33,\n",
    "        'Cr2O3':  0.0, \n",
    "        'FeO':    0.71, \n",
    "        'MnO':    0.05,\n",
    "        'MgO':    0.04, \n",
    "        'NiO':    0.0, \n",
    "        'CoO':    0.0,\n",
    "        'CaO':    0.58, \n",
    "        'Na2O':   4.03, \n",
    "        'K2O':    4.66, \n",
    "        'P2O5':   0.01, \n",
    "        'H2O':    5.5,\n",
    "        'CO2':    0.05\n",
    "    },\n",
    "    'dacite': {\n",
    "        'SiO2':  63.58, \n",
    "        'TiO2':   0.64, \n",
    "        'Al2O3': 16.67, \n",
    "        'Fe2O3':  2.24,\n",
    "        'Cr2O3':  0.0, \n",
    "        'FeO':    3.00, \n",
    "        'MnO':    0.11,\n",
    "        'MgO':    2.12, \n",
    "        'NiO':    0.0, \n",
    "        'CoO':    0.0,\n",
    "        'CaO':    5.53, \n",
    "        'Na2O':   3.98, \n",
    "        'K2O':    1.40, \n",
    "        'P2O5':   0.0, \n",
    "        'H2O':    3.00,\n",
    "        'CO2':    0.05\n",
    "    },\n",
    "    'pantellerite': { # Pantellerite, Carmichael Turner and Verhoogen, p 237\n",
    "        'SiO2':  69.81, \n",
    "        'TiO2':   0.45, \n",
    "        'Al2O3':  8.59, \n",
    "        'Fe2O3':  2.28,\n",
    "        'Cr2O3':  0.0, \n",
    "        'FeO':    5.76, \n",
    "        'MnO':    0.28,\n",
    "        'MgO':    0.10, \n",
    "        'NiO':    0.0, \n",
    "        'CoO':    0.0,\n",
    "        'CaO':    0.42, \n",
    "        'Na2O':   6.46, \n",
    "        'K2O':    4.49, \n",
    "        'P2O5':   0.0, \n",
    "        'H2O':    2.5,\n",
    "        'CO2':    0.05\n",
    "    },\n",
    "    'comendite': { # Comendite, Carmichael Turner and Verhoogen, p 237\n",
    "        'SiO2':  73.06, \n",
    "        'TiO2':   0.23, \n",
    "        'Al2O3':  9.76, \n",
    "        'Fe2O3':  2.74,\n",
    "        'Cr2O3':  0.0, \n",
    "        'FeO':    2.70, \n",
    "        'MnO':    0.13,\n",
    "        'MgO':    0.10, \n",
    "        'NiO':    0.0, \n",
    "        'CoO':    0.0,\n",
    "        'CaO':    0.32, \n",
    "        'Na2O':   5.64, \n",
    "        'K2O':    4.34, \n",
    "        'P2O5':   0.02, \n",
    "        'H2O':    2.5,\n",
    "        'CO2':    0.05\n",
    "    },\n",
    "    'trachyte': {\n",
    "        'SiO2':  57.73, \n",
    "        'TiO2':   1.18, \n",
    "        'Al2O3': 17.05, \n",
    "        'Fe2O3':  2.55,\n",
    "        'Cr2O3':  0.0, \n",
    "        'FeO':    4.35, \n",
    "        'MnO':    0.28,\n",
    "        'MgO':    1.11, \n",
    "        'NiO':    0.0, \n",
    "        'CoO':    0.0,\n",
    "        'CaO':    3.10, \n",
    "        'Na2O':   6.81, \n",
    "        'K2O':    4.27, \n",
    "        'P2O5':   0.34, \n",
    "        'H2O':    1.0,\n",
    "        'CO2':    0.05\n",
    "    },\n",
    "    'phonolite': {\n",
    "        'SiO2':  54.55, \n",
    "        'TiO2':   1.60, \n",
    "        'Al2O3': 19.00, \n",
    "        'Fe2O3':  1.75,\n",
    "        'Cr2O3':  0.0, \n",
    "        'FeO':    3.78, \n",
    "        'MnO':    0.16,\n",
    "        'MgO':    1.76, \n",
    "        'NiO':    0.0, \n",
    "        'CoO':    0.0,\n",
    "        'CaO':    4.07, \n",
    "        'Na2O':   9.06, \n",
    "        'K2O':    3.64, \n",
    "        'P2O5':   0.20, \n",
    "        'H2O':    1.0,\n",
    "        'CO2':    0.05\n",
    "    },\n",
    "    'madupite': { # Leucite Hills, Wyoming\n",
    "        'SiO2':  43.56, \n",
    "        'TiO2':   2.31, \n",
    "        'Al2O3':  7.85, \n",
    "        'Fe2O3':  5.57,\n",
    "        'Cr2O3':  0.04, \n",
    "        'FeO':    0.85, \n",
    "        'MnO':    0.15,\n",
    "        'MgO':   11.03, \n",
    "        'NiO':    0.0, \n",
    "        'CoO':    0.0,\n",
    "        'CaO':   11.89, \n",
    "        'Na2O':   0.74, \n",
    "        'K2O':    7.19, \n",
    "        'P2O5':   1.50, \n",
    "        'H2O':    1.0,\n",
    "        'CO2':    0.05\n",
    "    },\n",
    "    'wyomingite': { # Leucite Hills, Wyoming\n",
    "        'SiO2':  50.23, \n",
    "        'TiO2':   2.27, \n",
    "        'Al2O3': 11.22, \n",
    "        'Fe2O3':  3.34,\n",
    "        'Cr2O3':  0.0, \n",
    "        'FeO':    1.84, \n",
    "        'MnO':    0.05,\n",
    "        'MgO':    7.09, \n",
    "        'NiO':    0.0, \n",
    "        'CoO':    0.0,\n",
    "        'CaO':    5.99, \n",
    "        'Na2O':   1.37, \n",
    "        'K2O':    9.81, \n",
    "        'P2O5':   1.89, \n",
    "        'H2O':    2.0,\n",
    "        'CO2':    0.05\n",
    "    }\n",
    "}"
   ]
  },
  {
   "cell_type": "markdown",
   "metadata": {},
   "source": [
    "Define a function to generate a zircon or badeyelite saturation plot"
   ]
  },
  {
   "cell_type": "code",
   "execution_count": null,
   "metadata": {},
   "outputs": [],
   "source": [
    "def generate_saturation_plot(phase='zircon', \n",
    "                             use_composition='rhyolite',\n",
    "                             p=2000.0,\n",
    "                             tmin=700.0,\n",
    "                             tmax=1000.0,\n",
    "                             tinc=25,\n",
    "                             ref_Zr_l=None, # list\n",
    "                             Zr_PPM_root_min=10.0,\n",
    "                             Zr_PPM_root_max=500000.0,\n",
    "                             print_steps=True,\n",
    "                             debug=False,\n",
    "                             deviates=None,\n",
    "                             deviate_plot_quantiles=False\n",
    "                            ):\n",
    "    global composition_d, core, plt, sci, np, rMELTS_ZR\n",
    "    #\n",
    "    grm_oxides = composition_d[use_composition]\n",
    "    elm_sys = ['H','O','Na','Mg','Al','Si','P','K','Ca','Ti','Cr','Mn','Fe','Co','Ni']\n",
    "    tot_grm_oxides = 0.0\n",
    "    for key in grm_oxides.keys():\n",
    "        tot_grm_oxides += grm_oxides[key]\n",
    "    mol_oxides = core.chem.format_mol_oxide_comp(grm_oxides, convert_grams_to_moles=True)\n",
    "    mol_elm = core.chem.mol_oxide_to_elem(mol_oxides)\n",
    "    elm_ref = np.zeros(107)\n",
    "    for i,sym in enumerate(\n",
    "        ['Si', 'Ti', 'Al', 'Fe', 'Cr', 'Mn', 'Mg', 'Ni', 'Co', 'Ca', 'Na', 'K', 'P', 'H', 'C', 'O']):\n",
    "        index = core.chem.PERIODIC_ORDER.tolist().index(sym)\n",
    "        elm_ref[index] = mol_elm[i]\n",
    "    #\n",
    "    # Function used by minimizer\n",
    "    def zero(x):\n",
    "        global rMELTS_ZR\n",
    "        elm = np.copy(elm_ref)\n",
    "        Zr_ppm   = x\n",
    "        wtZrO2 = 123.218*Zr_ppm/91.224/1000000.0\n",
    "        wtZrO2 *= tot_grm_oxides + wtZrO2\n",
    "        elm[core.chem.PERIODIC_ORDER.tolist().index('Zr')] += wtZrO2/123.218\n",
    "        elm[core.chem.PERIODIC_ORDER.tolist().index('O')]  += wtZrO2*2.0/123.218\n",
    "        n = rMELTS_ZR.cy_Liquid_rMELTS_ZR_calib_conv_elm_to_moles(elm)\n",
    "        if not rMELTS_ZR.cy_Liquid_rMELTS_ZR_calib_test_moles(n):\n",
    "            print ('Output of intrinsic composition calculation fails tests for permissible values.')\n",
    "        mu = rMELTS_ZR.cy_Liquid_rMELTS_ZR_calib_dgdn(t,p,n)\n",
    "        y = zirconium_min_affinities(t, p, mu, print_results=False)[0 if phase == 'zircon' else 1]\n",
    "        if debug:\n",
    "            print (t, Zr_ppm, y)\n",
    "            print (n)\n",
    "        return y\n",
    "    #\n",
    "    T_array = np.linspace(tmin, tmax, tinc, endpoint=True)\n",
    "    if deviates is not None:\n",
    "        remember_param_values = rMELTS_ZR.cy_Liquid_rMELTS_ZR_get_param_values()\n",
    "        yPlot_all = []\n",
    "        species_all = []\n",
    "        for irow,row in enumerate(deviates): \n",
    "            if np.mod(irow,10) == 0:\n",
    "                print ('Processing deviate:', irow)\n",
    "            rMELTS_ZR.cy_Liquid_rMELTS_ZR_set_param_value(5,  ref_param_values[ 5] + adj_H_ZrSiO4 - 225000.0 + row[0]) # Na4ZrSi2O8\n",
    "            rMELTS_ZR.cy_Liquid_rMELTS_ZR_set_param_value(6,  ref_param_values[ 6] + adj_S_ZrSiO4            + row[3])\n",
    "            rMELTS_ZR.cy_Liquid_rMELTS_ZR_set_param_value(7,  ref_param_values[ 7] + adj_V_ZrSiO4            + row[4])\n",
    "            rMELTS_ZR.cy_Liquid_rMELTS_ZR_set_param_value(8,  ref_param_values[ 8] + adj_H_ZrSiO4 -  75000.0 + row[1]) # K4ZrSi2O8\n",
    "            rMELTS_ZR.cy_Liquid_rMELTS_ZR_set_param_value(9,  ref_param_values[ 9] + adj_S_ZrSiO4            + row[3])\n",
    "            rMELTS_ZR.cy_Liquid_rMELTS_ZR_set_param_value(10, ref_param_values[10] + adj_V_ZrSiO4            + row[4])\n",
    "            rMELTS_ZR.cy_Liquid_rMELTS_ZR_set_param_value(11, ref_param_values[11] + adj_H_ZrSiO4            + row[2]) # ZrSiO4\n",
    "            rMELTS_ZR.cy_Liquid_rMELTS_ZR_set_param_value(12, ref_param_values[12] + adj_S_ZrSiO4            + row[3])\n",
    "            rMELTS_ZR.cy_Liquid_rMELTS_ZR_set_param_value(13, ref_param_values[13] + adj_V_ZrSiO4            + row[4])\n",
    "            yPlot = []\n",
    "            species = []\n",
    "            for tc in T_array:\n",
    "                t = tc + 273.15\n",
    "                y = zero(100)\n",
    "                sol = sci.optimize.root_scalar(zero, bracket=[Zr_PPM_root_min, Zr_PPM_root_max])\n",
    "                yPlot.append(sol.root)\n",
    "                elm = np.copy(elm_ref)\n",
    "                wtZrO2 = 123.218*sol.root/91.224/1000000.0\n",
    "                wtZrO2 *= tot_grm_oxides + wtZrO2\n",
    "                elm[core.chem.PERIODIC_ORDER.tolist().index('Zr')] += wtZrO2/123.218\n",
    "                elm[core.chem.PERIODIC_ORDER.tolist().index('O')]  += wtZrO2*2.0/123.218\n",
    "                n = rMELTS_ZR.cy_Liquid_rMELTS_ZR_calib_conv_elm_to_moles(elm)\n",
    "                s = rMELTS_ZR.cy_Liquid_rMELTS_ZR_order_params(t, p, n)\n",
    "                tot = n[16] + s[1] + s[2]\n",
    "                species.append(np.array([100*n[16]/tot, 100*s[1]/tot, 100*s[2]/tot]))\n",
    "            #\n",
    "            yPlot_all.append(np.array(yPlot))\n",
    "            species_all.append(np.array(species))\n",
    "        yPlot = np.transpose(np.array(yPlot_all))\n",
    "        species = np.array(species_all)\n",
    "        rMELTS_ZR.cy_Liquid_rMELTS_ZR_set_param_values(remember_param_values)\n",
    "    else:\n",
    "        yPlot = []\n",
    "        species = []\n",
    "        for tc in T_array:\n",
    "            if print_steps:\n",
    "                print ('{0:7.1f}'.format(tc), end=' ')\n",
    "            t = tc + 273.15\n",
    "            y = zero(100)\n",
    "            sol = sci.optimize.root_scalar(zero, bracket=[Zr_PPM_root_min, Zr_PPM_root_max])\n",
    "            yPlot.append(sol.root)\n",
    "            #\n",
    "            elm = np.copy(elm_ref)\n",
    "            wtZrO2 = 123.218*sol.root/91.224/1000000.0\n",
    "            wtZrO2 *= tot_grm_oxides + wtZrO2\n",
    "            elm[core.chem.PERIODIC_ORDER.tolist().index('Zr')] += wtZrO2/123.218\n",
    "            elm[core.chem.PERIODIC_ORDER.tolist().index('O')]  += wtZrO2*2.0/123.218\n",
    "            n = rMELTS_ZR.cy_Liquid_rMELTS_ZR_calib_conv_elm_to_moles(elm)\n",
    "            s = rMELTS_ZR.cy_Liquid_rMELTS_ZR_order_params(t, p, n)\n",
    "            tot = n[16] + s[1] + s[2]\n",
    "            species.append(np.array([100*n[16]/tot, 100*s[1]/tot, 100*s[2]/tot]))\n",
    "            if print_steps:\n",
    "                print ('{0:10.1f} {1:1.1s} {2:2d} {3:6.2f} {4:6.2f} {5:6.2f}'.format(\n",
    "                    sol.root, 'T' if sol.converged else 'F', sol.iterations, 100*n[16]/tot, 100*s[1]/tot, 100*s[2]/tot\n",
    "                ))\n",
    "        #\n",
    "        yPlot = np.array(yPlot)\n",
    "        species = np.array(species)\n",
    "    #\n",
    "    fig = plt.figure(figsize=(15,5))\n",
    "    plt.subplot(1,2,1)\n",
    "    plt.title(phase+' saturation for '+use_composition+' composition')\n",
    "    if deviate_plot_quantiles and deviates is not None:\n",
    "        plt.plot(T_array, np.quantile(yPlot,0.50,axis=1), 'r-',  label='mean')\n",
    "        plt.plot(T_array, np.quantile(yPlot,0.05,axis=1), 'r--', label='5 %')\n",
    "        plt.plot(T_array, np.quantile(yPlot,0.95,axis=1), 'r--', label='95 %')\n",
    "        plt.legend()\n",
    "    else:\n",
    "        plt.plot(T_array, yPlot, 'r-')\n",
    "    if ref_Zr_l is not None:\n",
    "        for x in ref_Zr_l:\n",
    "            plt.plot(np.array([tmin, tmax]), np.array([x,x]), 'g-')\n",
    "    plt.ylabel('PPM Zr')\n",
    "    plt.xlabel('T °C')\n",
    "    #\n",
    "    plt.subplot(1,2,2)\n",
    "    plt.title('Zr speciation for '+use_composition+' composition')\n",
    "    if deviates is not None:\n",
    "        if deviate_plot_quantiles:\n",
    "            plt.plot(T_array, np.quantile(species[:,:,0],0.50,axis=0), 'r-',  label='ZrSiO4 mean')\n",
    "            plt.plot(T_array, np.quantile(species[:,:,0],0.05,axis=0), 'r--', label='ZrSiO4 5%')\n",
    "            plt.plot(T_array, np.quantile(species[:,:,0],0.95,axis=0), 'r--', label='ZrSiO4 95%')\n",
    "            plt.plot(T_array, np.quantile(species[:,:,1],0.50,axis=0), 'g-',  label='Na4ZrSi2O8 mean')\n",
    "            plt.plot(T_array, np.quantile(species[:,:,1],0.05,axis=0), 'g--', label='Na4ZrSi2O8 5%')\n",
    "            plt.plot(T_array, np.quantile(species[:,:,1],0.95,axis=0), 'g--', label='Na4ZrSi2O8 95%')\n",
    "            plt.plot(T_array, np.quantile(species[:,:,2],0.50,axis=0), 'b-',  label='K4ZrSi2O8 mean')\n",
    "            plt.plot(T_array, np.quantile(species[:,:,2],0.05,axis=0), 'b--', label='K4ZrSi2O8 5%')\n",
    "            plt.plot(T_array, np.quantile(species[:,:,2],0.95,axis=0), 'b--', label='K4ZrSi2O8 95%')\n",
    "        else:\n",
    "            for i in range(0,deviates.shape[0]):\n",
    "                if i == 0:\n",
    "                    plt.plot(T_array, species[i,:,0], 'r-', label='ZrSiO4')\n",
    "                    plt.plot(T_array, species[i,:,1], 'g-', label='Na4ZrSi2O8')\n",
    "                    plt.plot(T_array, species[i,:,2], 'b-', label='K4ZrSi2O8')\n",
    "                else:\n",
    "                    plt.plot(T_array, species[i,:,0], 'r-')\n",
    "                    plt.plot(T_array, species[i,:,1], 'g-')\n",
    "                    plt.plot(T_array, species[i,:,2], 'b-')\n",
    "    else:\n",
    "        plt.plot(T_array, species[:,0], 'r-', label='ZrSiO4')\n",
    "        plt.plot(T_array, species[:,1], 'g-', label='Na4ZrSi2O8')\n",
    "        plt.plot(T_array, species[:,2], 'b-', label='K4ZrSi2O8')\n",
    "    plt.ylabel('% Zr-species')\n",
    "    plt.xlabel('T °C')\n",
    "    plt.legend()\n",
    "    plt.tight_layout()\n",
    "    plt.show()\n",
    "    fig.savefig(phase + \"_sat_\" + use_composition + \".pdf\", bbox_inches='tight')\n",
    "    return (T_array, yPlot, species)"
   ]
  },
  {
   "cell_type": "markdown",
   "metadata": {},
   "source": [
    "Make some plots of zircon saturation for various compositions"
   ]
  },
  {
   "cell_type": "code",
   "execution_count": null,
   "metadata": {},
   "outputs": [],
   "source": [
    "T_array, yPlot, species = generate_saturation_plot(use_composition='rhyolite', ref_Zr_l=[80, 100, 120], tmin=700, tmax=800, print_steps=False)"
   ]
  },
  {
   "cell_type": "code",
   "execution_count": null,
   "metadata": {},
   "outputs": [],
   "source": [
    "T_array, yPlot, species = generate_saturation_plot(use_composition='rhyolite', ref_Zr_l=[80, 100, 120], tmin=700, tmax=800, print_steps=False, \n",
    "                                                   deviates=deviates, deviate_plot_quantiles=True)"
   ]
  },
  {
   "cell_type": "code",
   "execution_count": null,
   "metadata": {},
   "outputs": [],
   "source": [
    "T_array, yPlot, species = generate_saturation_plot(use_composition='California-rhyolite', ref_Zr_l=[110], tmax=800, print_steps=False, \n",
    "                                                   deviates=deviates, deviate_plot_quantiles=True)"
   ]
  },
  {
   "cell_type": "code",
   "execution_count": null,
   "metadata": {},
   "outputs": [],
   "source": [
    "T_array, yPlot, species = generate_saturation_plot(use_composition='Iceland-rhyolite', ref_Zr_l=[385], print_steps=False, \n",
    "                                                   deviates=deviates, deviate_plot_quantiles=True)"
   ]
  },
  {
   "cell_type": "code",
   "execution_count": null,
   "metadata": {},
   "outputs": [],
   "source": [
    "T_array, yPlot, species = generate_saturation_plot(use_composition='dacite', tmin=700, ref_Zr_l=[150], Zr_PPM_root_min=1.0,\n",
    "                                                   print_steps=False, debug=False, deviates=deviates, deviate_plot_quantiles=True)"
   ]
  },
  {
   "cell_type": "code",
   "execution_count": null,
   "metadata": {},
   "outputs": [],
   "source": [
    "T_array, yPlot, species = generate_saturation_plot(use_composition='pantellerite', ref_Zr_l=[1800], \n",
    "                                                   tmin=700, tmax=900, print_steps=False, \n",
    "                                                   deviates=deviates, deviate_plot_quantiles=True)"
   ]
  },
  {
   "cell_type": "code",
   "execution_count": null,
   "metadata": {},
   "outputs": [],
   "source": [
    "T_array, yPlot, species = generate_saturation_plot(use_composition='comendite', ref_Zr_l=[1250], print_steps=False,\n",
    "                                                  deviates=deviates, deviate_plot_quantiles=True)"
   ]
  },
  {
   "cell_type": "code",
   "execution_count": null,
   "metadata": {},
   "outputs": [],
   "source": [
    "T_array, yPlot, species = generate_saturation_plot(use_composition='trachyte', ref_Zr_l=None, print_steps=False, \n",
    "                                                   deviates=deviates, deviate_plot_quantiles=True)"
   ]
  },
  {
   "cell_type": "code",
   "execution_count": null,
   "metadata": {},
   "outputs": [],
   "source": [
    "T_array, yPlot, species = generate_saturation_plot(use_composition='phonolite', ref_Zr_l=None, print_steps=False, \n",
    "                                                   deviates=deviates, deviate_plot_quantiles=True)"
   ]
  },
  {
   "cell_type": "markdown",
   "metadata": {},
   "source": [
    "This rock is saturated with a wadeite solid solution"
   ]
  },
  {
   "cell_type": "code",
   "execution_count": null,
   "metadata": {},
   "outputs": [],
   "source": [
    "T_array, yPlot, species = generate_saturation_plot(use_composition='madupite', tmin=700.0, tmax=1200.0, ref_Zr_l=[2073],\n",
    "                                                   Zr_PPM_root_min=1.0, Zr_PPM_root_max=250000.0, print_steps=False, \n",
    "                                                   deviates=deviates, deviate_plot_quantiles=True)"
   ]
  },
  {
   "cell_type": "markdown",
   "metadata": {},
   "source": [
    "This rock is saturated with wadeite, Zr<sub>2</sub>K<sub>4</sub>Si<sub>6</sub>O<sub>18</sub> in solid solution with its Ti-equivalent, Ti<sub>2</sub>K<sub>4</sub>Si<sub>6</sub>O<sub>18</sub>"
   ]
  },
  {
   "cell_type": "code",
   "execution_count": null,
   "metadata": {},
   "outputs": [],
   "source": [
    "T_array, yPlot, species = generate_saturation_plot(use_composition='wyomingite', tmin=700.0, tmax=1200.0, ref_Zr_l=[2073], \n",
    "                                                   Zr_PPM_root_min=10.0, Zr_PPM_root_max=500000.0, print_steps=False, debug=False,\n",
    "                                                   deviates=deviates, deviate_plot_quantiles=True)"
   ]
  },
  {
   "cell_type": "code",
   "execution_count": null,
   "metadata": {},
   "outputs": [],
   "source": [
    "T_array, yPlot, species = generate_saturation_plot(phase='badelyite', use_composition='wyomingite', tmin=700.0, tmax=1200.0, ref_Zr_l=[2073], \n",
    "                                                   Zr_PPM_root_min=10.0, Zr_PPM_root_max=500000.0, print_steps=False, debug=False,\n",
    "                                                  deviates=deviates, deviate_plot_quantiles=True)"
   ]
  },
  {
   "cell_type": "markdown",
   "metadata": {},
   "source": [
    "## Zircon Geothermometer"
   ]
  },
  {
   "cell_type": "code",
   "execution_count": null,
   "metadata": {},
   "outputs": [],
   "source": [
    "def zircon_geothermometer(use_composition='rhyolite', # str references dictionary element in composition_d, else dictionary\n",
    "                          ref_Zr_ppm=100, p=2000.0, tmin=500.0, tmax=1200.0, \n",
    "                          print_steps=True, debug=False):\n",
    "    global composition_d, core, plt, sci, np, rMELTS_ZR\n",
    "    #\n",
    "    if isinstance(use_composition, str):\n",
    "        grm_oxides = composition_d[use_composition]\n",
    "    else:\n",
    "        grm_oxides = use_composition\n",
    "    elm_sys = ['H','O','Na','Mg','Al','Si','P','K','Ca','Ti','Cr','Mn','Fe','Co','Ni']\n",
    "    tot_grm_oxides = 0.0\n",
    "    for key in grm_oxides.keys():\n",
    "        tot_grm_oxides += grm_oxides[key]\n",
    "    mol_oxides = core.chem.format_mol_oxide_comp(grm_oxides, convert_grams_to_moles=True)\n",
    "    mol_elm = core.chem.mol_oxide_to_elem(mol_oxides)\n",
    "    elm_ref = np.zeros(107)\n",
    "    for i,sym in enumerate(\n",
    "        ['Si', 'Ti', 'Al', 'Fe', 'Cr', 'Mn', 'Mg', 'Ni', 'Co', 'Ca', 'Na', 'K', 'P', 'H', 'C', 'O']):\n",
    "        index = core.chem.PERIODIC_ORDER.tolist().index(sym)\n",
    "        elm_ref[index] = mol_elm[i]\n",
    "    #\n",
    "    elm = np.copy(elm_ref)\n",
    "    Zr_ppm = ref_Zr_ppm\n",
    "    wtZrO2 = 123.218*Zr_ppm/91.224/1000000.0\n",
    "    wtZrO2 *= tot_grm_oxides + wtZrO2\n",
    "    elm[core.chem.PERIODIC_ORDER.tolist().index('Zr')] += wtZrO2/123.218\n",
    "    elm[core.chem.PERIODIC_ORDER.tolist().index('O')]  += wtZrO2*2.0/123.218\n",
    "    n = rMELTS_ZR.cy_Liquid_rMELTS_ZR_calib_conv_elm_to_moles(elm)\n",
    "    if not rMELTS_ZR.cy_Liquid_rMELTS_ZR_calib_test_moles(n):\n",
    "        print ('Output of intrinsic composition calculation fails tests for permissible values.')\n",
    "        return\n",
    "    # Function used by minimizer\n",
    "    def zero(t):\n",
    "        global rMELTS_ZR\n",
    "        mu = rMELTS_ZR.cy_Liquid_rMELTS_ZR_calib_dgdn(t,p,n)\n",
    "        y = zirconium_min_affinities(t, p, mu, print_results=False)[0]\n",
    "        if debug:\n",
    "            print (t)\n",
    "        return y\n",
    "    #\n",
    "    remember_param_values = rMELTS_ZR.cy_Liquid_rMELTS_ZR_get_param_values()\n",
    "    results = np.zeros(deviates.shape[0])\n",
    "    for irow,row in enumerate(deviates): \n",
    "        rMELTS_ZR.cy_Liquid_rMELTS_ZR_set_param_value(5,  ref_param_values[ 5] + adj_H_ZrSiO4 - 225000.0 + row[0]) # Na4ZrSi2O8\n",
    "        rMELTS_ZR.cy_Liquid_rMELTS_ZR_set_param_value(6,  ref_param_values[ 6] + adj_S_ZrSiO4            + row[3])\n",
    "        rMELTS_ZR.cy_Liquid_rMELTS_ZR_set_param_value(7,  ref_param_values[ 7] + adj_V_ZrSiO4            + row[4])\n",
    "        rMELTS_ZR.cy_Liquid_rMELTS_ZR_set_param_value(8,  ref_param_values[ 8] + adj_H_ZrSiO4 -  75000.0 + row[1]) # K4ZrSi2O8\n",
    "        rMELTS_ZR.cy_Liquid_rMELTS_ZR_set_param_value(9,  ref_param_values[ 9] + adj_S_ZrSiO4            + row[3])\n",
    "        rMELTS_ZR.cy_Liquid_rMELTS_ZR_set_param_value(10, ref_param_values[10] + adj_V_ZrSiO4            + row[4])\n",
    "        rMELTS_ZR.cy_Liquid_rMELTS_ZR_set_param_value(11, ref_param_values[11] + adj_H_ZrSiO4            + row[2]) # ZrSiO4\n",
    "        rMELTS_ZR.cy_Liquid_rMELTS_ZR_set_param_value(12, ref_param_values[12] + adj_S_ZrSiO4            + row[3])\n",
    "        rMELTS_ZR.cy_Liquid_rMELTS_ZR_set_param_value(13, ref_param_values[13] + adj_V_ZrSiO4            + row[4])\n",
    "        try:\n",
    "            sol = sci.optimize.root_scalar(zero, bracket=[tmin, tmax])\n",
    "        except ValueError:\n",
    "            print ('No valid temperature solution in interval', tmin, 'to', tmax)\n",
    "            return\n",
    "        results[irow] = sol.root\n",
    "    rMELTS_ZR.cy_Liquid_rMELTS_ZR_set_param_values(remember_param_values)\n",
    "    t_mean = np.quantile(results, 0.50) - 273.15\n",
    "    t_05   = np.quantile(results, 0.05) - 273.15\n",
    "    t_95   = np.quantile(results, 0.95) - 273.15\n",
    "    return (t_mean, t_05, t_95)\n",
    "    "
   ]
  },
  {
   "cell_type": "code",
   "execution_count": null,
   "metadata": {},
   "outputs": [],
   "source": [
    "zircon_geothermometer(p=1750)"
   ]
  },
  {
   "cell_type": "code",
   "execution_count": null,
   "metadata": {},
   "outputs": [],
   "source": [
    "zircon_geothermometer(use_composition='dacite', ref_Zr_ppm=150)"
   ]
  },
  {
   "cell_type": "code",
   "execution_count": null,
   "metadata": {},
   "outputs": [],
   "source": [
    "zircon_geothermometer(use_composition = {\n",
    "    'SiO2':  63.58, \n",
    "    'TiO2':   0.64, \n",
    "    'Al2O3': 16.67, \n",
    "    'Fe2O3':  2.24,\n",
    "    'Cr2O3':  0.0, \n",
    "    'FeO':    3.00, \n",
    "    'MnO':    0.11,\n",
    "    'MgO':    2.12, \n",
    "    'NiO':    0.0, \n",
    "    'CoO':    0.0,\n",
    "    'CaO':    5.53, \n",
    "    'Na2O':   3.98, \n",
    "    'K2O':    1.40, \n",
    "    'P2O5':   0.0, \n",
    "    'H2O':    3.00,\n",
    "    'CO2':    0.05\n",
    "}, ref_Zr_ppm=200)"
   ]
  },
  {
   "cell_type": "markdown",
   "metadata": {},
   "source": [
    "Na<sub>4</sub>ZrSi<sub>2</sub>O<sub>8</sub> + 4KAlSiO<sub>4</sub> = K<sub>4</sub>ZrSi<sub>2</sub>O<sub>8</sub> + 2Na<sub>2</sub>SiO<sub>3</sub> + 2Al<sub>2</sub>O<sub>3</sub> + 2SiO<sub>2</sub>"
   ]
  },
  {
   "cell_type": "code",
   "execution_count": null,
   "metadata": {},
   "outputs": [],
   "source": [
    "t = 1000.00\n",
    "p = 1000.0\n",
    "def exchange_prop(t=1000, p=1000, param_test=ref_param_values):\n",
    "    mu0_SiO2    =  rMELTS_ZR.cy_Liquid_rMELTS_ZR_calib_endmember_mu0(    0, t, p)\n",
    "    mu0_Al2O3   =  rMELTS_ZR.cy_Liquid_rMELTS_ZR_calib_endmember_mu0(    2, t, p)\n",
    "    mu0_Na2SiO3 =  rMELTS_ZR.cy_Liquid_rMELTS_ZR_calib_endmember_mu0(   11, t, p)\n",
    "    mu0_KAlSiO4 =  rMELTS_ZR.cy_Liquid_rMELTS_ZR_calib_endmember_mu0(   12, t, p)\n",
    "    S0_SiO2     = -rMELTS_ZR.cy_Liquid_rMELTS_ZR_calib_endmember_dmu0dT( 0, t, p)\n",
    "    S0_Al2O3    = -rMELTS_ZR.cy_Liquid_rMELTS_ZR_calib_endmember_dmu0dT( 2, t, p)\n",
    "    S0_Na2SiO3  = -rMELTS_ZR.cy_Liquid_rMELTS_ZR_calib_endmember_dmu0dT(11, t, p)\n",
    "    S0_KAlSiO4  = -rMELTS_ZR.cy_Liquid_rMELTS_ZR_calib_endmember_dmu0dT(12, t, p)\n",
    "    V0_SiO2     =  rMELTS_ZR.cy_Liquid_rMELTS_ZR_calib_endmember_dmu0dP( 0, t, p)\n",
    "    V0_Al2O3    =  rMELTS_ZR.cy_Liquid_rMELTS_ZR_calib_endmember_dmu0dP( 2, t, p)\n",
    "    V0_Na2SiO3  =  rMELTS_ZR.cy_Liquid_rMELTS_ZR_calib_endmember_dmu0dP(11, t, p)\n",
    "    V0_KAlSiO4  =  rMELTS_ZR.cy_Liquid_rMELTS_ZR_calib_endmember_dmu0dP(12, t, p)\n",
    "    H0_SiO2     = mu0_SiO2    + t*S0_SiO2    - (p-1.0)*V0_SiO2\n",
    "    H0_Al2O3    = mu0_Al2O3   + t*S0_Al2O3   - (p-1.0)*V0_Al2O3\n",
    "    H0_Na2SiO3  = mu0_Na2SiO3 + t*S0_Na2SiO3 - (p-1.0)*V0_Na2SiO3\n",
    "    H0_KAlSiO4  = mu0_KAlSiO4 + t*S0_KAlSiO4 - (p-1.0)*V0_KAlSiO4\n",
    "    deltaH = param_test[ 8] + 2*H0_Na2SiO3 + 2*H0_Al2O3 + 2*H0_SiO2 - param_test[ 5] - 4*H0_KAlSiO4 \n",
    "    deltaS = param_test[ 9] + 2*S0_Na2SiO3 + 2*S0_Al2O3 + 2*S0_SiO2 - param_test[ 6] - 4*S0_KAlSiO4 \n",
    "    deltaV = param_test[10] + 2*V0_Na2SiO3 + 2*V0_Al2O3 + 2*V0_SiO2 - param_test[ 7] - 4*V0_KAlSiO4 \n",
    "    return (deltaH, deltaS, deltaV)\n",
    "exchange_prop()"
   ]
  },
  {
   "cell_type": "code",
   "execution_count": null,
   "metadata": {},
   "outputs": [],
   "source": [
    "exchange_prop(param_test=rMELTS_ZR.cy_Liquid_rMELTS_ZR_get_param_values())"
   ]
  },
  {
   "cell_type": "markdown",
   "metadata": {},
   "source": [
    "## Save revised parameter values"
   ]
  },
  {
   "cell_type": "code",
   "execution_count": null,
   "metadata": {},
   "outputs": [],
   "source": [
    "new_param_values = rMELTS_ZR.cy_Liquid_rMELTS_ZR_get_param_values()\n",
    "new_param_values"
   ]
  },
  {
   "cell_type": "code",
   "execution_count": null,
   "metadata": {},
   "outputs": [],
   "source": [
    "import pickle\n",
    "\n",
    "with open('calib_params.pickle', 'wb') as f:\n",
    "    pickle.dump(new_param_values, f, pickle.HIGHEST_PROTOCOL)"
   ]
  },
  {
   "cell_type": "code",
   "execution_count": null,
   "metadata": {},
   "outputs": [],
   "source": [
    "import pickle\n",
    "\n",
    "with open('calib_params.pickle', 'rb') as f:\n",
    "    params_stored = pickle.load(f)"
   ]
  },
  {
   "cell_type": "code",
   "execution_count": null,
   "metadata": {},
   "outputs": [],
   "source": [
    "params_stored"
   ]
  },
  {
   "cell_type": "markdown",
   "metadata": {},
   "source": [
    "## Evaluate data from the experimental study of Gervasoni et al. (2016)"
   ]
  },
  {
   "cell_type": "code",
   "execution_count": null,
   "metadata": {},
   "outputs": [],
   "source": [
    "df4 = pd.read_excel('Gervasoni_2016.xlsx')\n",
    "df4.fillna(0)"
   ]
  },
  {
   "cell_type": "code",
   "execution_count": null,
   "metadata": {},
   "outputs": [],
   "source": [
    "import matplotlib.colors as mcolors\n",
    "fig = plt.figure(figsize=(15,10))\n",
    "df_iterator = df4.itertuples()\n",
    "for row_indx,data in enumerate(df_iterator):\n",
    "    compo = {\n",
    "        'SiO2':  data[6], \n",
    "        'TiO2':  data[7],\n",
    "        'Al2O3': data[8], \n",
    "        'Fe2O3': data[9]*0.1,\n",
    "        'Cr2O3': 0.0, \n",
    "        'FeO':   data[9]*0.9, \n",
    "        'MnO':   0.0,\n",
    "        'MgO':   data[10], \n",
    "        'NiO':   0.0, \n",
    "        'CoO':   0.0,\n",
    "        'CaO':   data[11], \n",
    "        'Na2O':  data[12],\n",
    "        'K2O':   data[13], \n",
    "        'P2O5':  0.0, \n",
    "        'H2O':   0.1,\n",
    "        'CO2':   0.01\n",
    "    }\n",
    "    result = zircon_geothermometer(use_composition=compo, ref_Zr_ppm=data[2], tmax=2000.0, p=data[5])\n",
    "    result_l = zircon_geothermometer(use_composition=compo, ref_Zr_ppm=data[2]-data[3], tmax=2000.0, p=data[5])\n",
    "    result_h = zircon_geothermometer(use_composition=compo, ref_Zr_ppm=data[2]+data[3], tmax=2000.0, p=data[5])\n",
    "    plt.errorbar(data[2], data[4], xerr=data[3], fmt='ro', label=data[1]+' '+str(data[2])) # mean, low, high\n",
    "    plt.errorbar(data[2], result[0], \n",
    "                 yerr=np.array([[np.fabs(result[1]-result[0])], [np.fabs(result[2]-result[0])]]), fmt='bo')\n",
    "    plt.errorbar(data[2]-data[3], result_l[0], \n",
    "                 yerr=np.array([[np.fabs(result_l[1]-result_l[0])], [np.fabs(result_l[2]-result_l[0])]]), fmt='b,')  \n",
    "    plt.errorbar(data[2]+data[3], result_h[0], \n",
    "                 yerr=np.array([[np.fabs(result_h[1]-result_h[0])], [np.fabs(result_h[2]-result_h[0])]]), fmt='b,')\n",
    "    plt.plot(np.array([data[2], data[2]]), np.array([data[4], result[0]]), 'k--')\n",
    "    plt.plot(np.array([data[2]-data[3], data[2]+data[3]]), np.array([result_l[1], result_h[1]]), 'b-')\n",
    "    plt.plot(np.array([data[2]-data[3], data[2]+data[3]]), np.array([result_l[2], result_h[2]]), 'b-')\n",
    "    plt.fill(np.array([data[2]-data[3], data[2]+data[3], data[2]+data[3], data[2]-data[3], data[2]-data[3]]),\n",
    "             np.array([result_l[2], result_h[2], result_h[1], result_l[1], result_l[2]]), \n",
    "             color=mcolors.CSS4_COLORS['lightyellow'])\n",
    "plt.title('Gervasoni et al., 2016, temperature recovery')\n",
    "plt.ylabel('T °C')\n",
    "plt.xlabel('Zr (PPM)')\n",
    "plt.legend()\n",
    "fig.savefig(\"Gervasoni_et_al.pdf\", bbox_inches='tight')\n",
    "plt.show()"
   ]
  },
  {
   "cell_type": "markdown",
   "metadata": {},
   "source": [
    "## Calibrant temperature recovery"
   ]
  },
  {
   "cell_type": "code",
   "execution_count": null,
   "metadata": {},
   "outputs": [],
   "source": [
    "plot_watson = False\n",
    "plot_boenke = True\n",
    "fig, main_plt = plt.subplots(figsize=(15,10))\n",
    "T_meas = []\n",
    "T_estm = []\n",
    "T_estm_l = []\n",
    "T_estm_h = []\n",
    "lst = []\n",
    "if plot_watson:\n",
    "    lst.append(df1)\n",
    "if plot_boenke:\n",
    "    lst.append(df2)\n",
    "for df in lst:\n",
    "    df_iterator = df.itertuples()\n",
    "    #\n",
    "    for row_indx,data in enumerate(df_iterator):\n",
    "        #print (row_indx)\n",
    "        auth_id = data[3]\n",
    "        t = data[25 if auth_id == 1 else 17]\n",
    "        p = data[26 if auth_id == 1 else 18]*10000.0\n",
    "        if data[4] != 'Liquid':\n",
    "            continue\n",
    "        compo = {\n",
    "            'SiO2':  data[5 if auth_id == 1 else 5], \n",
    "            'TiO2':  data[7 if auth_id == 1 else 6], \n",
    "            'Al2O3': data[9 if auth_id == 1 else 7], \n",
    "            'Fe2O3': 0.0,\n",
    "            'Cr2O3': 0.0, \n",
    "            'FeO':   data[11 if auth_id == 1 else 8], \n",
    "            'MnO':    0.0,\n",
    "            'MgO':   data[13 if auth_id == 1 else 9], \n",
    "            'NiO':    0.0, \n",
    "            'CoO':    0.0,\n",
    "            'CaO':   data[15 if auth_id == 1 else 10], \n",
    "            'Na2O':  data[17 if auth_id == 1 else 11], \n",
    "            'K2O':   data[19 if auth_id == 1 else 12], \n",
    "            'P2O5':   0.0, \n",
    "            'H2O':   data[24 if auth_id == 1 else 15],\n",
    "            'CO2':    0.01\n",
    "        }\n",
    "        zr_ppm     = 91.224*1000000.0*data[22 if auth_id == 1 else 13]/100.0/123.218\n",
    "        zr_ppm_err = 91.224*1000000.0*data[23 if auth_id == 1 else 14]/100.0/123.218\n",
    "        result = zircon_geothermometer(use_composition=compo, ref_Zr_ppm=zr_ppm, tmax=2000.0, p=p)\n",
    "        result_l = zircon_geothermometer(use_composition=compo, ref_Zr_ppm=zr_ppm-zr_ppm_err, tmax=2000.0, p=p)\n",
    "        result_h = zircon_geothermometer(use_composition=compo, ref_Zr_ppm=zr_ppm+zr_ppm_err, tmax=2000.0, p=p)\n",
    "        T_meas.append(t)\n",
    "        T_estm.append(result)\n",
    "        T_estm_l.append(result_l)\n",
    "        T_estm_h.append(result_h)\n",
    "        main_plt.errorbar(zr_ppm, t, xerr=zr_ppm_err, fmt='ro')\n",
    "        main_plt.errorbar(zr_ppm, result[0], \n",
    "                 yerr=np.array([[result[0]-result[1]], [result[2]-result[0]]]), fmt='co')\n",
    "        main_plt.errorbar(zr_ppm-zr_ppm_err, result_l[0], \n",
    "                 yerr=np.array([[result_l[0]-result_l[1]], [result_l[2]-result_l[0]]]), fmt='y,')  \n",
    "        main_plt.errorbar(zr_ppm+zr_ppm_err, result_h[0], \n",
    "                 yerr=np.array([[result_h[0]-result_h[1]], [result_h[2]-result_h[0]]]), fmt='y,')\n",
    "        main_plt.plot(np.array([zr_ppm, zr_ppm]), np.array([t, result[0]]), 'k--')\n",
    "        main_plt.plot(np.array([zr_ppm-zr_ppm_err, zr_ppm, zr_ppm+zr_ppm_err]), np.array([result_l[1], result[1], result_h[1]]), 'y-')\n",
    "        main_plt.plot(np.array([zr_ppm-zr_ppm_err, zr_ppm, zr_ppm+zr_ppm_err]), np.array([result_l[2], result[2], result_h[2]]), 'y-')\n",
    "        main_plt.fill(np.array([zr_ppm-zr_ppm_err, zr_ppm, zr_ppm+zr_ppm_err, zr_ppm+zr_ppm_err, zr_ppm, zr_ppm-zr_ppm_err, zr_ppm-zr_ppm_err]),\n",
    "             np.array([result_l[2], result[2], result_h[2], result_h[1], result[1], result_l[1], result_l[2]]), \n",
    "             color=mcolors.CSS4_COLORS['lightyellow'])\n",
    "#\n",
    "inset_plt = fig.add_axes([0.5, 0.2, 0.35, 0.35])\n",
    "inset_plt.plot(np.array(T_meas), np.array(T_estm)[:,0], 'ro')\n",
    "inset_plt.errorbar(np.array(T_meas), np.array(T_estm)[:,0], \n",
    "                 yerr=[np.array(T_estm)[:,0]-np.array(T_estm)[:,1], np.array(T_estm)[:,2]-np.array(T_estm)[:,0]], fmt='ro')\n",
    "\n",
    "inset_plt.set_xlabel('T °C, reported')\n",
    "inset_plt.set_ylabel('T °C, estimated')\n",
    "#\n",
    "main_plt.set_ylabel('T °C')\n",
    "main_plt.set_xlabel('Zr (PPM)')\n",
    "if plot_watson and not plot_boenke:\n",
    "    main_plt.set_xlim([0., 4000.])\n",
    "    main_plt.set_ylim([690.,1100.])\n",
    "    inset_plt.set_xlim([690.,1100.])\n",
    "    inset_plt.set_ylim([690.,1100.])\n",
    "    inset_plt.plot(np.array([690,1100]), np.array([690,1100]), 'k-')\n",
    "    main_plt.set_title('Watson and Harrison, 1983, temperature recovery')\n",
    "    fig.savefig(\"WandH_1983_temperature_recovery.pdf\", bbox_inches='tight')\n",
    "elif not plot_watson and plot_boenke:\n",
    "    main_plt.set_xlim([0., 4000.])\n",
    "    main_plt.set_ylim([700.,1100.])\n",
    "    inset_plt.set_xlim([700.,1100.])\n",
    "    inset_plt.set_ylim([700.,1100.])\n",
    "    inset_plt.plot(np.array([700,1100]), np.array([700,1100]), 'k-')\n",
    "    main_plt.set_title('Boehnke et al., 2013, temperature recovery')\n",
    "    fig.savefig(\"Boehnke_2013_temperature_recovery.pdf\", bbox_inches='tight')\n",
    "else:\n",
    "    inset_plt.plot(np.array([700,1250]), np.array([700,1250]), 'k-')\n",
    "    main_plt.set_title('Temperature recovery')\n",
    "    fig.savefig(\"Temperature_recovery.pdf\", bbox_inches='tight')\n",
    "plt.show()"
   ]
  },
  {
   "cell_type": "markdown",
   "metadata": {},
   "source": [
    "## Statistics of calibrant temperature recovery"
   ]
  },
  {
   "cell_type": "code",
   "execution_count": null,
   "metadata": {},
   "outputs": [],
   "source": [
    "low   = np.array(T_estm)[:,0] - np.array(T_estm)[:,1]\n",
    "hgh   = np.array(T_estm)[:,2] - np.array(T_estm)[:,0]\n",
    "low_l = np.array(T_estm_l)[:,0] - np.array(T_estm_l)[:,1]\n",
    "hgh_l = np.array(T_estm_l)[:,2] - np.array(T_estm_l)[:,0]\n",
    "low_h = np.array(T_estm_h)[:,0] - np.array(T_estm_h)[:,1]\n",
    "hgh_h = np.array(T_estm_h)[:,2] - np.array(T_estm_h)[:,0]\n",
    "if plot_watson and not plot_boenke:\n",
    "    pass\n",
    "elif not plot_watson and plot_boenke:\n",
    "    low = low[:-4]\n",
    "    hgh = hgh[:-4]\n",
    "    low_l = low_l[:-4]\n",
    "    hgh_l = hgh_l[:-4]\n",
    "    low_h = low_h[:-4]\n",
    "    hgh_h = hgh_h[:-4]\n",
    "print ('5% quartile T (ave Zr):', -np.average(low), '95%', np.average(hgh))\n",
    "print ('5% quartile T (low Zr):', -np.average(low_l), '95%', np.average(hgh_l))\n",
    "print ('5% quartile T (hgh Zr):', -np.average(low_h), '95%', np.average(hgh_h))"
   ]
  },
  {
   "cell_type": "code",
   "execution_count": null,
   "metadata": {},
   "outputs": [],
   "source": [
    "err = np.array(T_estm)[:,0] - np.array(T_meas)\n",
    "err_l = np.array(T_estm_l)[:,0] - np.array(T_meas)\n",
    "err_h = np.array(T_estm_h)[:,0] - np.array(T_meas)\n",
    "if plot_watson and not plot_boenke:\n",
    "    pass\n",
    "elif not plot_watson and plot_boenke:\n",
    "    err = err[:-4]\n",
    "    err_l = err_l[:-4]\n",
    "    err_h = err_h[:-4]\n",
    "print ('T est ave (ave Zr) - T meas', np.average(err), '±', np.std(err))\n",
    "print ('T est ave (low Zr) - T meas', np.average(err_l), '±', np.std(err_l))\n",
    "print ('T est ave (hgh Zr) - T meas', np.average(err_h), '±', np.std(err_h))"
   ]
  },
  {
   "cell_type": "code",
   "execution_count": null,
   "metadata": {},
   "outputs": [],
   "source": []
  }
 ],
 "metadata": {
  "kernelspec": {
   "display_name": "Python 3",
   "language": "python",
   "name": "python3"
  },
  "language_info": {
   "codemirror_mode": {
    "name": "ipython",
    "version": 3
   },
   "file_extension": ".py",
   "mimetype": "text/x-python",
   "name": "python",
   "nbconvert_exporter": "python",
   "pygments_lexer": "ipython3",
   "version": "3.7.9"
  }
 },
 "nbformat": 4,
 "nbformat_minor": 4
}
