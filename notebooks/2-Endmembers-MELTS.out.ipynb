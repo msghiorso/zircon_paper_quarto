{
 "cells": [
  {
   "cell_type": "markdown",
   "metadata": {},
   "source": [
    "# 1-Endmembers: MELTS Liquid Components Standard State Code Generator"
   ],
   "id": "cac484fa-8e7c-437b-a9ca-64dcdc82e453"
  },
  {
   "cell_type": "markdown",
   "metadata": {},
   "source": [
    "# 1-Endmembers: MELTS Liquid Components Standard State Code Generator\n",
    "\n",
    "This notebook generates code to implement endmember component thermodynamic properties for a rhyolite-MELTS liquid model extended to include CO<sub>2</sub> and ZrSiO<sub>4</sub>\n",
    "\n",
    "after:  \n",
    "**Ghiorso MS, Sack RO (1995) Chemical Mass Transfer in Magmatic Processes IV. A revised and internally consistent thermodynamic model for the interpolation and extrapolation of liquid-solid equilibria in magmatic systems at elevated temperatures and pressures. Contrib Mineral Petrology 119, 197-212**  \n",
    "and  \n",
    "**Gualda, G.A.R., Ghiorso, M.S., Lemons, R.V., Carley, T.L. (2012) Rhyolite-MELTS: A modified calibration of MELTS optimized for silica-rich, fluid-bearing magmatic systems. Journal of Petrology, 53, 875-890**  \n",
    "and  \n",
    "**Ghiorso, M.S., Gualda, G.A.R. (2015) An H2O-CO2 mixed fluid saturation model compatible with rhyolite-MELTS. Contributions to Mineralogy and Petrology, doi:10.1007/s00410-015-1141-8**"
   ],
   "id": "cell-0"
  },
  {
   "cell_type": "code",
   "execution_count": null,
   "metadata": {},
   "outputs": [],
   "source": [
    "import pandas as pd\n",
    "import numpy as np\n",
    "import sympy as sym\n",
    "import math\n",
    "sym.init_printing()\n",
    "from thermoengine import coder,phases\n",
    "import warnings\n",
    "warnings.filterwarnings(\"ignore\", category=DeprecationWarning)\n",
    "warnings.filterwarnings(\"ignore\", category=FutureWarning)"
   ],
   "id": "cell-1"
  },
  {
   "cell_type": "markdown",
   "metadata": {},
   "source": [
    "## Special case SiO<sub>2</sub>"
   ],
   "id": "cell-2"
  },
  {
   "cell_type": "code",
   "execution_count": null,
   "metadata": {},
   "outputs": [],
   "source": [
    "model = coder.StdStateModel()\n",
    "model.set_module_name('rMELTS_ZR')\n",
    "model_type = \"calib\"\n",
    "T = model.get_symbol_for_t()\n",
    "P = model.get_symbol_for_p()\n",
    "Tr = model.get_symbol_for_tr()\n",
    "Pr = model.get_symbol_for_pr()"
   ],
   "id": "cell-3"
  },
  {
   "cell_type": "markdown",
   "metadata": {},
   "source": [
    "G(liquid) T<sub>r</sub>, P<sub>r</sub> -\\> G(liquid) T<sub>g</sub>, P<sub>r</sub>"
   ],
   "id": "cell-4"
  },
  {
   "cell_type": "code",
   "execution_count": null,
   "metadata": {},
   "outputs": [],
   "source": [
    "h0,s0 = sym.symbols('h0 s0')\n",
    "params = [('h0','J',h0), ('s0','J/K', s0)]\n",
    "GPr = h0 - T*s0\n",
    "model.add_expression_to_model(GPr, params)"
   ],
   "id": "cell-5"
  },
  {
   "cell_type": "code",
   "execution_count": null,
   "metadata": {},
   "outputs": [],
   "source": [
    "al,bl,cl,dl,tg = sym.symbols('al bl cl dl tg')\n",
    "params = [('al', 'J/K', al), ('bl', 'J/K^2', bl), ('cl', 'J-K^2', cl), ('dl', 'J-K^1/2', dl), ('tg', 'K', tg)]\n",
    "Cpg = al + bl*T + cl/T**2 + dl/sym.sqrt(T)\n",
    "GPr = sym.integrate(Cpg,(T,Tr,T)) - T*sym.integrate(Cpg/T,(T,Tr,T))\n",
    "model.add_expression_to_model(GPr, params, exp_type='restricted', lower_limits=(Tr,None), upper_limits=(tg,None))"
   ],
   "id": "cell-6"
  },
  {
   "cell_type": "code",
   "execution_count": null,
   "metadata": {},
   "outputs": [],
   "source": [
    "dummy = sym.symbols('dummy')\n",
    "params = [('dummy', 'J', dummy)]\n",
    "model.add_expression_to_model(GPr.subs(T,tg), params, exp_type='restricted', lower_limits=(tg,None), upper_limits=(None,None))"
   ],
   "id": "cell-7"
  },
  {
   "cell_type": "code",
   "execution_count": null,
   "metadata": {},
   "outputs": [],
   "source": [
    "cpl = sym.symbols('cpl')\n",
    "params = [('cpl', 'J/K', cpl)]\n",
    "GPr = sym.integrate(cpl,(T,tg,T)) - T*sym.integrate(cpl/T,(T,tg,T))\n",
    "model.add_expression_to_model(GPr, params, exp_type='restricted', lower_limits=(tg,None), upper_limits=(None,None))"
   ],
   "id": "cell-8"
  },
  {
   "cell_type": "code",
   "execution_count": null,
   "metadata": {},
   "outputs": [],
   "source": [
    "v,dvdt,dvdp,d2vdtdp,d2vdp2,trl = sym.symbols('v dvdt dvdp d2vdtdp d2vdp2 trl')\n",
    "params = [('v', 'J/bar', v), ('dvdt', 'J/bar-K', dvdt), ('dvdp', 'J/bar^2', dvdp), ('d2vdtdp', 'J/bar^2-K', d2vdtdp), \n",
    "          ('d2vdp2', 'J/bar^3', d2vdp2), ('trl','K',trl)]\n",
    "GPrP = sym.integrate(v + dvdt*(T-trl) + (dvdp + d2vdtdp*(T-trl))*(P-Pr) + d2vdp2*(0.5*P**2 - Pr*(P-Pr)),(P,Pr,P))\n",
    "model.add_expression_to_model(GPrP, params)"
   ],
   "id": "cell-9"
  },
  {
   "cell_type": "markdown",
   "metadata": {},
   "source": [
    "### Build instance"
   ],
   "id": "cell-10"
  },
  {
   "cell_type": "code",
   "execution_count": null,
   "metadata": {},
   "outputs": [],
   "source": [
    "model_working_dir = \"working\"\n",
    "!mkdir -p {model_working_dir}\n",
    "%cd {model_working_dir}"
   ],
   "id": "cell-11"
  },
  {
   "cell_type": "markdown",
   "metadata": {},
   "source": [
    "Parameters from Ghiorso and Sack (1995)"
   ],
   "id": "cell-12"
  },
  {
   "cell_type": "code",
   "execution_count": null,
   "metadata": {},
   "outputs": [],
   "source": [
    "param_dict = {\n",
    "    'Phase': 'SiO2',\n",
    "    'Formula': 'Si(1)O(2)',\n",
    "    'h0':   -901554.0,\n",
    "    's0':        48.475,\n",
    "    'al':       127.200,\n",
    "    'bl':       -10.777e-3,\n",
    "    'cl':         4.3127e5,\n",
    "    'dl':     -1463.8,\n",
    "    'tg':      1480.0,\n",
    "    'cpl':       81.373,\n",
    "    'v':          2.690,\n",
    "    'dvdt':       0.0,\n",
    "    'dvdp':      -1.89e-5,\n",
    "    'd2vdtdp':    1.3e-8,\n",
    "    'd2vdp2':     3.6e-10, \n",
    "    'T_r':      298.15,\n",
    "    'P_r':        1.0,\n",
    "    'trl':     1673.15,\n",
    "    'dummy':      1.0\n",
    "}\n",
    "result = model.create_code_module(phase=param_dict['Phase'], formula=param_dict['Formula'], params=param_dict, module_type=model_type)\n",
    "%cp rMELTS_ZR.pyx endmembers.pyx\n",
    "endmember_file_list = ['SiO2_rMELTS_ZR_calib.c']\n",
    "endmember_name_list = ['SiO2']"
   ],
   "id": "cell-13"
  },
  {
   "cell_type": "markdown",
   "metadata": {},
   "source": [
    "## General case (Berman solids -\\> liquid)"
   ],
   "id": "cell-14"
  },
  {
   "cell_type": "code",
   "execution_count": null,
   "metadata": {},
   "outputs": [],
   "source": [
    "model = coder.StdStateModel()\n",
    "model.set_module_name('rMELTS_ZR')\n",
    "model_type = \"calib\"\n",
    "T = model.get_symbol_for_t()\n",
    "P = model.get_symbol_for_p()\n",
    "Tr = model.get_symbol_for_tr()\n",
    "Pr = model.get_symbol_for_pr()"
   ],
   "id": "cell-15"
  },
  {
   "cell_type": "markdown",
   "metadata": {},
   "source": [
    "G(solid) at T, P<sub>r</sub>: lattice heat capacity  \n",
    "G(Solid) -\\> G(liquid)"
   ],
   "id": "cell-16"
  },
  {
   "cell_type": "code",
   "execution_count": null,
   "metadata": {},
   "outputs": [],
   "source": [
    "k0,k1,k2,k3,tFusion,sFusion,cpLiq = sym.symbols('k0 k1 k2 k3 tFusion sFusion cpLiq')\n",
    "CpPr = k0 + k1/sym.sqrt(T) + k2/T**2 + k3/T**3\n",
    "STrPr,HTrPr = sym.symbols('S_TrPr H_TrPr')\n",
    "params = [('H_TrPr','J',HTrPr), ('S_TrPr','J/K',STrPr), ('k0','J/K-m',k0), ('k1','J-K^(1/2)-m',k1),\n",
    "          ('k2','J-K/m',k2),  ('k3','J-K^2',k3), ('tFusion','J',tFusion), ('sFusion','J/K', sFusion), ('cpLiq', 'J/K', cpLiq)]\n",
    "GPr = HTrPr + sym.integrate(CpPr,(T,Tr,tFusion)) - T*(STrPr + sym.integrate(CpPr/T,(T,Tr,tFusion))) \\\n",
    "    + sFusion*tFusion + cpLiq*(T-tFusion) - T*(sFusion + cpLiq*sym.log(T/tFusion))\n",
    "model.add_expression_to_model(GPr, params)"
   ],
   "id": "cell-17"
  },
  {
   "cell_type": "code",
   "execution_count": null,
   "metadata": {},
   "outputs": [],
   "source": [
    "GPr"
   ],
   "id": "cell-18"
  },
  {
   "cell_type": "markdown",
   "metadata": {},
   "source": [
    "G(solid) at T, P<sub>r</sub>: lambda transition"
   ],
   "id": "cell-19"
  },
  {
   "cell_type": "code",
   "execution_count": null,
   "metadata": {},
   "outputs": [],
   "source": [
    "l1,l2 = sym.symbols('l1 l2')\n",
    "Tl, Tlr = sym.symbols('T_lambda_Pr T_lambda_ref')\n",
    "params = [('l1','(J/m)^(1/2)-K', l1), ('l2', '(J/m)^(1/2)/K^2', l2), ('T_lambda_Pr', 'K', Tl), ('T_lambda_ref', 'K', Tlr)]\n",
    "Cpl = T*(l1+l2*T)**2\n",
    "Gl = sym.integrate(Cpl,(T,Tlr,Tl)) - T*sym.integrate(Cpl/T,(T,Tlr,Tl))\n",
    "model.add_expression_to_model(Gl, params, exp_type='restricted', lower_limits=(Tr,None), upper_limits=(None,None))"
   ],
   "id": "cell-20"
  },
  {
   "cell_type": "markdown",
   "metadata": {},
   "source": [
    "G(solid) at T, P<sub>r</sub>: first order phase transition"
   ],
   "id": "cell-21"
  },
  {
   "cell_type": "code",
   "execution_count": null,
   "metadata": {},
   "outputs": [],
   "source": [
    "deltaHt = sym.symbols('H_t')\n",
    "params = [('H_t','J/m', deltaHt)]\n",
    "GaboveTl = -(T-Tl)*deltaHt/Tl\n",
    "model.add_expression_to_model(GaboveTl , params, exp_type='restricted', lower_limits=(Tr,None), upper_limits=(None,None))"
   ],
   "id": "cell-22"
  },
  {
   "cell_type": "markdown",
   "metadata": {},
   "source": [
    "G(liquid) at T, P<sub>r</sub> -\\> G(liquid) at T, P"
   ],
   "id": "cell-23"
  },
  {
   "cell_type": "code",
   "execution_count": null,
   "metadata": {},
   "outputs": [],
   "source": [
    "Vtrl,dvdt,dvdp,d2vdtdp,d2vdp2,trl = sym.symbols('Vtrl dvdt dvdp d2vdtdp d2vdp2 trl')\n",
    "params = [('Vtrl', 'J/bar', Vtrl), ('dvdt','J/bar-K',dvdt), ('dvdp','J/bar^2',dvdp), \n",
    "          ('d2vdtdp','J/bar^2-K',d2vdtdp),  ('d2vdp2','J/bar^3',d2vdp2), ('trl', 'K', trl)]\n",
    "GTPrToP = (Vtrl + dvdt*(T-trl))*(P-Pr) + (dvdp + (T-trl)*d2vdtdp)*(P*P-Pr*Pr)/2 - (dvdp + (T-trl)*d2vdtdp)*Pr*(P-Pr) \\\n",
    "        + d2vdp2*( (P*P*P-Pr*Pr*Pr)/6 - Pr*(P*P-Pr*Pr)/2 + Pr*Pr*(P-Pr)/2 )\n",
    "model.add_expression_to_model(GTPrToP, params)"
   ],
   "id": "cell-24"
  },
  {
   "cell_type": "code",
   "execution_count": null,
   "metadata": {},
   "outputs": [],
   "source": [
    "GTPrToP"
   ],
   "id": "cell-25"
  },
  {
   "cell_type": "markdown",
   "metadata": {},
   "source": [
    "### Build instances\n",
    "\n",
    "Parameters from Ghiorso and Sack (1995), unless noted."
   ],
   "id": "cell-26"
  },
  {
   "cell_type": "markdown",
   "metadata": {},
   "source": [
    "#### TiO<sub>2</sub>"
   ],
   "id": "cell-27"
  },
  {
   "cell_type": "code",
   "execution_count": null,
   "metadata": {},
   "outputs": [],
   "source": [
    "param_dict = {\n",
    "    'Phase': 'TiO2',\n",
    "    'Formula': 'Ti(1)O(2)',\n",
    "    'H_TrPr':   -944750.0,\n",
    "    'S_TrPr':        50.460,\n",
    "    'k0':            77.84,\n",
    "    'k1':             0.0,\n",
    "    'k2':           -33.678e5,\n",
    "    'k3':            40.294e7,\n",
    "    'l1':             0.0,\n",
    "    'l2':             0.0,\n",
    "    'T_lambda_Pr':    0.0,\n",
    "    'T_lambda_ref':   0.0,\n",
    "    'H_t':            0.0,\n",
    "    'Vtrl':           2.316,\n",
    "    'dvdt':           7.246e-4,\n",
    "    'dvdp':          -2.310e-5,\n",
    "    'd2vdtdp':        0.0,\n",
    "    'd2vdp2':         5.0e-10, \n",
    "    'tFusion':     1870.0,\n",
    "    'sFusion':       35.824,\n",
    "    'cpLiq':        109.2,\n",
    "    'T_r':          298.15,\n",
    "    'P_r':            1.0,\n",
    "    'trl':         1673.15\n",
    "}\n",
    "result = model.create_code_module(phase=param_dict['Phase'], formula=param_dict['Formula'], params=param_dict, module_type=model_type)\n",
    "%cat rMELTS_ZR.pyx >> endmembers.pyx\n",
    "endmember_file_list.append('TiO2_rMELTS_ZR_calib.c')\n",
    "endmember_name_list.append('TiO2')"
   ],
   "id": "cell-28"
  },
  {
   "cell_type": "markdown",
   "metadata": {},
   "source": [
    "#### Al<sub>2</sub>O<sub>3</sub>"
   ],
   "id": "cell-29"
  },
  {
   "cell_type": "code",
   "execution_count": null,
   "metadata": {},
   "outputs": [],
   "source": [
    "param_dict = {\n",
    "    'Phase': 'Al2O3',\n",
    "    'Formula': 'Al(2)O(3)',\n",
    "    'H_TrPr':  -1675700.0,\n",
    "    'S_TrPr':        50.82,\n",
    "    'k0':           155.02,\n",
    "    'k1':            -8.284E2,\n",
    "    'k2':           -38.614E5,\n",
    "    'k3':           40.908E7,\n",
    "    'l1':             0.0,\n",
    "    'l2':             0.0,\n",
    "    'T_lambda_Pr':    0.0,\n",
    "    'T_lambda_ref':   0.0,\n",
    "    'H_t':            0.0,\n",
    "    'Vtrl':           3.711,\n",
    "    'dvdt':           2.62e-4,\n",
    "    'dvdp':          -2.26e-5,\n",
    "    'd2vdtdp':        2.7e-8,\n",
    "    'd2vdp2':         4.0e-10, \n",
    "    'tFusion':     2319.65,\n",
    "    'sFusion':       48.61,\n",
    "    'cpLiq':        170.3,\n",
    "    'T_r':          298.15,\n",
    "    'P_r':            1.0,\n",
    "    'trl':         1673.15\n",
    "}\n",
    "result = model.create_code_module(phase=param_dict['Phase'], formula=param_dict['Formula'], params=param_dict, module_type=model_type)\n",
    "%cat rMELTS_ZR.pyx >> endmembers.pyx\n",
    "endmember_file_list.append('Al2O3_rMELTS_ZR_calib.c')\n",
    "endmember_name_list.append('Al2O3')"
   ],
   "id": "cell-30"
  },
  {
   "cell_type": "markdown",
   "metadata": {},
   "source": [
    "#### Fe<sub>2</sub>O<sub>3</sub>"
   ],
   "id": "cell-31"
  },
  {
   "cell_type": "code",
   "execution_count": null,
   "metadata": {},
   "outputs": [],
   "source": [
    "param_dict = {\n",
    "    'Phase': 'Fe2O3',\n",
    "    'Formula': 'Fe(2)O(3)',\n",
    "    'H_TrPr':   -822000.0,\n",
    "    'S_TrPr':        87.40,\n",
    "    'k0':           146.86,\n",
    "    'k1':             0.0,\n",
    "    'k2':           -55.768E5,\n",
    "    'k3':            52.563E7,\n",
    "    'l1':            -7.403E-2,\n",
    "    'l2':            27.921E-5,\n",
    "    'T_lambda_Pr':  955.0,\n",
    "    'T_lambda_ref': 298.15,\n",
    "    'H_t':         1287.0,\n",
    "    'Vtrl':           4.213,\n",
    "    'dvdt':           9.09E-4,\n",
    "    'dvdp':          -2.53E-5,\n",
    "    'd2vdtdp':        3.1E-8,\n",
    "    'd2vdp2':         4.4e-10, \n",
    "    'tFusion':     1895.0,\n",
    "    'sFusion':       60.41,\n",
    "    'cpLiq':        240.9,\n",
    "    'T_r':          298.15,\n",
    "    'P_r':            1.0,\n",
    "    'trl':         1673.15\n",
    "}\n",
    "result = model.create_code_module(phase=param_dict['Phase'], formula=param_dict['Formula'], params=param_dict, module_type=model_type)\n",
    "%cat rMELTS_ZR.pyx >> endmembers.pyx\n",
    "endmember_file_list.append('Fe2O3_rMELTS_ZR_calib.c')\n",
    "endmember_name_list.append('Fe2O3')"
   ],
   "id": "cell-32"
  },
  {
   "cell_type": "markdown",
   "metadata": {},
   "source": [
    "#### MgCr<sub>2</sub>O<sub>4</sub>"
   ],
   "id": "cell-33"
  },
  {
   "cell_type": "code",
   "execution_count": null,
   "metadata": {},
   "outputs": [],
   "source": [
    "param_dict = {\n",
    "    'Phase': 'MgCr2O4',\n",
    "    'Formula': 'Mg(1)Cr(2)O(4)',\n",
    "    'H_TrPr':  -1783640.0,\n",
    "    'S_TrPr':       106.02,\n",
    "    'k0':           201.981,\n",
    "    'k1':            -5.519E2,\n",
    "    'k2':           -57.844E5,\n",
    "    'k3':           57.729E7,\n",
    "    'l1':             0.0,\n",
    "    'l2':             0.0,\n",
    "    'T_lambda_Pr':    0.0,\n",
    "    'T_lambda_ref':   0.0,\n",
    "    'H_t':            0.0,\n",
    "    'Vtrl':           5.358,\n",
    "    'dvdt':          11.71e-4,\n",
    "    'dvdp':          -2.26e-5,\n",
    "    'd2vdtdp':        1.8e-8,\n",
    "    'd2vdp2':         4.67e-10, \n",
    "    'tFusion':     2673.15,\n",
    "    'sFusion':       73.22,\n",
    "    'cpLiq':        335.1,\n",
    "    'T_r':          298.15,\n",
    "    'P_r':            1.0,\n",
    "    'trl':         1673.15\n",
    "}\n",
    "result = model.create_code_module(phase=param_dict['Phase'], formula=param_dict['Formula'], params=param_dict, module_type=model_type)\n",
    "%cat rMELTS_ZR.pyx >> endmembers.pyx\n",
    "endmember_file_list.append('MgCr2O4_rMELTS_ZR_calib.c')\n",
    "endmember_name_list.append('MgCr2O4')"
   ],
   "id": "cell-34"
  },
  {
   "cell_type": "markdown",
   "metadata": {},
   "source": [
    "#### Fe<sub>2</sub>SiO<sub>4</sub>"
   ],
   "id": "cell-35"
  },
  {
   "cell_type": "code",
   "execution_count": null,
   "metadata": {},
   "outputs": [],
   "source": [
    "param_dict = {\n",
    "    'Phase': 'Fe2SiO4',\n",
    "    'Formula': 'Fe(2)Si(1)O(4)',\n",
    "    'H_TrPr':  -1479360.0,\n",
    "    'S_TrPr':       150.930,\n",
    "    'k0':           248.93,\n",
    "    'k1':           -19.239E2,\n",
    "    'k2':             0.0,\n",
    "    'k3':           -13.910E7,\n",
    "    'l1':             0.0,\n",
    "    'l2':             0.0,\n",
    "    'T_lambda_Pr':    0.0,\n",
    "    'T_lambda_ref':   0.0,\n",
    "    'H_t':            0.0,\n",
    "    'Vtrl':           5.420,\n",
    "    'dvdt':           5.84e-4,\n",
    "    'dvdp':          -2.79e-5,\n",
    "    'd2vdtdp':       -2.3e-8,\n",
    "    'd2vdp2':        14.6e-10, \n",
    "    'tFusion':      1490.0,\n",
    "    'sFusion':       59.9,\n",
    "    'cpLiq':        240.2,\n",
    "    'T_r':          298.15,\n",
    "    'P_r':            1.0,\n",
    "    'trl':         1673.15\n",
    "}\n",
    "result = model.create_code_module(phase=param_dict['Phase'], formula=param_dict['Formula'], params=param_dict, module_type=model_type)\n",
    "%cat rMELTS_ZR.pyx >> endmembers.pyx\n",
    "endmember_file_list.append('Fe2SiO4_rMELTS_ZR_calib.c')\n",
    "endmember_name_list.append('Fe2SiO4')"
   ],
   "id": "cell-36"
  },
  {
   "cell_type": "markdown",
   "metadata": {},
   "source": [
    "#### MnSi<sub>0.5</sub>O<sub>2</sub>"
   ],
   "id": "cell-37"
  },
  {
   "cell_type": "code",
   "execution_count": null,
   "metadata": {},
   "outputs": [],
   "source": [
    "param_dict = {\n",
    "    'Phase': 'MnSi1d2O2',\n",
    "    'Formula': 'Mn(1)Si(0.5)O(2)',\n",
    "    'H_TrPr':  -1732000.0/2.0,\n",
    "    'S_TrPr':       155.9/2.0,\n",
    "    'k0':           219.89/2.0,\n",
    "    'k1':           -12.710E2/2.0,\n",
    "    'k2':           -20.496E5/2.0,\n",
    "    'k3':            17.652E7/2.0,\n",
    "    'l1':             0.0,\n",
    "    'l2':             0.0,\n",
    "    'T_lambda_Pr':    0.0,\n",
    "    'T_lambda_ref':   0.0,\n",
    "    'H_t':            0.0,\n",
    "    'Vtrl':           2.84,\n",
    "    'dvdt':           5.84e-4/2.0,\n",
    "    'dvdp':          -2.79e-5/2.0,\n",
    "    'd2vdtdp':       -2.3e-8/2.0,\n",
    "    'd2vdp2':        14.6e-10/2.0, \n",
    "    'tFusion':      1620.0,\n",
    "    'sFusion':       27.6,\n",
    "    'cpLiq':        121.6,\n",
    "    'T_r':          298.15,\n",
    "    'P_r':            1.0,\n",
    "    'trl':         1673.15\n",
    "}\n",
    "result = model.create_code_module(phase=param_dict['Phase'], formula=param_dict['Formula'], params=param_dict, module_type=model_type)\n",
    "%cat rMELTS_ZR.pyx >> endmembers.pyx\n",
    "endmember_file_list.append('MnSi1d2O2_rMELTS_ZR_calib.c')\n",
    "endmember_name_list.append('MnSi1d2O2')"
   ],
   "id": "cell-38"
  },
  {
   "cell_type": "markdown",
   "metadata": {},
   "source": [
    "#### Mg<sub>2</sub>SiO<sub>4</sub>"
   ],
   "id": "cell-39"
  },
  {
   "cell_type": "code",
   "execution_count": null,
   "metadata": {},
   "outputs": [],
   "source": [
    "param_dict = {\n",
    "    'Phase': 'Mg2SiO4',\n",
    "    'Formula': 'Mg(2)Si(1)O(4)',\n",
    "    'H_TrPr':  -2174420.0,\n",
    "    'S_TrPr':        94.010,\n",
    "    'k0':           238.64,\n",
    "    'k1':           -20.013E2,\n",
    "    'k2':             0.0,\n",
    "    'k3':           -11.624E7,\n",
    "    'l1':             0.0,\n",
    "    'l2':             0.0,\n",
    "    'T_lambda_Pr':    0.0,\n",
    "    'T_lambda_ref':   0.0,\n",
    "    'H_t':            0.0,\n",
    "    'Vtrl':           4.980,\n",
    "    'dvdt':           5.24e-4,\n",
    "    'dvdp':          -1.35e-5,\n",
    "    'd2vdtdp':       -1.3e-8,\n",
    "    'd2vdp2':         4.14e-10, \n",
    "    'tFusion':      2163.0,\n",
    "    'sFusion':       57.2,\n",
    "    'cpLiq':        271.0,\n",
    "    'T_r':          298.15,\n",
    "    'P_r':            1.0,\n",
    "    'trl':         1673.15\n",
    "}\n",
    "result = model.create_code_module(phase=param_dict['Phase'], formula=param_dict['Formula'], params=param_dict, module_type=model_type)\n",
    "%cat rMELTS_ZR.pyx >> endmembers.pyx\n",
    "endmember_file_list.append('Mg2SiO4_rMELTS_ZR_calib.c')\n",
    "endmember_name_list.append('Mg2SiO4')"
   ],
   "id": "cell-40"
  },
  {
   "cell_type": "markdown",
   "metadata": {},
   "source": [
    "#### NiSi<sub>0.5</sub>O<sub>2</sub>"
   ],
   "id": "cell-41"
  },
  {
   "cell_type": "code",
   "execution_count": null,
   "metadata": {},
   "outputs": [],
   "source": [
    "param_dict = {\n",
    "    'Phase': 'NiSi1d2O2',\n",
    "    'Formula': 'Ni(1)Si(0.5)O(2)',\n",
    "    'H_TrPr':  -1395300.0/2.0,\n",
    "    'S_TrPr':       128.1/2.0,\n",
    "    'k0':           214.997/2.0,\n",
    "    'k1':           -10.3075E2/2.0,\n",
    "    'k2':           -49.4453E5/2.0,\n",
    "    'k3':            62.375E7/2.0,\n",
    "    'l1':             0.0,\n",
    "    'l2':             0.0,\n",
    "    'T_lambda_Pr':    0.0,\n",
    "    'T_lambda_ref':   0.0,\n",
    "    'H_t':            0.0,\n",
    "    'Vtrl':           2.48,\n",
    "    'dvdt':           5.84e-4/2.0,\n",
    "    'dvdp':          -2.79e-5/2.0,\n",
    "    'd2vdtdp':       -2.3e-8/2.0,\n",
    "    'd2vdp2':        14.6e-10/2.0, \n",
    "    'tFusion':      1923.0,\n",
    "    'sFusion':       29.0,\n",
    "    'cpLiq':        119.3,\n",
    "    'T_r':          298.15,\n",
    "    'P_r':            1.0,\n",
    "    'trl':         1673.15\n",
    "}\n",
    "result = model.create_code_module(phase=param_dict['Phase'], formula=param_dict['Formula'], params=param_dict, module_type=model_type)\n",
    "%cat rMELTS_ZR.pyx >> endmembers.pyx\n",
    "endmember_file_list.append('NiSi1d2O2_rMELTS_ZR_calib.c')\n",
    "endmember_name_list.append('NiSi1d2O2')"
   ],
   "id": "cell-42"
  },
  {
   "cell_type": "markdown",
   "metadata": {},
   "source": [
    "#### CoSi<sub>0.5</sub>O<sub>2</sub>"
   ],
   "id": "cell-43"
  },
  {
   "cell_type": "code",
   "execution_count": null,
   "metadata": {},
   "outputs": [],
   "source": [
    "param_dict = {\n",
    "    'Phase': 'CoSi1d2O2',\n",
    "    'Formula': 'Co(1)Si(0.5)O(2)',\n",
    "    'H_TrPr':  -1414100.0/2.0,\n",
    "    'S_TrPr':       142.6/2.0,\n",
    "    'k0':           201.048/2.0,\n",
    "    'k1':            -0.369E2/2.0,\n",
    "    'k2':           -71.81E5/2.0,\n",
    "    'k3':            90.05E7/2.0,\n",
    "    'l1':             0.0,\n",
    "    'l2':             0.0,\n",
    "    'T_lambda_Pr':    0.0,\n",
    "    'T_lambda_ref':   0.0,\n",
    "    'H_t':            0.0,\n",
    "    'Vtrl':           2.30,\n",
    "    'dvdt':           5.84e-4/2.0,\n",
    "    'dvdp':          -2.79e-5/2.0,\n",
    "    'd2vdtdp':       -2.3e-8/2.0,\n",
    "    'd2vdp2':        14.6e-10/2.0, \n",
    "    'tFusion':      1688.0,\n",
    "    'sFusion':       29.0,\n",
    "    'cpLiq':        125.3,\n",
    "    'T_r':          298.15,\n",
    "    'P_r':            1.0,\n",
    "    'trl':         1673.15\n",
    "}\n",
    "result = model.create_code_module(phase=param_dict['Phase'], formula=param_dict['Formula'], params=param_dict, module_type=model_type)\n",
    "%cat rMELTS_ZR.pyx >> endmembers.pyx\n",
    "endmember_file_list.append('CoSi1d2O2_rMELTS_ZR_calib.c')\n",
    "endmember_name_list.append('CoSi1d2O2')"
   ],
   "id": "cell-44"
  },
  {
   "cell_type": "markdown",
   "metadata": {},
   "source": [
    "#### CaSiO<sub>3</sub>"
   ],
   "id": "cell-45"
  },
  {
   "cell_type": "code",
   "execution_count": null,
   "metadata": {},
   "outputs": [],
   "source": [
    "param_dict = {\n",
    "    'Phase': 'CaSiO3',\n",
    "    'Formula': 'Ca(1)Si(1)O(3)',\n",
    "    'H_TrPr':  -1627427.0,\n",
    "    'S_TrPr':        85.279,\n",
    "    'k0':           141.16,\n",
    "    'k1':            -4.172e2,\n",
    "    'k2':           -58.576e5,\n",
    "    'k3':            94.074e7,\n",
    "    'l1':             0.0,\n",
    "    'l2':             0.0,\n",
    "    'T_lambda_Pr':    0.0,\n",
    "    'T_lambda_ref':   0.0,\n",
    "    'H_t':            0.0,\n",
    "    'Vtrl':           4.347,\n",
    "    'dvdt':           2.92e-4,\n",
    "    'dvdp':          -1.55e-5,\n",
    "    'd2vdtdp':       -1.6e-8,\n",
    "    'd2vdp2':         3.89e-10, \n",
    "    'tFusion':      1817.0,\n",
    "    'sFusion':       31.5,\n",
    "    'cpLiq':        172.4,\n",
    "    'T_r':          298.15,\n",
    "    'P_r':            1.0,\n",
    "    'trl':         1673.15\n",
    "}\n",
    "result = model.create_code_module(phase=param_dict['Phase'], formula=param_dict['Formula'], params=param_dict, module_type=model_type)\n",
    "%cat rMELTS_ZR.pyx >> endmembers.pyx\n",
    "endmember_file_list.append('CaSiO3_rMELTS_ZR_calib.c')\n",
    "endmember_name_list.append('CaSiO3')"
   ],
   "id": "cell-46"
  },
  {
   "cell_type": "markdown",
   "metadata": {},
   "source": [
    "#### Na<sub>2</sub>SiO<sub>3</sub>"
   ],
   "id": "cell-47"
  },
  {
   "cell_type": "code",
   "execution_count": null,
   "metadata": {},
   "outputs": [],
   "source": [
    "param_dict = {\n",
    "    'Phase': 'Na2SiO3',\n",
    "    'Formula': 'Na(2)Si(1)O(3)',\n",
    "    'H_TrPr':   -373190.0*4.184,\n",
    "    'S_TrPr':        27.21*4.184,\n",
    "    'k0':           234.77,\n",
    "    'k1':           -22.189E2,\n",
    "    'k2':             0.0,\n",
    "    'k3':            13.530E7,\n",
    "    'l1':             0.0,\n",
    "    'l2':             0.0,\n",
    "    'T_lambda_Pr':    0.0,\n",
    "    'T_lambda_ref':   0.0,\n",
    "    'H_t':            0.0,\n",
    "    'Vtrl':           5.568,\n",
    "    'dvdt':           7.41e-4,\n",
    "    'dvdp':          -4.29e-5,\n",
    "    'd2vdtdp':       -5.3e-8,\n",
    "    'd2vdp2':         8.4e-10, \n",
    "    'tFusion':      1361.0,\n",
    "    'sFusion':       38.34,\n",
    "    'cpLiq':        180.2,\n",
    "    'T_r':          298.15,\n",
    "    'P_r':            1.0,\n",
    "    'trl':         1673.15\n",
    "}\n",
    "result = model.create_code_module(phase=param_dict['Phase'], formula=param_dict['Formula'], params=param_dict, module_type=model_type)\n",
    "%cat rMELTS_ZR.pyx >> endmembers.pyx\n",
    "endmember_file_list.append('Na2SiO3_rMELTS_ZR_calib.c')\n",
    "endmember_name_list.append('Na2SiO3')"
   ],
   "id": "cell-48"
  },
  {
   "cell_type": "markdown",
   "metadata": {},
   "source": [
    "#### KAlSiO<sub>4</sub>"
   ],
   "id": "cell-49"
  },
  {
   "cell_type": "code",
   "execution_count": null,
   "metadata": {},
   "outputs": [],
   "source": [
    "param_dict = {\n",
    "    'Phase': 'KAlSiO4',\n",
    "    'Formula': 'K(1)Al(1)Si(1)O(4)',\n",
    "    'H_TrPr':  -2111813.55,\n",
    "    'S_TrPr':       133.9653,\n",
    "    'k0':           186.0,\n",
    "    'k1':             0.0,\n",
    "    'k2':          -131.067E5,\n",
    "    'k3':           213.893E7,\n",
    "    'l1':            -7.096454E-2,\n",
    "    'l2':            21.682E-5,\n",
    "    'T_lambda_Pr':  800.15,\n",
    "    'T_lambda_ref': 298.15,\n",
    "    'H_t':         1154.0,\n",
    "    'Vtrl':           6.8375,\n",
    "    'dvdt':           7.265e-4,\n",
    "    'dvdp':          -6.395e-5,\n",
    "    'd2vdtdp':       -4.6e-8,\n",
    "    'd2vdp2':        12.1e-10, \n",
    "    'tFusion':      2023.15,\n",
    "    'sFusion':       24.5,\n",
    "    'cpLiq':        217.0,\n",
    "    'T_r':          298.15,\n",
    "    'P_r':            1.0,\n",
    "    'trl':         1673.15\n",
    "}\n",
    "result = model.create_code_module(phase=param_dict['Phase'], formula=param_dict['Formula'], params=param_dict, module_type=model_type)\n",
    "%cat rMELTS_ZR.pyx >> endmembers.pyx\n",
    "endmember_file_list.append('KAlSiO4_rMELTS_ZR_calib.c')\n",
    "endmember_name_list.append('KAlSiO4')"
   ],
   "id": "cell-50"
  },
  {
   "cell_type": "markdown",
   "metadata": {},
   "source": [
    "#### Ca<sub>3</sub>(PO<sub>3</sub>)<sub>2</sub>"
   ],
   "id": "cell-51"
  },
  {
   "cell_type": "code",
   "execution_count": null,
   "metadata": {},
   "outputs": [],
   "source": [
    "param_dict = {\n",
    "    'Phase': 'Ca3P2O8',\n",
    "    'Formula': 'Ca(3)P(2)O(8)',\n",
    "    'H_TrPr':  -4097169.0,\n",
    "    'S_TrPr':       235.978,\n",
    "    'k0':           402.997,\n",
    "    'k1':           -28.0835E2,\n",
    "    'k2':             0.0,\n",
    "    'k3':           -32.6230E7,\n",
    "    'l1':             2.5427E-2,\n",
    "    'l2':            19.255E-5,\n",
    "    'T_lambda_Pr': 1373.0,\n",
    "    'T_lambda_ref': 298.15,\n",
    "    'H_t':        14059.0,\n",
    "    'Vtrl':          10.7382,\n",
    "    'dvdt':           0.0,\n",
    "    'dvdp':           0.0,\n",
    "    'd2vdtdp':        0.0,\n",
    "    'd2vdp2':         0.0, \n",
    "    'tFusion':      1943.15,\n",
    "    'sFusion':       35.690,\n",
    "    'cpLiq':        574.67,\n",
    "    'T_r':          298.15,\n",
    "    'P_r':            1.0,\n",
    "    'trl':         1673.15\n",
    "}\n",
    "result = model.create_code_module(phase=param_dict['Phase'], formula=param_dict['Formula'], params=param_dict, module_type=model_type)\n",
    "%cat rMELTS_ZR.pyx >> endmembers.pyx\n",
    "endmember_file_list.append('Ca3P2O8_rMELTS_ZR_calib.c')\n",
    "endmember_name_list.append('Ca3P2O8')"
   ],
   "id": "cell-52"
  },
  {
   "cell_type": "markdown",
   "metadata": {},
   "source": [
    "#### H<sub>2</sub>O\n",
    "\n",
    "This is a placeholder model for the one described in Ghiorso and Gualda (2015). The real code is copied into the working directory."
   ],
   "id": "cell-53"
  },
  {
   "cell_type": "code",
   "execution_count": null,
   "metadata": {},
   "outputs": [],
   "source": [
    "param_dict = {\n",
    "    'Phase': 'H2O',\n",
    "    'Formula': 'H(2)O(1)',\n",
    "    'H_TrPr':    -99999.0,\n",
    "    'S_TrPr':         0.0,\n",
    "    'k0':             0.0,\n",
    "    'k1':             0.0,\n",
    "    'k2':             0.0,\n",
    "    'k3':             0.0,\n",
    "    'l1':             0.0,\n",
    "    'l2':             0.0,\n",
    "    'T_lambda_Pr':    0.0,\n",
    "    'T_lambda_ref':   0.0,\n",
    "    'H_t':            0.0,\n",
    "    'Vtrl':           0.0,\n",
    "    'dvdt':           0.0,\n",
    "    'dvdp':           0.0,\n",
    "    'd2vdtdp':        0.0,\n",
    "    'd2vdp2':         0.0, \n",
    "    'tFusion':     1000.0,\n",
    "    'sFusion':        0.0,\n",
    "    'cpLiq':          0.0,\n",
    "    'T_r':          298.15,\n",
    "    'P_r':            1.0,\n",
    "    'trl':         1673.15\n",
    "}\n",
    "result = model.create_code_module(phase=param_dict['Phase'], formula=param_dict['Formula'], params=param_dict, module_type=model_type)\n",
    "%cat rMELTS_ZR.pyx >> endmembers.pyx\n",
    "%cp ../H2O_rMELTS_ZR_calib.c .\n",
    "%cp ../H2O_rMELTS_ZR_calib.h .\n",
    "endmember_file_list.append('H2O_rMELTS_ZR_calib.c')\n",
    "endmember_name_list.append('H2O')"
   ],
   "id": "cell-54"
  },
  {
   "cell_type": "markdown",
   "metadata": {},
   "source": [
    "#### CO<sub>2</sub>\n",
    "\n",
    "The enthalpy, entropy, heat capacity and dCpDt entries are correction terms that should be added to Duan’s pure CO<sub>2</sub>  \n",
    "This is a placeholder model for the one described in Ghiorso and Gualda (2015). The real code is copied into the working directory."
   ],
   "id": "cell-55"
  },
  {
   "cell_type": "code",
   "execution_count": null,
   "metadata": {},
   "outputs": [],
   "source": [
    "param_dict = {\n",
    "    'Phase': 'CO2',\n",
    "    'Formula': 'C(1)O(2)',\n",
    "    'H_TrPr':        -6.3093193811701e-01*1000.0,\n",
    "    'S_TrPr':        -1.0939331414050e+02,\n",
    "    'k0':             0.0,\n",
    "    'k1':             0.0,\n",
    "    'k2':             0.0,\n",
    "    'k3':             0.0,\n",
    "    'l1':             0.0,\n",
    "    'l2':             0.0,\n",
    "    'T_lambda_Pr':    0.0,\n",
    "    'T_lambda_ref':   0.0,\n",
    "    'H_t':            0.0,\n",
    "    'Vtrl':           4.0157994267547e+00,\n",
    "    'dvdt':           1.2131890000000e+00/1000.0,\n",
    "    'dvdp':          -4.2673870000000e-01/10000.0,\n",
    "    'd2vdtdp':        0.0,\n",
    "    'd2vdp2':         0.0, \n",
    "    'tFusion':     1000.0,\n",
    "    'sFusion':        0.0,\n",
    "    'cpLiq':          0.0,\n",
    "    'T_r':          298.15,\n",
    "    'P_r':            1.0,\n",
    "    'trl':         1673.15\n",
    "}\n",
    "result = model.create_code_module(phase=param_dict['Phase'], formula=param_dict['Formula'], params=param_dict, module_type=model_type)\n",
    "%cat rMELTS_ZR.pyx >> endmembers.pyx\n",
    "%cp ../CO2_rMELTS_ZR_calib.c .\n",
    "%cp ../CO2_rMELTS_ZR_calib.h .\n",
    "endmember_file_list.append('CO2_rMELTS_ZR_calib.c')\n",
    "endmember_name_list.append('CO2')"
   ],
   "id": "cell-56"
  },
  {
   "cell_type": "markdown",
   "metadata": {},
   "source": [
    "## Special case ZrSiO<sub>4</sub>\n",
    "\n",
    "New component, not in previously published material.  \n",
    "Properties are derived from Robie and Hemingway, 1995:  \n",
    "Robie RA, Hemingway BS (1995) Thermodynamic Properties of Minerals and Related Substances at 298.15 K and 1 Bar (10<sup>5</sup> Pascals) Pressure and at Higher Temperatures. US Geological Survey Bulletin 2131, 461pp."
   ],
   "id": "cell-57"
  },
  {
   "cell_type": "code",
   "execution_count": null,
   "metadata": {},
   "outputs": [],
   "source": [
    "model = coder.StdStateModel()\n",
    "model.set_module_name('rMELTS_ZR')\n",
    "model_type = \"calib\"\n",
    "T = model.get_symbol_for_t()\n",
    "P = model.get_symbol_for_p()\n",
    "Tr = model.get_symbol_for_tr()\n",
    "Pr = model.get_symbol_for_pr()"
   ],
   "id": "cell-58"
  },
  {
   "cell_type": "markdown",
   "metadata": {},
   "source": [
    "\\$C_P = A_1 + A_2 T +  +  + A_5 T^2 \\$"
   ],
   "id": "cell-59"
  },
  {
   "cell_type": "code",
   "execution_count": null,
   "metadata": {},
   "outputs": [],
   "source": [
    "h0,s0,v0,a1,a2,a3,a4,a5 = sym.symbols('h0 s0 v0 a1 a2 a3 a4 a5')\n",
    "params = [('h0','J',h0), ('s0', 'J/K', s0), ('v0', 'J/bar', v0), \n",
    "          ('a1', 'J/K', a1), ('a2', 'J/K^2', a2), ('a3', 'J-K', a3), ('a4', 'J/K^1/2', a4), ('a5', 'J/K^3', a5)]\n",
    "Cp = a1 + a2*T + a3/T**2 + a4/sym.sqrt(T) +a5*T**2\n",
    "H = h0 + sym.integrate(Cp,(T,Tr,T))\n",
    "S = s0 + sym.integrate(Cp/T,(T,Tr,T))\n",
    "GPrP = sym.integrate(v0,(P,Pr,P))\n",
    "G = H - T*S + GPrP\n",
    "G"
   ],
   "id": "cell-60"
  },
  {
   "cell_type": "code",
   "execution_count": null,
   "metadata": {},
   "outputs": [],
   "source": [
    "model.add_expression_to_model(G, params)"
   ],
   "id": "cell-61"
  },
  {
   "cell_type": "code",
   "execution_count": null,
   "metadata": {},
   "outputs": [],
   "source": [
    "param_dict = {\n",
    "    'Phase': 'ZrSiO4',\n",
    "    'Formula': 'Zr(1)Si(1)O(4)',\n",
    "    'h0':  -2034200.0,          # Robie and Hemingway\n",
    "    's0':        84.0,          # Robie and Hemingway\n",
    "    'v0':         3.926,        # Robie and Hemingway\n",
    "    'a1':         2.370e2,      # Robie and Hemingway\n",
    "    'a2':        -1.788e-2,     # Robie and Hemingway\n",
    "    'a3':        -1.496e5,      # Robie and Hemingway\n",
    "    'a4':        -2.268e3,      # Robie and Hemingway\n",
    "    'a5':         0.0,          # Robie and Hemingway\n",
    "    'T_r':      298.15,\n",
    "    'P_r':        1.0\n",
    "}\n",
    "result = model.create_code_module(phase=param_dict['Phase'], formula=param_dict['Formula'], params=param_dict, module_type=model_type)\n",
    "%cat rMELTS_ZR.pyx >> endmembers.pyx\n",
    "endmember_file_list.append('ZrSiO4_rMELTS_ZR_calib.c')\n",
    "endmember_name_list.append('ZrSiO4')"
   ],
   "id": "cell-62"
  },
  {
   "cell_type": "markdown",
   "metadata": {},
   "source": [
    "## Import the module\n",
    "\n",
    "First, update the cython build file to include all of the endmember modules"
   ],
   "id": "cell-63"
  },
  {
   "cell_type": "code",
   "execution_count": null,
   "metadata": {},
   "outputs": [],
   "source": [
    "with open('rMELTS_ZR.pyxbld', 'r') as f:\n",
    "    fold = f.read()\n",
    "    f.close()\n",
    "old_file_list = \"'\" + endmember_file_list[-1] + \"'\"\n",
    "new_file_list = ''\n",
    "sep = ''\n",
    "for x in endmember_file_list:\n",
    "    new_file_list += sep + \"'\" + x + \"'\"\n",
    "    sep = \", \"\n",
    "fnew = fold.replace(old_file_list, new_file_list)\n",
    "with open('rMELTS_ZR.pyxbld', 'w') as f:\n",
    "    f.write(fnew)\n",
    "    f.close\n",
    "%cp endmembers.pyx rMELTS_ZR.pyx"
   ],
   "id": "cell-64"
  },
  {
   "cell_type": "code",
   "execution_count": null,
   "metadata": {},
   "outputs": [],
   "source": [
    "import rMELTS_ZR\n",
    "%cd .."
   ],
   "id": "cell-65"
  },
  {
   "cell_type": "markdown",
   "metadata": {},
   "source": [
    "## Testing\n",
    "\n",
    "Evaluate test functions at temperature (K) and pressure (bars)"
   ],
   "id": "cell-66"
  },
  {
   "cell_type": "code",
   "execution_count": null,
   "metadata": {},
   "outputs": [],
   "source": [
    "t = 1000.0\n",
    "p = 1000.0"
   ],
   "id": "cell-67"
  },
  {
   "cell_type": "markdown",
   "metadata": {},
   "source": [
    "Generic testing method, utilized here and below"
   ],
   "id": "cell-68"
  },
  {
   "cell_type": "code",
   "execution_count": null,
   "metadata": {},
   "outputs": [],
   "source": [
    "from rubicon.objc import ObjCClass\n",
    "src_cls = ObjCClass('LiquidMeltsPlusOldH2OandNewCO2')\n",
    "src_obj = src_cls.alloc().init()"
   ],
   "id": "cell-69"
  },
  {
   "cell_type": "code",
   "execution_count": null,
   "metadata": {},
   "outputs": [],
   "source": [
    "def compare_model_and_timers(new_model='SiO2', old_model_index=0, print_results=True, time_g=True):\n",
    "    def cmp_output(ref, x, y):\n",
    "        fmt = \"{0:<10.10s} {1:13.6e} {2:13.6e} {3:13.6e} {4:6.2f}%\"\n",
    "        if print_results:\n",
    "            print(fmt.format(ref, x, y, x-y, 100.0*math.fabs((x-y)/y)))\n",
    "        else:\n",
    "            assert 100.0*math.fabs((x-y)/y) < 0.01, ref+' fails comparison!'\n",
    "    def tst_output(ref, x):\n",
    "        fmts = \"{0:<10.10s} {1:13.6e}\"\n",
    "        if print_results:\n",
    "            print(fmts.format(ref, x))\n",
    "    refPhase = src_obj.endmembers[old_model_index]\n",
    "    x = getattr(rMELTS_ZR, 'cy_'+new_model+'_rMELTS_ZR_calib_g')(t,p)\n",
    "    y = refPhase.getGibbsFreeEnergyFromT_andP_(t,p)\n",
    "    cmp_output('G', x, y)\n",
    "    x = getattr(rMELTS_ZR, 'cy_'+new_model+'_rMELTS_ZR_calib_dgdt')(t,p)\n",
    "    y = -refPhase.getEntropyFromT_andP_(t,p)\n",
    "    cmp_output('dGdT', x, y)\n",
    "    x = getattr(rMELTS_ZR, 'cy_'+new_model+'_rMELTS_ZR_calib_dgdp')(t,p)\n",
    "    y = refPhase.getVolumeFromT_andP_(t,p)\n",
    "    cmp_output('dGdP', x, y) \n",
    "    x = getattr(rMELTS_ZR, 'cy_'+new_model+'_rMELTS_ZR_calib_d2gdt2')(t,p)\n",
    "    tst_output('d2GdT2', x)\n",
    "    x = getattr(rMELTS_ZR, 'cy_'+new_model+'_rMELTS_ZR_calib_d2gdtdp')(t,p)\n",
    "    tst_output('d2GdTdP', x)\n",
    "    x = getattr(rMELTS_ZR, 'cy_'+new_model+'_rMELTS_ZR_calib_d2gdp2')(t,p)\n",
    "    tst_output('d2GdP2', x)\n",
    "    x = getattr(rMELTS_ZR, 'cy_'+new_model+'_rMELTS_ZR_calib_d3gdt3')(t,p)\n",
    "    tst_output('d3GdT3', x)\n",
    "    x = getattr(rMELTS_ZR, 'cy_'+new_model+'_rMELTS_ZR_calib_d3gdt2dp')(t,p)\n",
    "    tst_output('d3GdT2dP', x)\n",
    "    x = getattr(rMELTS_ZR, 'cy_'+new_model+'_rMELTS_ZR_calib_d3gdtdp2')(t,p)\n",
    "    tst_output('d3GdTdP2', x)\n",
    "    x = getattr(rMELTS_ZR, 'cy_'+new_model+'_rMELTS_ZR_calib_d3gdp3')(t,p)\n",
    "    tst_output('d3GdP3', x)\n",
    "    x = getattr(rMELTS_ZR, 'cy_'+new_model+'_rMELTS_ZR_calib_s')(t,p)\n",
    "    y = refPhase.getEntropyFromT_andP_(t,p)\n",
    "    cmp_output('S', x, y)\n",
    "    x = getattr(rMELTS_ZR, 'cy_'+new_model+'_rMELTS_ZR_calib_v')(t,p)\n",
    "    y = refPhase.getVolumeFromT_andP_(t,p)\n",
    "    cmp_output('V', x, y)\n",
    "    x = getattr(rMELTS_ZR, 'cy_'+new_model+'_rMELTS_ZR_calib_cv')(t,p)\n",
    "    tst_output('Cv', x)\n",
    "    x = getattr(rMELTS_ZR, 'cy_'+new_model+'_rMELTS_ZR_calib_cp')(t,p)\n",
    "    y = refPhase.getHeatCapacityFromT_andP_(t,p)\n",
    "    cmp_output('Cp', x, y)\n",
    "    x = getattr(rMELTS_ZR, 'cy_'+new_model+'_rMELTS_ZR_calib_dcpdt')(t,p)\n",
    "    tst_output('dCpdT', x)\n",
    "    x = getattr(rMELTS_ZR, 'cy_'+new_model+'_rMELTS_ZR_calib_alpha')(t,p)\n",
    "    tst_output('alpha', x)\n",
    "    x = getattr(rMELTS_ZR, 'cy_'+new_model+'_rMELTS_ZR_calib_beta')(t,p)\n",
    "    tst_output('beta', x)\n",
    "    x = getattr(rMELTS_ZR, 'cy_'+new_model+'_rMELTS_ZR_calib_K')(t,p)\n",
    "    tst_output('K', x)\n",
    "    x = getattr(rMELTS_ZR, 'cy_'+new_model+'_rMELTS_ZR_calib_Kp')(t,p)\n",
    "    tst_output('Kp', x)\n",
    "    if time_g:\n",
    "        print ('Time coder generated function ...')\n",
    "        method = getattr(rMELTS_ZR, 'cy_'+new_model+'_rMELTS_ZR_calib_g')\n",
    "        %timeit method(t, p)\n",
    "        print ('Time provided Objective-C function ...')\n",
    "        %timeit refPhase.getGibbsFreeEnergyFromT_andP_(t,p)"
   ],
   "id": "cell-70"
  },
  {
   "cell_type": "markdown",
   "metadata": {},
   "source": [
    "Test and time code"
   ],
   "id": "cell-71"
  },
  {
   "cell_type": "code",
   "execution_count": null,
   "metadata": {},
   "outputs": [],
   "source": [
    "for i,x in enumerate(endmember_name_list):\n",
    "    if x != 'ZrSiO4':\n",
    "        print ('Testing code for', x, '...')\n",
    "        compare_model_and_timers(new_model=x, old_model_index=i, print_results=True, time_g=False)\n",
    "        print ('')"
   ],
   "id": "cell-72"
  },
  {
   "cell_type": "code",
   "execution_count": null,
   "metadata": {},
   "outputs": [],
   "source": [
    "def output_model_and_timers(new_model='SiO2', print_results=True, time_g=True):\n",
    "    def tst_output(ref, x):\n",
    "        fmts = \"{0:<10.10s} {1:13.6e}\"\n",
    "        if print_results:\n",
    "            print(fmts.format(ref, x))\n",
    "    x = getattr(rMELTS_ZR, 'cy_'+new_model+'_rMELTS_ZR_calib_g')(t,p)\n",
    "    tst_output('G', x)\n",
    "    x = getattr(rMELTS_ZR, 'cy_'+new_model+'_rMELTS_ZR_calib_dgdt')(t,p)\n",
    "    tst_output('dGdT', x)\n",
    "    x = getattr(rMELTS_ZR, 'cy_'+new_model+'_rMELTS_ZR_calib_dgdp')(t,p)\n",
    "    tst_output('dGdP', x) \n",
    "    x = getattr(rMELTS_ZR, 'cy_'+new_model+'_rMELTS_ZR_calib_d2gdt2')(t,p)\n",
    "    tst_output('d2GdT2', x)\n",
    "    x = getattr(rMELTS_ZR, 'cy_'+new_model+'_rMELTS_ZR_calib_d2gdtdp')(t,p)\n",
    "    tst_output('d2GdTdP', x)\n",
    "    x = getattr(rMELTS_ZR, 'cy_'+new_model+'_rMELTS_ZR_calib_d2gdp2')(t,p)\n",
    "    tst_output('d2GdP2', x)\n",
    "    x = getattr(rMELTS_ZR, 'cy_'+new_model+'_rMELTS_ZR_calib_d3gdt3')(t,p)\n",
    "    tst_output('d3GdT3', x)\n",
    "    x = getattr(rMELTS_ZR, 'cy_'+new_model+'_rMELTS_ZR_calib_d3gdt2dp')(t,p)\n",
    "    tst_output('d3GdT2dP', x)\n",
    "    x = getattr(rMELTS_ZR, 'cy_'+new_model+'_rMELTS_ZR_calib_d3gdtdp2')(t,p)\n",
    "    tst_output('d3GdTdP2', x)\n",
    "    x = getattr(rMELTS_ZR, 'cy_'+new_model+'_rMELTS_ZR_calib_d3gdp3')(t,p)\n",
    "    tst_output('d3GdP3', x)\n",
    "    x = getattr(rMELTS_ZR, 'cy_'+new_model+'_rMELTS_ZR_calib_s')(t,p)\n",
    "    tst_output('S', x)\n",
    "    x = getattr(rMELTS_ZR, 'cy_'+new_model+'_rMELTS_ZR_calib_v')(t,p)\n",
    "    tst_output('V', x)\n",
    "    x = getattr(rMELTS_ZR, 'cy_'+new_model+'_rMELTS_ZR_calib_cv')(t,p)\n",
    "    tst_output('Cv', x)\n",
    "    x = getattr(rMELTS_ZR, 'cy_'+new_model+'_rMELTS_ZR_calib_cp')(t,p)\n",
    "    tst_output('Cp', x)\n",
    "    x = getattr(rMELTS_ZR, 'cy_'+new_model+'_rMELTS_ZR_calib_dcpdt')(t,p)\n",
    "    tst_output('dCpdT', x)\n",
    "    x = getattr(rMELTS_ZR, 'cy_'+new_model+'_rMELTS_ZR_calib_alpha')(t,p)\n",
    "    tst_output('alpha', x)\n",
    "    x = getattr(rMELTS_ZR, 'cy_'+new_model+'_rMELTS_ZR_calib_beta')(t,p)\n",
    "    tst_output('beta', x)\n",
    "    x = getattr(rMELTS_ZR, 'cy_'+new_model+'_rMELTS_ZR_calib_K')(t,p)\n",
    "    tst_output('K', x)\n",
    "    x = getattr(rMELTS_ZR, 'cy_'+new_model+'_rMELTS_ZR_calib_Kp')(t,p)\n",
    "    tst_output('Kp', x)\n",
    "    if time_g:\n",
    "        print ('Time coder generated function ...')\n",
    "        method = getattr(rMELTS_ZR, 'cy_'+new_model+'_rMELTS_ZR_calib_g')\n",
    "        %timeit method(t, p)"
   ],
   "id": "cell-73"
  },
  {
   "cell_type": "markdown",
   "metadata": {},
   "source": [
    "## Timing the ZrSiO4 code"
   ],
   "id": "cell-74"
  },
  {
   "cell_type": "code",
   "execution_count": null,
   "metadata": {},
   "outputs": [],
   "source": [
    "output_model_and_timers(new_model='ZrSiO4', print_results=True, time_g=True)"
   ],
   "id": "cell-75"
  }
 ],
 "nbformat": 4,
 "nbformat_minor": 5,
 "metadata": {}
}
