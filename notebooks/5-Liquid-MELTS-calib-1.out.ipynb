{
 "cells": [
  {
   "cell_type": "markdown",
   "metadata": {},
   "source": [
    "# 5-Initial parameter estimates: MELTS liquid model with\n",
    "\n",
    "ZrSiO<sub>4</sub>"
   ],
   "id": "8fbbf8e1-f868-4164-bb1d-3b7f366bdec6"
  },
  {
   "cell_type": "markdown",
   "metadata": {},
   "source": [
    "# 5-Initial parameter estimates: MELTS liquid model with ZrSiO<sub>4</sub>\n",
    "\n",
    "**Parameter and calibration exploration notebook.**  \n",
    "**Run Endmembers-MELTS and Liquid-MELTS-codegen notebooks first!**\n",
    "\n",
    "Proposed associated solution model:\n",
    "\n",
    "| Components:                                | Species:                                    | Reaction:                                                                                                                              | Variable: | Component: | Species X: |\n",
    "|:-------------|:----------|:-----------|:-----------|:------------|:------------|\n",
    "| SiO<sub>2</sub>                            | SiO<sub>2</sub>                             |                                                                                                                                        |           | $n_1$      | $X_1$      |\n",
    "| TiO<sub>2</sub>                            | TiO<sub>2</sub>                             |                                                                                                                                        | $r_1$     | $n_2$      | $X_2$      |\n",
    "| Al<sub>2</sub>O<sub>3</sub>                | Al<sub>2</sub>O<sub>3</sub>                 |                                                                                                                                        | $r_2$     | $n_3$      | $X_3$      |\n",
    "| Fe<sub>2</sub>O<sub>3</sub>                | Fe<sub>2</sub>O<sub>3</sub>                 |                                                                                                                                        | $r_3$     | $n_4$      | $X_4$      |\n",
    "| MgCr<sub>2</sub>O<sub>4</sub>              | MgCr<sub>2</sub>O<sub>4</sub>               |                                                                                                                                        | $r_4$     | $n_5$      | $X_5$      |\n",
    "| Fe<sub>2</sub>SiO<sub>4</sub>              | Fe<sub>2</sub>SiO<sub>4</sub>               |                                                                                                                                        | $r_5$     | $n_6$      | $X_6$      |\n",
    "| MnSi<sub>1/2</sub>O<sub>2</sub>            | MnSi<sub>1/2</sub>O<sub>2</sub>             |                                                                                                                                        | $r_6$     | $n_7$      | $X_7$      |\n",
    "| Mg<sub>2</sub>SiO<sub>4</sub>              | Mg<sub>2</sub>SiO<sub>4</sub>               |                                                                                                                                        | $r_7$     | $n_8$      | $X_8$      |\n",
    "| NiSi<sub>1/2</sub>O<sub>2</sub>            | NiSi<sub>1/2</sub>O<sub>2</sub>             |                                                                                                                                        | $r_8$     | $n_9$      | $X_9$      |\n",
    "| CoSi<sub>1/2</sub>O<sub>2</sub>            | CoSi<sub>1/2</sub>O<sub>2</sub>             |                                                                                                                                        | $r_9$     | $n_{10}$   | $X_{10}$   |\n",
    "| CaSiO<sub>3</sub>                          | CaSiO<sub>3</sub>                           |                                                                                                                                        | $r_{10}$  | $n_{11}$   | $X_{11}$   |\n",
    "| Na<sub>2</sub>SiO<sub>3</sub>              | Na<sub>2</sub>SiO<sub>3</sub>               |                                                                                                                                        | $r_{11}$  | $n_{12}$   | $X_{12}$   |\n",
    "| KAlSiO<sub>4</sub>                         | KAlSiO<sub>4</sub>                          |                                                                                                                                        | $r_{12}$  | $n_{13}$   | $X_{13}$   |\n",
    "| Ca<sub>3</sub>(PO<sub>4</sub>)<sub>2</sub> | Ca<sub>3</sub>(PO<sub>4</sub>)<sub>2</sub>  |                                                                                                                                        | $r_{13}$  | $n_{14}$   | $X_{14}$   |\n",
    "| H<sub>2</sub>O                             | H<sub>2</sub>O                              |                                                                                                                                        | $r_{14}$  | $n_{15}$   | $X_{15}$   |\n",
    "| CO<sub>2</sub>                             | CO<sub>2</sub>                              |                                                                                                                                        | $r_{15}$  | $n_{16}$   | $X_{16}$   |\n",
    "| ZrSiO<sub>4</sub>                          | ZrSiO<sub>4</sub>                           |                                                                                                                                        | $r_{16}$  | $n_{17}$   | $X_{17}$   |\n",
    "|                                            | CaCO<sub>3</sub>                            | CO<sub>2</sub> + CaSiO<sub>3</sub> = CaCO<sub>3</sub> + SiO<sub>2</sub>                                                                | $s_1$     |            | $X_{18}$   |\n",
    "|                                            | Na<sub>4</sub>ZrSi<sub>2</sub>O<sub>8</sub> | ZrSiO<sub>4</sub> + 2Na<sub>2</sub>SiO<sub>3</sub> = Na<sub>4</sub>ZrSi<sub>2</sub>O<sub>8</sub> + SiO<sub>2</sub>                     | $s_2$     |            | $X_{19}$   |\n",
    "|                                            | K<sub>4</sub>ZrSi<sub>2</sub>O<sub>8</sub>  | ZrSiO<sub>4</sub> + 4KAlSiO<sub>4</sub> = K<sub>4</sub>ZrSi<sub>2</sub>O<sub>8</sub> + 2Al<sub>2</sub>O<sub>3</sub> + 3SiO<sub>2</sub> | $s_3$     |            | $X_{20}$   |"
   ],
   "id": "cell-0"
  },
  {
   "cell_type": "code",
   "execution_count": null,
   "metadata": {},
   "outputs": [],
   "source": [
    "import pandas as pd\n",
    "import numpy as np\n",
    "from thermoengine import core\n",
    "from thermoengine.model import Database\n",
    "db = Database()\n",
    "import warnings\n",
    "warnings.filterwarnings(\"ignore\", category=DeprecationWarning)\n",
    "warnings.filterwarnings(\"ignore\", category=FutureWarning)"
   ],
   "id": "cell-1"
  },
  {
   "cell_type": "markdown",
   "metadata": {},
   "source": [
    "-   Number of components = 17\n",
    "-   Number of species = 20\n",
    "-   Number of “ordering parameters” (i.e., dependent species) = 3"
   ],
   "id": "cell-2"
  },
  {
   "cell_type": "code",
   "execution_count": null,
   "metadata": {},
   "outputs": [],
   "source": [
    "nc = 17\n",
    "nw = 20\n",
    "ns = 3"
   ],
   "id": "cell-3"
  },
  {
   "cell_type": "markdown",
   "metadata": {},
   "source": [
    "Import previously generated and compiled model"
   ],
   "id": "cell-4"
  },
  {
   "cell_type": "code",
   "execution_count": null,
   "metadata": {},
   "outputs": [],
   "source": [
    "model_working_dir = \"working\"\n",
    "%cd {model_working_dir}\n",
    "from pyximport import install\n",
    "install()\n",
    "import rMELTS_ZR\n",
    "%cd .."
   ],
   "id": "cell-5"
  },
  {
   "cell_type": "markdown",
   "metadata": {},
   "source": [
    "Test identifier routines"
   ],
   "id": "cell-6"
  },
  {
   "cell_type": "code",
   "execution_count": null,
   "metadata": {},
   "outputs": [],
   "source": [
    "print(rMELTS_ZR.cy_Liquid_rMELTS_ZR_calib_identifier())\n",
    "print(rMELTS_ZR.cy_Liquid_rMELTS_ZR_calib_name())"
   ],
   "id": "cell-7"
  },
  {
   "cell_type": "markdown",
   "metadata": {},
   "source": [
    "Set a default temperature and pressure (T in K, P in bars)"
   ],
   "id": "cell-8"
  },
  {
   "cell_type": "code",
   "execution_count": null,
   "metadata": {},
   "outputs": [],
   "source": [
    "t = 1000.00\n",
    "p = 1000.0"
   ],
   "id": "cell-9"
  },
  {
   "cell_type": "markdown",
   "metadata": {},
   "source": [
    "## Read common scripts\n",
    "\n",
    "Execute scripts in the Jupyter notebook namespace so that methods have access to notebook variables."
   ],
   "id": "cell-10"
  },
  {
   "cell_type": "code",
   "execution_count": null,
   "metadata": {},
   "outputs": [],
   "source": [
    "%run -i support_scripts.py"
   ],
   "id": "cell-11"
  },
  {
   "cell_type": "markdown",
   "metadata": {},
   "source": [
    "## Construct initial parameter estimates\n",
    "\n",
    "Standard state properties of endmember components"
   ],
   "id": "cell-12"
  },
  {
   "cell_type": "code",
   "execution_count": null,
   "metadata": {},
   "outputs": [],
   "source": [
    "for x,y in zip(rMELTS_ZR.cy_Liquid_rMELTS_ZR_get_param_names(), rMELTS_ZR.cy_Liquid_rMELTS_ZR_get_param_values()):\n",
    "    print (\"{0:<10.10s} {1:13.6g}\".format(x,y))"
   ],
   "id": "cell-13"
  },
  {
   "cell_type": "code",
   "execution_count": null,
   "metadata": {},
   "outputs": [],
   "source": [
    "mu0_SiO2 = rMELTS_ZR.cy_Liquid_rMELTS_ZR_calib_endmember_mu0(0, t, p)\n",
    "mu0_Al2O3 = rMELTS_ZR.cy_Liquid_rMELTS_ZR_calib_endmember_mu0(2, t, p)\n",
    "mu0_Fe2O3 = rMELTS_ZR.cy_Liquid_rMELTS_ZR_calib_endmember_mu0(3, t, p)\n",
    "mu0_Fe2SiO4 = rMELTS_ZR.cy_Liquid_rMELTS_ZR_calib_endmember_mu0(5, t, p)\n",
    "mu0_CaSiO3 = rMELTS_ZR.cy_Liquid_rMELTS_ZR_calib_endmember_mu0(10, t, p)\n",
    "mu0_Na2SiO3 = rMELTS_ZR.cy_Liquid_rMELTS_ZR_calib_endmember_mu0(11, t, p)\n",
    "mu0_KAlSiO4 = rMELTS_ZR.cy_Liquid_rMELTS_ZR_calib_endmember_mu0(12, t, p)\n",
    "mu0_CO2 = rMELTS_ZR.cy_Liquid_rMELTS_ZR_calib_endmember_mu0(15, t, p)\n",
    "mu0_ZrSiO4 = rMELTS_ZR.cy_Liquid_rMELTS_ZR_calib_endmember_mu0(16, t, p)\n",
    "#\n",
    "mu0dT_SiO2 = rMELTS_ZR.cy_Liquid_rMELTS_ZR_calib_endmember_dmu0dT(0, t, p)\n",
    "mu0dT_Al2O3 = rMELTS_ZR.cy_Liquid_rMELTS_ZR_calib_endmember_dmu0dT(2, t, p)\n",
    "mu0dT_Fe2O3 = rMELTS_ZR.cy_Liquid_rMELTS_ZR_calib_endmember_dmu0dT(3, t, p)\n",
    "mu0dT_Fe2SiO4 = rMELTS_ZR.cy_Liquid_rMELTS_ZR_calib_endmember_dmu0dT(5, t, p)\n",
    "mu0dT_CaSiO3 = rMELTS_ZR.cy_Liquid_rMELTS_ZR_calib_endmember_dmu0dT(10, t, p)\n",
    "mu0dT_Na2SiO3 = rMELTS_ZR.cy_Liquid_rMELTS_ZR_calib_endmember_dmu0dT(11, t, p)\n",
    "mu0dT_KAlSiO4 = rMELTS_ZR.cy_Liquid_rMELTS_ZR_calib_endmember_dmu0dT(12, t, p)\n",
    "mu0dT_CO2 = rMELTS_ZR.cy_Liquid_rMELTS_ZR_calib_endmember_dmu0dT(15, t, p)\n",
    "mu0dT_ZrSiO4 = rMELTS_ZR.cy_Liquid_rMELTS_ZR_calib_endmember_dmu0dT(16, t, p)\n",
    "#\n",
    "mu0dP_SiO2 = rMELTS_ZR.cy_Liquid_rMELTS_ZR_calib_endmember_dmu0dP(0, t, p)\n",
    "mu0dP_Al2O3 = rMELTS_ZR.cy_Liquid_rMELTS_ZR_calib_endmember_dmu0dP(2, t, p)\n",
    "mu0dP_Fe2O3 = rMELTS_ZR.cy_Liquid_rMELTS_ZR_calib_endmember_dmu0dP(3, t, p)\n",
    "mu0dP_Fe2SiO4 = rMELTS_ZR.cy_Liquid_rMELTS_ZR_calib_endmember_dmu0dP(5, t, p)\n",
    "mu0dP_CaSiO3 = rMELTS_ZR.cy_Liquid_rMELTS_ZR_calib_endmember_dmu0dP(10, t, p)\n",
    "mu0dP_Na2SiO3 = rMELTS_ZR.cy_Liquid_rMELTS_ZR_calib_endmember_dmu0dP(11, t, p)\n",
    "mu0dP_KAlSiO4 = rMELTS_ZR.cy_Liquid_rMELTS_ZR_calib_endmember_dmu0dP(12, t, p)\n",
    "mu0dP_CO2 = rMELTS_ZR.cy_Liquid_rMELTS_ZR_calib_endmember_dmu0dP(15, t, p)\n",
    "mu0dP_ZrSiO4 = rMELTS_ZR.cy_Liquid_rMELTS_ZR_calib_endmember_dmu0dP(16, t, p)"
   ],
   "id": "cell-14"
  },
  {
   "cell_type": "markdown",
   "metadata": {},
   "source": [
    "Compute properties of the CaCO<sub>3</sub> dependent species: - CaCO<sub>3</sub> calibration adjustments are from Ghiorso and Gualda (2015)\n",
    "\n",
    "    known_depen_species_values = [\n",
    "        -1.7574497522747e+01*1000.0, 0.0, -1.9034060173857e+00, # H, S, V, CaCO3\n",
    "    ]\n",
    "\n",
    "Set these parameter values in the model"
   ],
   "id": "cell-15"
  },
  {
   "cell_type": "code",
   "execution_count": null,
   "metadata": {},
   "outputs": [],
   "source": [
    "h_delta_calib_CaCO3 = -1.7574497522747e+01*1000.0\n",
    "s_delta_calib_CaCO3 = 0.0\n",
    "v_delta_calib_CaCO3 = -1.9034060173857e+00\n",
    "mu0_CaCO3 = mu0_CO2 + mu0_CaSiO3 - mu0_SiO2\n",
    "mu0dT_CaCO3 = mu0dT_CO2 + mu0dT_CaSiO3 - mu0dT_SiO2\n",
    "mu0dP_CaCO3 = mu0dP_CO2 + mu0dP_CaSiO3 - mu0dP_SiO2\n",
    "rMELTS_ZR.cy_Liquid_rMELTS_ZR_set_param_value(2, mu0_CaCO3 - t*mu0dT_CaCO3 + h_delta_calib_CaCO3) \n",
    "rMELTS_ZR.cy_Liquid_rMELTS_ZR_set_param_value(3, -mu0dT_CaCO3 + s_delta_calib_CaCO3) \n",
    "rMELTS_ZR.cy_Liquid_rMELTS_ZR_set_param_value(4,  mu0dP_CaCO3 + v_delta_calib_CaCO3)\n",
    "mu0_CaCO3 + h_delta_calib_CaCO3, mu0_CaCO3 - t*mu0dT_CaCO3 + h_delta_calib_CaCO3, -mu0dT_CaCO3 + s_delta_calib_CaCO3, mu0dP_CaCO3 + v_delta_calib_CaCO3"
   ],
   "id": "cell-16"
  },
  {
   "cell_type": "markdown",
   "metadata": {},
   "source": [
    "### Properties of the zirconium species are estimated by choosing a value for h, s, and v that zeros the delta difference of the exchange reaction"
   ],
   "id": "cell-17"
  },
  {
   "cell_type": "markdown",
   "metadata": {},
   "source": [
    "ZrSiO<sub>4</sub> + 2Na<sub>2</sub>SiO<sub>3</sub> = Na<sub>4</sub>ZrSi<sub>2</sub>O<sub>8</sub> + SiO<sub>2</sub>"
   ],
   "id": "cell-18"
  },
  {
   "cell_type": "code",
   "execution_count": null,
   "metadata": {},
   "outputs": [],
   "source": [
    "mu0_Na4ZrSi2O8   = mu0_ZrSiO4   + 2.0*mu0_Na2SiO3   - mu0_SiO2\n",
    "mu0dT_Na4ZrSi2O8 = mu0dT_ZrSiO4 + 2.0*mu0dT_Na2SiO3 - mu0dT_SiO2\n",
    "mu0dP_Na4ZrSi2O8 = mu0dP_ZrSiO4 + 2.0*mu0dP_Na2SiO3 - mu0dP_SiO2\n",
    "rMELTS_ZR.cy_Liquid_rMELTS_ZR_set_param_value(5, mu0_Na4ZrSi2O8 - t*mu0dT_Na4ZrSi2O8 - (p-1.0)*mu0dP_Na4ZrSi2O8)\n",
    "rMELTS_ZR.cy_Liquid_rMELTS_ZR_set_param_value(6, -mu0dT_Na4ZrSi2O8)\n",
    "rMELTS_ZR.cy_Liquid_rMELTS_ZR_set_param_value(7, mu0dP_Na4ZrSi2O8)\n",
    "mu0_Na4ZrSi2O8, mu0_Na4ZrSi2O8 - t*mu0dT_Na4ZrSi2O8 - (p-1.0)*mu0dP_Na4ZrSi2O8, -mu0dT_Na4ZrSi2O8, mu0dP_Na4ZrSi2O8"
   ],
   "id": "cell-19"
  },
  {
   "cell_type": "markdown",
   "metadata": {},
   "source": [
    "ZrSiO<sub>4</sub> + 4KAlSiO<sub>4</sub> = K<sub>4</sub>ZrSi<sub>2</sub>O<sub>8</sub> + 2Al<sub>2</sub>O<sub>3</sub> + 3SiO<sub>2</sub>"
   ],
   "id": "cell-20"
  },
  {
   "cell_type": "code",
   "execution_count": null,
   "metadata": {},
   "outputs": [],
   "source": [
    "mu0_K4ZrSi2O8   = mu0_ZrSiO4   + 4.0*mu0_KAlSiO4   - 3.0*mu0_SiO2   - 2.0*mu0_Al2O3\n",
    "mu0dT_K4ZrSi2O8 = mu0dT_ZrSiO4 + 4.0*mu0dT_KAlSiO4 - 3.0*mu0dT_SiO2 - 2.0*mu0dT_Al2O3\n",
    "mu0dP_K4ZrSi2O8 = mu0dP_ZrSiO4 + 4.0*mu0dP_KAlSiO4 - 3.0*mu0dP_SiO2 - 2.0*mu0dP_Al2O3\n",
    "rMELTS_ZR.cy_Liquid_rMELTS_ZR_set_param_value(8, mu0_K4ZrSi2O8 - t*mu0dT_K4ZrSi2O8 - (p-1.0)*mu0dP_K4ZrSi2O8)\n",
    "rMELTS_ZR.cy_Liquid_rMELTS_ZR_set_param_value(9, -mu0dT_K4ZrSi2O8)\n",
    "rMELTS_ZR.cy_Liquid_rMELTS_ZR_set_param_value(10, mu0dP_K4ZrSi2O8)\n",
    "mu0_K4ZrSi2O8, mu0_K4ZrSi2O8 - t*mu0dT_K4ZrSi2O8 - (p-1.0)*mu0dP_K4ZrSi2O8, -mu0dT_K4ZrSi2O8, mu0dP_K4ZrSi2O8"
   ],
   "id": "cell-21"
  },
  {
   "cell_type": "markdown",
   "metadata": {},
   "source": [
    "Summary of parameter estimates"
   ],
   "id": "cell-22"
  },
  {
   "cell_type": "code",
   "execution_count": null,
   "metadata": {},
   "outputs": [],
   "source": [
    "for x,y in zip(rMELTS_ZR.cy_Liquid_rMELTS_ZR_get_param_names(), rMELTS_ZR.cy_Liquid_rMELTS_ZR_get_param_values()):\n",
    "    print (\"{0:<10.10s} {1:13.6g}\".format(x,y))"
   ],
   "id": "cell-23"
  },
  {
   "cell_type": "markdown",
   "metadata": {},
   "source": [
    "## Specify an input composition"
   ],
   "id": "cell-24"
  },
  {
   "cell_type": "code",
   "execution_count": null,
   "metadata": {},
   "outputs": [],
   "source": [
    "wtZrSiO4 = 183.31*0.001 # weight of ZrSiO4 equal to 0.001 moles of Zr"
   ],
   "id": "cell-25"
  },
  {
   "cell_type": "code",
   "execution_count": null,
   "metadata": {},
   "outputs": [],
   "source": [
    "elm_sys = ['H','O','Na','Mg','Al','Si','P','K','Ca','Ti','Cr','Mn','Fe','Co','Ni']\n",
    "grm_oxides = {\n",
    "    'SiO2':  77.5, \n",
    "    'TiO2':   0.08, \n",
    "    'Al2O3': 12.5, \n",
    "    'Fe2O3':  0.207,\n",
    "    'Cr2O3':  0.0, \n",
    "    'FeO':    0.473, \n",
    "    'MnO':    0.0,\n",
    "    'MgO':    0.03, \n",
    "    'NiO':    0.0, \n",
    "    'CoO':    0.0,\n",
    "    'CaO':    0.43, \n",
    "    'Na2O':   3.98, \n",
    "    'K2O':    4.88, \n",
    "    'P2O5':   0.0, \n",
    "    'H2O':    5.5,\n",
    "    'CO2':    0.05\n",
    "}\n",
    "tot_grm_oxides = 0.0\n",
    "for key in grm_oxides.keys():\n",
    "    tot_grm_oxides += grm_oxides[key]\n",
    "mol_oxides = core.chem.format_mol_oxide_comp(grm_oxides, convert_grams_to_moles=True)\n",
    "mol_elm = core.chem.mol_oxide_to_elem(mol_oxides)\n",
    "elm = np.zeros(107)\n",
    "for i,sym in enumerate(\n",
    "    ['Si', 'Ti', 'Al', 'Fe', 'Cr', 'Mn', 'Mg', 'Ni', 'Co', 'Ca', 'Na', 'K', 'P', 'H', 'C', 'O']):\n",
    "    index = core.chem.PERIODIC_ORDER.tolist().index(sym)\n",
    "    elm[index] = mol_elm[i]\n",
    "elm[core.chem.PERIODIC_ORDER.tolist().index('Zr')] += wtZrSiO4/183.31\n",
    "elm[core.chem.PERIODIC_ORDER.tolist().index('Si')] += wtZrSiO4/183.31\n",
    "elm[core.chem.PERIODIC_ORDER.tolist().index('O')]  += wtZrSiO4*4.0/183.31\n",
    "n = rMELTS_ZR.cy_Liquid_rMELTS_ZR_calib_conv_elm_to_moles(elm)\n",
    "for i,x in enumerate(n):\n",
    "    print (\"{0:<12.12s} {1:10.6f} {2:10.6f}\".format(rMELTS_ZR.cy_Liquid_rMELTS_ZR_calib_endmember_name(i), x, mol_oxides[i] if i<16 else 0))\n",
    "if not rMELTS_ZR.cy_Liquid_rMELTS_ZR_calib_test_moles(n):\n",
    "    print ('Output of intrinsic composition calculation fails tests for permissible values.')"
   ],
   "id": "cell-26"
  },
  {
   "cell_type": "markdown",
   "metadata": {},
   "source": [
    "Modify the input composition to create - the most oxidized state (all ferric iron and sulfate) - or, the most reduced state (all ferrous iron and sulfide)"
   ],
   "id": "cell-27"
  },
  {
   "cell_type": "markdown",
   "metadata": {},
   "source": [
    "## Speciate the solution"
   ],
   "id": "cell-28"
  },
  {
   "cell_type": "markdown",
   "metadata": {},
   "source": [
    "Print equilibrium results"
   ],
   "id": "cell-29"
  },
  {
   "cell_type": "code",
   "execution_count": null,
   "metadata": {},
   "outputs": [],
   "source": [
    "s = rMELTS_ZR.cy_Liquid_rMELTS_ZR_order_params(t, p, n)\n",
    "print_species(n, s)"
   ],
   "id": "cell-30"
  },
  {
   "cell_type": "markdown",
   "metadata": {},
   "source": [
    "## Save revised parameter values"
   ],
   "id": "cell-31"
  },
  {
   "cell_type": "code",
   "execution_count": null,
   "metadata": {},
   "outputs": [],
   "source": [
    "param_values = rMELTS_ZR.cy_Liquid_rMELTS_ZR_get_param_values()\n",
    "param_values"
   ],
   "id": "cell-32"
  },
  {
   "cell_type": "code",
   "execution_count": null,
   "metadata": {},
   "outputs": [],
   "source": [
    "import pickle\n",
    "\n",
    "with open('params.pickle', 'wb') as f:\n",
    "    pickle.dump(param_values, f, pickle.HIGHEST_PROTOCOL)"
   ],
   "id": "cell-33"
  },
  {
   "cell_type": "code",
   "execution_count": null,
   "metadata": {},
   "outputs": [],
   "source": [
    "import pickle\n",
    "\n",
    "with open('params.pickle', 'rb') as f:\n",
    "    params_stored = pickle.load(f)"
   ],
   "id": "cell-34"
  },
  {
   "cell_type": "code",
   "execution_count": null,
   "metadata": {},
   "outputs": [],
   "source": [
    "params_stored"
   ],
   "id": "cell-35"
  }
 ],
 "nbformat": 4,
 "nbformat_minor": 5,
 "metadata": {}
}
