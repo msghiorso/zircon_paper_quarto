{
 "cells": [
  {
   "cell_type": "markdown",
   "metadata": {},
   "source": [
    "# 2-Coding: MELTS liquid model with zirconium"
   ],
   "id": "9708f26c-dc69-4155-8974-1b5b06c2992f"
  },
  {
   "cell_type": "markdown",
   "metadata": {},
   "source": [
    "# 2-Coding: MELTS liquid model with zirconium\n",
    "\n",
    "**Model formulation and code generation notebook.**  \n",
    "**Run Endmembers-MELTS notebook first!**\n",
    "\n",
    "Proposed associated solution model:\n",
    "\n",
    "| Components:                                | Species:                                    | Reaction:                                                                                                                              | Variable: | Component: | Species X: |\n",
    "|:-------------|:----------|:-----------|:-----------|:------------|:------------|\n",
    "| SiO<sub>2</sub>                            | SiO<sub>2</sub>                             |                                                                                                                                        |           | $n_1$      | $X_1$      |\n",
    "| TiO<sub>2</sub>                            | TiO<sub>2</sub>                             |                                                                                                                                        | $r_1$     | $n_2$      | $X_2$      |\n",
    "| Al<sub>2</sub>O<sub>3</sub>                | Al<sub>2</sub>O<sub>3</sub>                 |                                                                                                                                        | $r_2$     | $n_3$      | $X_3$      |\n",
    "| Fe<sub>2</sub>O<sub>3</sub>                | Fe<sub>2</sub>O<sub>3</sub>                 |                                                                                                                                        | $r_3$     | $n_4$      | $X_4$      |\n",
    "| MgCr<sub>2</sub>O<sub>4</sub>              | MgCr<sub>2</sub>O<sub>4</sub>               |                                                                                                                                        | $r_4$     | $n_5$      | $X_5$      |\n",
    "| Fe<sub>2</sub>SiO<sub>4</sub>              | Fe<sub>2</sub>SiO<sub>4</sub>               |                                                                                                                                        | $r_5$     | $n_6$      | $X_6$      |\n",
    "| MnSi<sub>1/2</sub>O<sub>2</sub>            | MnSi<sub>1/2</sub>O<sub>2</sub>             |                                                                                                                                        | $r_6$     | $n_7$      | $X_7$      |\n",
    "| Mg<sub>2</sub>SiO<sub>4</sub>              | Mg<sub>2</sub>SiO<sub>4</sub>               |                                                                                                                                        | $r_7$     | $n_8$      | $X_8$      |\n",
    "| NiSi<sub>1/2</sub>O<sub>2</sub>            | NiSi<sub>1/2</sub>O<sub>2</sub>             |                                                                                                                                        | $r_8$     | $n_9$      | $X_9$      |\n",
    "| CoSi<sub>1/2</sub>O<sub>2</sub>            | CoSi<sub>1/2</sub>O<sub>2</sub>             |                                                                                                                                        | $r_9$     | $n_{10}$   | $X_{10}$   |\n",
    "| CaSiO<sub>3</sub>                          | CaSiO<sub>3</sub>                           |                                                                                                                                        | $r_{10}$  | $n_{11}$   | $X_{11}$   |\n",
    "| Na<sub>2</sub>SiO<sub>3</sub>              | Na<sub>2</sub>SiO<sub>3</sub>               |                                                                                                                                        | $r_{11}$  | $n_{12}$   | $X_{12}$   |\n",
    "| KAlSiO<sub>4</sub>                         | KAlSiO<sub>4</sub>                          |                                                                                                                                        | $r_{12}$  | $n_{13}$   | $X_{13}$   |\n",
    "| Ca<sub>3</sub>(PO<sub>4</sub>)<sub>2</sub> | Ca<sub>3</sub>(PO<sub>4</sub>)<sub>2</sub>  |                                                                                                                                        | $r_{13}$  | $n_{14}$   | $X_{14}$   |\n",
    "| H<sub>2</sub>O                             | H<sub>2</sub>O                              |                                                                                                                                        | $r_{14}$  | $n_{15}$   | $X_{15}$   |\n",
    "| CO<sub>2</sub>                             | CO<sub>2</sub>                              |                                                                                                                                        | $r_{15}$  | $n_{16}$   | $X_{16}$   |\n",
    "| ZrSiO<sub>4</sub>                          | ZrSiO<sub>4</sub>                           |                                                                                                                                        | $r_{16}$  | $n_{17}$   | $X_{17}$   |\n",
    "|                                            | CaCO<sub>3</sub>                            | CO<sub>2</sub> + CaSiO<sub>3</sub> = CaCO<sub>3</sub> + SiO<sub>2</sub>                                                                | $s_1$     |            | $X_{18}$   |\n",
    "|                                            | Na<sub>4</sub>ZrSi<sub>2</sub>O<sub>8</sub> | ZrSiO<sub>4</sub> + 2Na<sub>2</sub>SiO<sub>3</sub> = Na<sub>4</sub>ZrSi<sub>2</sub>O<sub>8</sub> + SiO<sub>2</sub>                     | $s_2$     |            | $X_{19}$   |\n",
    "|                                            | K<sub>4</sub>ZrSi<sub>2</sub>O<sub>8</sub>  | ZrSiO<sub>4</sub> + 4KAlSiO<sub>4</sub> = K<sub>4</sub>ZrSi<sub>2</sub>O<sub>8</sub> + 2Al<sub>2</sub>O<sub>3</sub> + 3SiO<sub>2</sub> | $s_3$     |            | $X_{20}$   |"
   ],
   "id": "cell-0"
  },
  {
   "cell_type": "code",
   "execution_count": null,
   "metadata": {},
   "outputs": [],
   "source": [
    "import pandas as pd\n",
    "import numpy as np\n",
    "import sympy as sym\n",
    "sym.init_printing()\n",
    "from thermoengine import core, coder\n",
    "from thermoengine.model import Database\n",
    "db = Database()\n",
    "import warnings\n",
    "warnings.filterwarnings(\"ignore\", category=DeprecationWarning)\n",
    "warnings.filterwarnings(\"ignore\", category=FutureWarning)"
   ],
   "id": "cell-1"
  },
  {
   "cell_type": "markdown",
   "metadata": {},
   "source": [
    "-   Number of components = 17\n",
    "-   Number of species = 20\n",
    "-   Number of “ordering parameters” (i.e., dependent species) = 3"
   ],
   "id": "cell-2"
  },
  {
   "cell_type": "code",
   "execution_count": null,
   "metadata": {},
   "outputs": [],
   "source": [
    "nc = 17\n",
    "nw = 20\n",
    "ns = 3"
   ],
   "id": "cell-3"
  },
  {
   "cell_type": "markdown",
   "metadata": {},
   "source": [
    "## Create solution model"
   ],
   "id": "cell-4"
  },
  {
   "cell_type": "code",
   "execution_count": null,
   "metadata": {},
   "outputs": [],
   "source": [
    "model = coder.ComplexSolnModel(nc=nc, ns=ns, nw=nw)"
   ],
   "id": "cell-5"
  },
  {
   "cell_type": "markdown",
   "metadata": {},
   "source": [
    "-   *n* is a vector of moles of solution components\n",
    "-   *nT* is a sum of all *n*\n",
    "-   *s* is a vector of *moles* of dependemt species"
   ],
   "id": "cell-6"
  },
  {
   "cell_type": "code",
   "execution_count": null,
   "metadata": {},
   "outputs": [],
   "source": [
    "n = model.n\n",
    "nT = model.nT\n",
    "s = model.s"
   ],
   "id": "cell-7"
  },
  {
   "cell_type": "markdown",
   "metadata": {},
   "source": [
    "Set up ancillary compositional variables - *X* is a vector of *moles* of all species (components + dependent species in solution\n",
    "\n",
    "Note that the zeroth index of *X* is ignored"
   ],
   "id": "cell-8"
  },
  {
   "cell_type": "code",
   "execution_count": null,
   "metadata": {},
   "outputs": [],
   "source": [
    "X = [sym.S.Zero]\n",
    "for i in range(1,nw+1):\n",
    "    X.append(sym.symbols('X_'+str(i)))"
   ],
   "id": "cell-9"
  },
  {
   "cell_type": "markdown",
   "metadata": {},
   "source": [
    "Moles of elements are accumulated in the dictionary *elm*. See table above."
   ],
   "id": "cell-10"
  },
  {
   "cell_type": "code",
   "execution_count": null,
   "metadata": {},
   "outputs": [],
   "source": [
    "elm = {}"
   ],
   "id": "cell-11"
  },
  {
   "cell_type": "code",
   "execution_count": null,
   "metadata": {},
   "outputs": [],
   "source": [
    "O_n = 2*n[0]+2*n[1]+3*n[2]+3*n[3]+4*n[4]+4*n[5]+2*n[6]+4*n[7]+2*n[8]+2*n[9]+3*n[10]+3*n[11]+4*n[12]+8*n[13]+n[14]+2*n[15]+4*n[16]\n",
    "O_X = 2*X[1]+2*X[2]+3*X[3]+3*X[4]+4*X[5]+4*X[6]+2*X[7]+4*X[8]+2*X[9]+2*X[10]+3*X[11]+3*X[12]+4*X[13]+8*X[14]+X[15] \\\n",
    "    + 2*X[16]+4*X[17]+3*X[18]+8*X[19]+8*X[20]\n",
    "eqn_O = O_n - O_X\n",
    "elm[' O'] = O_n"
   ],
   "id": "cell-12"
  },
  {
   "cell_type": "code",
   "execution_count": null,
   "metadata": {},
   "outputs": [],
   "source": [
    "Si_n = n[0]+n[5]+n[6]/2+n[7]+n[8]/2+n[9]/2+n[10]+n[11]+n[12]+n[16]\n",
    "Si_X = X[1]+X[6]+X[7]/2+X[8]+X[9]/2+X[10]/2+X[11]+X[12]+X[13]+X[17]+2*X[19]+2*X[20]\n",
    "eqn_Si = Si_n - Si_X\n",
    "elm['Si'] = Si_n"
   ],
   "id": "cell-13"
  },
  {
   "cell_type": "code",
   "execution_count": null,
   "metadata": {},
   "outputs": [],
   "source": [
    "Ti_n = n[1]\n",
    "Ti_X = X[2]\n",
    "eqn_Ti = Ti_n - Ti_X\n",
    "elm['Ti'] = Ti_n"
   ],
   "id": "cell-14"
  },
  {
   "cell_type": "code",
   "execution_count": null,
   "metadata": {},
   "outputs": [],
   "source": [
    "Al_n = 2*n[2] + n[12]\n",
    "Al_X = 2*X[3] + X[13]\n",
    "eqn_Al = Al_n - Al_X\n",
    "elm['Al'] = Al_n"
   ],
   "id": "cell-15"
  },
  {
   "cell_type": "code",
   "execution_count": null,
   "metadata": {},
   "outputs": [],
   "source": [
    "Fe_n = 2*n[3] + 2*n[5]\n",
    "Fe_X = 2*X[4] + 2*X[6]\n",
    "eqn_Fe = Fe_n - Fe_X\n",
    "elm['Fe'] = Fe_n"
   ],
   "id": "cell-16"
  },
  {
   "cell_type": "code",
   "execution_count": null,
   "metadata": {},
   "outputs": [],
   "source": [
    "Cr_n = 2*n[4]\n",
    "Cr_X = 2*X[5]\n",
    "eqn_Cr = Cr_n - Cr_X\n",
    "elm['Cr'] = Cr_n"
   ],
   "id": "cell-17"
  },
  {
   "cell_type": "code",
   "execution_count": null,
   "metadata": {},
   "outputs": [],
   "source": [
    "Mn_n = n[6]\n",
    "Mn_X = X[7]\n",
    "eqn_Mn = Mn_n - Mn_X\n",
    "elm['Mn'] = Mn_n"
   ],
   "id": "cell-18"
  },
  {
   "cell_type": "code",
   "execution_count": null,
   "metadata": {},
   "outputs": [],
   "source": [
    "Mg_n = 2*n[7]\n",
    "Mg_X = 2*X[8]\n",
    "eqn_Mg = Mg_n - Mg_X\n",
    "elm['Mg'] = Mg_n"
   ],
   "id": "cell-19"
  },
  {
   "cell_type": "code",
   "execution_count": null,
   "metadata": {},
   "outputs": [],
   "source": [
    "Ni_n = n[8]\n",
    "Ni_X = X[9]\n",
    "eqn_Ni = Ni_n - Ni_X\n",
    "elm['Ni'] = Ni_n"
   ],
   "id": "cell-20"
  },
  {
   "cell_type": "code",
   "execution_count": null,
   "metadata": {},
   "outputs": [],
   "source": [
    "Co_n = n[9]\n",
    "Co_X = X[10]\n",
    "eqn_Co = Co_n - Co_X\n",
    "elm['Co'] = Co_n"
   ],
   "id": "cell-21"
  },
  {
   "cell_type": "code",
   "execution_count": null,
   "metadata": {},
   "outputs": [],
   "source": [
    "Ca_n = n[10] + 3*n[13]\n",
    "Ca_X = X[11] + 3*X[14] + X[18]\n",
    "eqn_Ca = Ca_n - Ca_X\n",
    "elm['Ca'] = Ca_n"
   ],
   "id": "cell-22"
  },
  {
   "cell_type": "code",
   "execution_count": null,
   "metadata": {},
   "outputs": [],
   "source": [
    "Na_n = 2*n[11]\n",
    "Na_X = 2*X[12] + 4*X[19]\n",
    "eqn_Na = Na_n - Na_X\n",
    "elm['Na'] = Na_n"
   ],
   "id": "cell-23"
  },
  {
   "cell_type": "code",
   "execution_count": null,
   "metadata": {},
   "outputs": [],
   "source": [
    "K_n = n[12]\n",
    "K_X = X[13] + 4*X[20]\n",
    "eqn_K = K_n - K_X\n",
    "elm[' K'] = K_n"
   ],
   "id": "cell-24"
  },
  {
   "cell_type": "code",
   "execution_count": null,
   "metadata": {},
   "outputs": [],
   "source": [
    "P_n = 2*n[13]\n",
    "P_X = 2*X[14]\n",
    "eqn_P = P_n - P_X\n",
    "elm[' P'] = P_n"
   ],
   "id": "cell-25"
  },
  {
   "cell_type": "code",
   "execution_count": null,
   "metadata": {},
   "outputs": [],
   "source": [
    "H_n = 2*n[14]\n",
    "H_X = 2*X[15]\n",
    "eqn_H = H_n - H_X\n",
    "elm[' H'] = H_n"
   ],
   "id": "cell-26"
  },
  {
   "cell_type": "code",
   "execution_count": null,
   "metadata": {},
   "outputs": [],
   "source": [
    "C_n = n[15]\n",
    "C_X = X[16] + X[18]\n",
    "eqn_C = C_n - C_X\n",
    "elm[' C'] = C_n"
   ],
   "id": "cell-27"
  },
  {
   "cell_type": "code",
   "execution_count": null,
   "metadata": {},
   "outputs": [],
   "source": [
    "Zr_n = n[16]\n",
    "Zr_X = X[17] + X[19] + X[20] \n",
    "eqn_Zr = Zr_n - Zr_X\n",
    "elm['Zr'] = Zr_n"
   ],
   "id": "cell-28"
  },
  {
   "cell_type": "markdown",
   "metadata": {},
   "source": [
    "Solve this system for species mole numbers"
   ],
   "id": "cell-29"
  },
  {
   "cell_type": "code",
   "execution_count": null,
   "metadata": {},
   "outputs": [],
   "source": [
    "system = [eqn_O, eqn_Si, eqn_Ti, eqn_Al, eqn_Fe, eqn_Cr, eqn_Mn, eqn_Mg, eqn_Ni, eqn_Co, eqn_Ca, eqn_Na, eqn_K, eqn_P, eqn_H, eqn_C, eqn_Zr,\n",
    "         s[0]-X[18], s[1]-X[19], s[2]-X[20]]\n",
    "X_soln = list(sym.linsolve(system, X[1:nw+1]).args[0])"
   ],
   "id": "cell-30"
  },
  {
   "cell_type": "markdown",
   "metadata": {},
   "source": [
    "Compute the total number of moles of all species, *XT*. Note rhat this quantity is not necessarily equal to *nT*."
   ],
   "id": "cell-31"
  },
  {
   "cell_type": "code",
   "execution_count": null,
   "metadata": {},
   "outputs": [],
   "source": [
    "XT = sym.S.Zero\n",
    "for i,x in enumerate(X_soln):\n",
    "    print ('X[',i+1,'] = ', end='') \n",
    "    sym.pprint (x)\n",
    "    XT += x\n",
    "XT"
   ],
   "id": "cell-32"
  },
  {
   "cell_type": "markdown",
   "metadata": {},
   "source": [
    "Retrieve model symbols for the temperature, pressure, and standard state chemical potentials - $T$ is temperature in $K$ - $P$ is pressure in $bars$ - $\\mu^o$ in Joules"
   ],
   "id": "cell-33"
  },
  {
   "cell_type": "code",
   "execution_count": null,
   "metadata": {},
   "outputs": [],
   "source": [
    "T = model.get_symbol_for_t()\n",
    "P = model.get_symbol_for_p()\n",
    "mu = model.mu"
   ],
   "id": "cell-34"
  },
  {
   "cell_type": "markdown",
   "metadata": {},
   "source": [
    "Initialize lists to store model parameter names, units and symbols"
   ],
   "id": "cell-35"
  },
  {
   "cell_type": "code",
   "execution_count": null,
   "metadata": {},
   "outputs": [],
   "source": [
    "params = []\n",
    "units = []\n",
    "symparams = []"
   ],
   "id": "cell-36"
  },
  {
   "cell_type": "markdown",
   "metadata": {},
   "source": [
    "**Known values of parameters that are not allowed to change (rhyolite-MELTS, 1.1, old water saturation model, new carbon dioxide model)**"
   ],
   "id": "cell-37"
  },
  {
   "cell_type": "code",
   "execution_count": null,
   "metadata": {},
   "outputs": [],
   "source": [
    "include_excess_parameters = False\n",
    "if not include_excess_parameters:\n",
    "    param_subst_l = []\n",
    "known_w_values = [\n",
    "                        26266.7, #   0 W(TiO2      ,SiO2      ) 0\n",
    "                       -39120.0, #   1 W(Al2O3     ,SiO2      )\n",
    "                         8110.3, #   2 W(Fe2O3     ,SiO2      )\n",
    "                        27886.3, #   3 W(MgCr2O4   ,SiO2      )\n",
    "                        23660.9, #   4 W(Fe2SiO4   ,SiO2      )\n",
    "                        18393.9, #   5 W(MnSi0.5O2 ,SiO2      )\n",
    "                         3421.0, #   6 W(Mg2SiO4   ,SiO2      )\n",
    "                        25197.4, #   7 W(NiSi0.5O2 ,SiO2      )\n",
    "                        14802.8, #   8 W(CoSi0.5O2 ,SiO2      )\n",
    "                         -863.7, #   9 W(CaSiO3    ,SiO2      )\n",
    "                       -99039.0, #  10 W(Na2SiO3   ,SiO2      ) 10\n",
    "                       -33921.7, #  11 W(KAlSiO4   ,SiO2      )\n",
    "                        61891.6, #  12 W(Ca3(PO4)2 ,SiO2      )\n",
    "                        30967.3, #  13 W(H2O       ,SiO2      )\n",
    "                            0.0, #  14 W(CO2       ,SiO2      )\n",
    "     6.3281206517489e+01*1000.0, #  15 W(CaCO3     ,SiO2      )\n",
    "                       -29449.8, #  16 W(Al2O3     ,TiO2      )\n",
    "                       -84756.9, #  17 W(Fe2O3     ,TiO2      )\n",
    "                       -72303.4, #  18 W(MgCr2O4   ,TiO2      )\n",
    "                         5209.1, #  19 W(Fe2SiO4   ,TiO2      )\n",
    "                       -16123.5, #  20 W(MnSi0.5O2 ,TiO2      ) 20\n",
    "                        -4178.3, #  21 W(Mg2SiO4   ,TiO2      )\n",
    "                         3614.8, #  22 W(NiSi0.5O2 ,TiO2      )\n",
    "                        -1640.0, #  23 W(CoSi0.5O2 ,TiO2      )\n",
    "                       -35372.5, #  24 W(CaSiO3    ,TiO2      )\n",
    "                       -15415.6, #  25 W(Na2SiO3   ,TiO2      )\n",
    "                       -48094.6, #  26 W(KAlSiO4   ,TiO2      )\n",
    "                        25938.8, #  27 W(Ca3(PO4)2 ,TiO2      )\n",
    "                        81879.1, #  28 W(H2O       ,TiO2      )\n",
    "    -1.9265668647972e+01*1000.0, #  29 W(CO2       ,TiO2      )\n",
    "    -7.9202707514741e+01*1000.0, #  30 W(CaCO3     ,TiO2      ) 30\n",
    "                       -17089.4, #  31 W(Fe2O3     ,Al2O3     )\n",
    "                       -31770.3, #  32 W(MgCr2O4   ,Al2O3     )\n",
    "                       -30509.0, #  33 W(Fe2SiO4   ,Al2O3     )\n",
    "                       -53874.9, #  34 W(MnSi0.5O2 ,Al2O3     )\n",
    "                       -32880.3, #  35 W(Mg2SiO4   ,Al2O3     )\n",
    "                         2985.2, #  36 W(NiSi0.5O2 ,Al2O3     )\n",
    "                        -2677.4, #  37 W(CoSi0.5O2 ,Al2O3     )\n",
    "                       -57917.9, #  38 7(CaSiO3    ,Al2O3     )\n",
    "                      -130785.0, #  39 W(Na2SiO3   ,Al2O3     )\n",
    "                       -25859.2, #  40 W(KAlSiO4   ,Al2O3     ) 40\n",
    "                        52220.8, #  41 W(Ca3(PO4)2 ,Al2O3     )\n",
    "                       -16098.1, #  42 W(H2O       ,Al2O3     )\n",
    "                            0.0, #  43 W(CO2       ,Al2O3     )\n",
    "     4.6716121152125e+01*1000.0, #  44 W(CaCO3     ,Al2O3     )\n",
    "                        21605.9, #  45 W(MgCr2O4   ,Fe2O3     )\n",
    "                      -179064.9, #  46 W(Fe2SiO4   ,Fe2O3     )\n",
    "                         3907.9, #  47 W(MnSi0.5O2 ,Fe2O3     )\n",
    "                       -71518.6, #  48 W(Mg2SiO4   ,Fe2O3     )\n",
    "                          408.7, #  49 W(NiSi0.5O2 ,Fe2O3     )\n",
    "                         -223.7, #  50 W(CoSi0.5O2 ,Fe2O3     ) 50\n",
    "                        12076.6, #  51 W(CaSiO3    ,Fe2O3     )\n",
    "                      -149662.2, #  52 W(Na2SiO3   ,Fe2O3     )\n",
    "                        57555.9, #  53 W(KAlSiO4   ,Fe2O3     )\n",
    "                        -4213.9, #  54 W(Ca3(PO4)2 ,Fe2O3     )\n",
    "                        31405.5, #  55 W(H2O       ,Fe2O3     )\n",
    "    -3.1868817914962e+00*1000.0, #  56 W(CO2       ,Fe2O3     )\n",
    "     6.5508729974818e+01*1000.0, #  57 W(CaCO3     ,Fe2O3     )\n",
    "                       -82971.8, #  58 W(Fe2SiO4   ,MgCr2O4   )\n",
    "                          182.4, #  59 W(MnSi0.5O2 ,MgCr2O4   )\n",
    "                        46049.2, #  60 W(Mg2SiO4   ,MgCr2O4   ) 60\n",
    "                         -266.0, #  61 W(NiSi0.5O2 ,MgCr2O4   )\n",
    "                         -384.0, #  62 W(CoSi0.5O2 ,MgCr2O4   )\n",
    "                        30704.7, #  63 W(CaSiO3    ,MgCr2O4   )\n",
    "                       113646.0, #  64 W(Na2SiO3   ,MgCr2O4   )\n",
    "                        75709.1, #  65 W(KAlSiO4   ,MgCr2O4   )\n",
    "                         5341.8, #  66 W(Ca3(PO4)2 ,MgCr2O4   )\n",
    "                            0.0, #  67 W(H2O       ,MgCr2O4   )\n",
    "                            0.0, #  68 W(CO2       ,MgCr2O4   )\n",
    "                            0.0, #  69 W(CaCO3     ,MgCr2O4   )\n",
    "                        -6823.9, #  70 W(MnSi0.5O2 ,Fe2SiO4   ) 70\n",
    "                       -37256.7, #  71 W(Mg2SiO4   ,Fe2SiO4   )\n",
    "                       -17019.8, #  72 W(NiSi0.5O2 ,Fe2SiO4   )\n",
    "                       -11746.3, #  73 W(CoSi0.5O2 ,Fe2SiO4   )\n",
    "                       -12970.8, #  74 W(CaSiO3    ,Fe2SiO4   )\n",
    "                       -90533.8, #  75 W(Na2SiO3   ,Fe2SiO4   )\n",
    "                        23649.4, #  76 W(KAlSiO4   ,Fe2SiO4   )\n",
    "                        87410.3, #  77 W(Ca3(PO4)2 ,Fe2SiO4   )\n",
    "                        28873.6, #  78 W(H2O       ,Fe2SiO4   )\n",
    "    -3.2464545980393e+01*1000.0, #  79 W(CO2       ,Fe2SiO4   )\n",
    "    -7.2996815311226e+01*1000.0, #  80 W(CaCO3     ,Fe2SiO4   ) 80\n",
    "                       -13040.1, #  81 W(Mg2SiO4   ,MnSi0.5O2 )\n",
    "                          785.8, #  82 W(NiSi0.5O2 ,MnSi0.5O2 )\n",
    "                          -50.6, #  83 W(CoSi0.5O2 ,MnSi0.5O2 )\n",
    "                         2934.6, #  84 W(CaSiO3    ,MnSi0.5O2 )\n",
    "                       -15780.8, #  85 W(Na2SiO3   ,MnSi0.5O2 )\n",
    "                        23727.4, #  86 W(KAlSiO4   ,MnSi0.5O2 )\n",
    "                            0.0, #  87 W(Ca3(PO4)2 ,MnSi0.5O2 )\n",
    "                            0.0, #  88 W(H2O       ,MnSi0.5O2 )\n",
    "                            0.0, #  89 W(CO2       ,MnSi0.5O2 )\n",
    "                            0.0, #  90 W(CaCO3     ,MnSi0.5O2 ) 90\n",
    "                       -21175.5, #  91 W(NiSi0.5O2 ,Mg2SiO4   )\n",
    "                       -14994.9, #  92 W(CoSi0.5O2 ,Mg2SiO4   )\n",
    "                       -31731.9, #  93 W(CaSiO3    ,Mg2SiO4   )\n",
    "                       -41876.9, #  94 W(Na2SiO3   ,Mg2SiO4   )\n",
    "                        22323.1, #  95 W(KAlSiO4   ,Mg2SiO4   )\n",
    "                       -23208.8, #  96 W(Ca3(PO4)2 ,Mg2SiO4   )\n",
    "                        35633.7, #  97 W(H2O       ,Mg2SiO4   )\n",
    "    -4.0853595138597e+01*1000.0, #  98 W(CO2       ,Mg2SiO4   )\n",
    "    -2.4872562549739e+01*1000.0, #  99 W(CaCO3     ,Mg2SiO4   )\n",
    "                          258.9, # 100 W(CoSi0.5O2 ,NiSi0.5O2 ) 100\n",
    "                         7027.5, # 101 W(CaSiO3    ,NiSi0.5O2 )\n",
    "                        -3647.8, # 102 W(Na2SiO3   ,NiSi0.5O2 )\n",
    "                         4261.4, # 103 W(KAlSiO4   ,NiSi0.5O2 )\n",
    "                            0.0, # 104 W(Ca3(PO4)2 ,NiSi0.5O2 )\n",
    "                            0.0, # 105 W(H2O       ,NiSi0.5O2 )\n",
    "                            0.0, # 106 W(CO2       ,NiSi0.5O2 )\n",
    "                            0.0, # 107 W(CaCO3     ,NiSi0.5O2 )\n",
    "                       -26685.7, # 108 W(CaSiO3    ,CoSi0.5O2 )\n",
    "                          531.2, # 109 W(Na2SiO3   ,CoSi0.5O2 )\n",
    "                          265.7, # 110 W(KAlSiO4   ,CoSi0.5O2 ) 110\n",
    "                            0.0, # 111 W(Ca3(PO4)2 ,CoSi0.5O2 )\n",
    "                            0.0, # 112 W(H2O       ,CoSi0.5O2 )\n",
    "                            0.0, # 113 W(CO2       ,CoSi0.5O2 )\n",
    "                            0.0, # 114 W(CaCO3     ,CoSi0.5O2 )\n",
    "                       -13247.1, # 115 W(Na2SiO3   ,CaSiO3    )\n",
    "                        17111.1, # 116 W(KAlSiO4   ,CaSiO3    )\n",
    "                        37070.3, # 117 W(Ca3(PO4)2 ,CaSiO3    )\n",
    "                        20374.6, # 118 W(H2O       ,CaSiO3    )\n",
    "     3.0012481472120e+01*1000.0, # 119 W(CO2       ,CaSiO3    )\n",
    "     3.7534127781795e+01*1000.0, # 120 W(CaCO3     ,CaSiO3    ) 120\n",
    "                         6522.8, # 121 W(KAlSiO4   ,Na2SiO3   )\n",
    "                        15571.9, # 122 W(Ca3(PO4)2 ,Na2SiO3   )\n",
    "                       -96937.6, # 123 W(H2O       ,Na2SiO3   )\n",
    "                            0.0, # 124 W(CO2       ,Na2SiO3   )\n",
    "    -3.1101129932991e+02*1000.0, # 126 W(CaCO3     ,Na2SiO3   )\n",
    "                        17100.6, # 127 W(Ca3(PO4)2 ,KAlSiO4   )\n",
    "                        10374.2, # 128 W(H2O       ,KAlSiO4   )\n",
    "                            0.0, # 129 W(CO2       ,KAlSiO4   )\n",
    "    -2.7864967599360e+01*1000.0, # 130 W(CaCO3     ,KAlSiO4   )\n",
    "                        43451.3, # 131 W(H2O       ,Ca3(PO4)2 ) 130\n",
    "    -3.4728165916175e+00*1000.0, # 132 W(CO2       ,Ca3(PO4)2 )\n",
    "     2.0119124588637e+00*1000.0, # 133 W(CaCO3     ,Ca3(PO4)2 )\n",
    "     2.3255499914663e+01*1000.0, # 134 W(CO2       ,H2O       )\n",
    "     7.8729683594722e+00*1000.0, # 135 W(CaCO3     ,H2O       )\n",
    "                            0.0, # 180 W(CaCO3     ,CO2       )\n",
    "]"
   ],
   "id": "cell-38"
  },
  {
   "cell_type": "markdown",
   "metadata": {},
   "source": [
    "## Define extensive standard state contribution to solution properties"
   ],
   "id": "cell-39"
  },
  {
   "cell_type": "code",
   "execution_count": null,
   "metadata": {},
   "outputs": [],
   "source": [
    "G_ss = sym.S.Zero\n",
    "for i,x in enumerate(X_soln):\n",
    "    if i < nc:\n",
    "        G_ss += x*mu[i]\n",
    "    else:\n",
    "        h = sym.symbols('hd_'+str(i+1))\n",
    "        params.append('hd_'+str(i+1))\n",
    "        units.append('J')\n",
    "        symparams.append(h)\n",
    "        ss = sym.symbols('sd_'+str(i+1))\n",
    "        symparams.append(ss)\n",
    "        params.append('sd_'+str(i+1))\n",
    "        units.append('J/K')\n",
    "        v = sym.symbols('vd_'+str(i+1))\n",
    "        params.append('vd_'+str(i+1))\n",
    "        units.append('J/bar')\n",
    "        symparams.append(v)\n",
    "        G_ss += x*(h-T*ss+(P-sym.S.One)*v)\n",
    "h = sym.symbols('hZrSiO4')\n",
    "params.append('hZrSiO4')\n",
    "units.append('J')\n",
    "symparams.append(h)\n",
    "ss = sym.symbols('sZrSiO4')\n",
    "symparams.append(ss)\n",
    "params.append('sZrSiO4')\n",
    "units.append('J/K')\n",
    "v = sym.symbols('vZrSiO4')\n",
    "params.append('vZrSiO4')\n",
    "units.append('J/bar')\n",
    "symparams.append(v)\n",
    "G_ss += X_soln[16]*(h-T*ss+(P-sym.S.One)*v)\n",
    "G_ss"
   ],
   "id": "cell-40"
  },
  {
   "cell_type": "markdown",
   "metadata": {},
   "source": [
    "## Define extensive configurational Gibbs free energy\n",
    "\n",
    "*R* is the gas constant.  \n",
    "Note that species mole fractions are computed using *XT* rather than *nT*"
   ],
   "id": "cell-41"
  },
  {
   "cell_type": "code",
   "execution_count": null,
   "metadata": {},
   "outputs": [],
   "source": [
    "eps = np.finfo(float).eps"
   ],
   "id": "cell-42"
  },
  {
   "cell_type": "code",
   "execution_count": null,
   "metadata": {},
   "outputs": [],
   "source": [
    "R = sym.symbols('R')\n",
    "S_config = sym.S.Zero\n",
    "for x in X_soln:\n",
    "    S_config += x*sym.log(x/XT+eps)\n",
    "S_config += X_soln[14]*sym.log(X_soln[14]/XT) + (XT-X_soln[14])*sym.log(sym.S.One-X_soln[14]/XT) # extra entropy from hydroxyl term\n",
    "S_config *= -R\n",
    "G_config = -T*S_config"
   ],
   "id": "cell-43"
  },
  {
   "cell_type": "markdown",
   "metadata": {},
   "source": [
    "## Non-configurational extensive molar Gibbs free energy\n",
    "\n",
    "These are the regular solution terms. Zirconium species are assumed to not contribute to the excess Gibbs free energy.  \n",
    "The flag, *include_excess_parameters* is used to perform direct substitution of excess solution parameters, removing them from the list of “calibration” parameters in order to save code generation and compilation time."
   ],
   "id": "cell-44"
  },
  {
   "cell_type": "code",
   "execution_count": null,
   "metadata": {},
   "outputs": [],
   "source": [
    "G_ex = sym.S.Zero\n",
    "for i,x in enumerate(X_soln):\n",
    "    istr = '{0:02d}'.format(i+1)\n",
    "    for j,y in enumerate(X_soln):\n",
    "        jstr = '{0:02d}'.format(j+1)\n",
    "        if j > i and i<nc-1 and j<nc-1: #skip the last component, ZrSiO4\n",
    "            w = sym.symbols('Wc'+istr+'c'+jstr)\n",
    "            if include_excess_parameters:\n",
    "                params.append('Wc'+istr+'c'+jstr)\n",
    "                units.append('J')\n",
    "                symparams.append(w)\n",
    "            else:\n",
    "                param_subst_l.append(w)\n",
    "            G_ex += x*y*w\n",
    "    if i<nc-1:\n",
    "        w = sym.symbols('Wc'+istr+'s1')\n",
    "        if include_excess_parameters:\n",
    "            params.append('Wc'+istr+'s1')\n",
    "            units.append('J')\n",
    "            symparams.append(w)\n",
    "        else:\n",
    "            param_subst_l.append(w)\n",
    "        G_ex += x*s[0]*w\n",
    "G_ex /= XT"
   ],
   "id": "cell-45"
  },
  {
   "cell_type": "code",
   "execution_count": null,
   "metadata": {},
   "outputs": [],
   "source": [
    "print(params)\n",
    "print(units)\n",
    "print(symparams)"
   ],
   "id": "cell-46"
  },
  {
   "cell_type": "markdown",
   "metadata": {},
   "source": [
    "## Define the extensive Gibbs free energy of solution"
   ],
   "id": "cell-47"
  },
  {
   "cell_type": "code",
   "execution_count": null,
   "metadata": {},
   "outputs": [],
   "source": [
    "G = G_ss + G_config + G_ex"
   ],
   "id": "cell-48"
  },
  {
   "cell_type": "code",
   "execution_count": null,
   "metadata": {},
   "outputs": [],
   "source": [
    "ll = list(zip(param_subst_l,known_w_values))"
   ],
   "id": "cell-49"
  },
  {
   "cell_type": "code",
   "execution_count": null,
   "metadata": {},
   "outputs": [],
   "source": [
    "if not include_excess_parameters:\n",
    "    G = G.subs(list(zip(param_subst_l,known_w_values)))"
   ],
   "id": "cell-50"
  },
  {
   "cell_type": "markdown",
   "metadata": {},
   "source": [
    "## Find the condition of homogeneous equilibrium: $\\frac{{\\partial \\hat G}}{{\\partial {s_i}}} = 0$"
   ],
   "id": "cell-51"
  },
  {
   "cell_type": "code",
   "execution_count": null,
   "metadata": {},
   "outputs": [],
   "source": [
    "dgds = []\n",
    "for x in s:\n",
    "    dgds.append(G.diff(x))"
   ],
   "id": "cell-52"
  },
  {
   "cell_type": "markdown",
   "metadata": {},
   "source": [
    "## Identify bounds on the ordering parameter\n",
    "\n",
    "Construct a set of inequality constraints on the lower bound of species mole fractions. If all the mole fractions are guaranteed to be positive, then the sum of all those moles, *XT*, is positive. Note that the upper bound on *X<sub>i</sub>* is guaranteed to be feasible, because in use that quantity is always smaller than *XT*."
   ],
   "id": "cell-53"
  },
  {
   "cell_type": "code",
   "execution_count": null,
   "metadata": {},
   "outputs": [],
   "source": [
    "ineq_l = [\n",
    "    0 <= X_soln[ 0], \n",
    "    0 <= X_soln[ 1], \n",
    "    0 <= X_soln[ 2], \n",
    "    0 <= X_soln[ 3], \n",
    "    0 <= X_soln[ 4], \n",
    "    0 <= X_soln[ 5], \n",
    "    0 <= X_soln[ 6], \n",
    "    0 <= X_soln[ 7], \n",
    "    0 <= X_soln[ 8], \n",
    "    0 <= X_soln[ 9], \n",
    "    0 <= X_soln[10], \n",
    "    0 <= X_soln[11], \n",
    "    0 <= X_soln[12], \n",
    "    0 <= X_soln[13], \n",
    "    0 <= X_soln[14], \n",
    "    0 <= X_soln[15], \n",
    "    0 <= X_soln[16], \n",
    "    0 <= X_soln[17], \n",
    "    0 <= X_soln[18], \n",
    "    0 <= X_soln[19]\n",
    "]\n",
    "insym_l = [x for x in n]\n",
    "out = sym.reduce_inequalities(inequalities=ineq_l, symbols=insym_l)\n",
    "out"
   ],
   "id": "cell-54"
  },
  {
   "cell_type": "markdown",
   "metadata": {},
   "source": [
    "## Identity initial guess values of the order parameters"
   ],
   "id": "cell-55"
  },
  {
   "cell_type": "code",
   "execution_count": null,
   "metadata": {},
   "outputs": [],
   "source": [
    "initial_guess_l = []\n",
    "initial_guess_l.append( sym.Min(n[10]/6,n[15]/2) )\n",
    "initial_guess_l.append( sym.Min(n[11]/2,n[16]/4) )\n",
    "initial_guess_l.append( sym.Min(n[12]/4,n[16]/4) )"
   ],
   "id": "cell-56"
  },
  {
   "cell_type": "code",
   "execution_count": null,
   "metadata": {},
   "outputs": [],
   "source": [
    "initial_guess_l"
   ],
   "id": "cell-57"
  },
  {
   "cell_type": "markdown",
   "metadata": {},
   "source": [
    "## Identify null values of ordering parameters"
   ],
   "id": "cell-58"
  },
  {
   "cell_type": "code",
   "execution_count": null,
   "metadata": {},
   "outputs": [],
   "source": [
    "nullValues = [sym.S.Zero, sym.S.Zero, sym.S.Zero]"
   ],
   "id": "cell-59"
  },
  {
   "cell_type": "markdown",
   "metadata": {},
   "source": [
    "## Add the Gibbs free energy of solution to the model"
   ],
   "id": "cell-60"
  },
  {
   "cell_type": "code",
   "execution_count": null,
   "metadata": {},
   "outputs": [],
   "source": [
    "model.add_expression_to_model(G, list(zip(params, units, symparams)), ordering_functions=(dgds,s,initial_guess_l,out,nullValues))"
   ],
   "id": "cell-61"
  },
  {
   "cell_type": "markdown",
   "metadata": {},
   "source": [
    "## Name the module that will hold the liquid model"
   ],
   "id": "cell-62"
  },
  {
   "cell_type": "code",
   "execution_count": null,
   "metadata": {},
   "outputs": [],
   "source": [
    "model.module = \"rMELTS_ZR\""
   ],
   "id": "cell-63"
  },
  {
   "cell_type": "markdown",
   "metadata": {},
   "source": [
    "## Composition conversion and bound constraints\n",
    "\n",
    "Develop expressions that convert solution composition expressed as moles of elements into moles of components"
   ],
   "id": "cell-64"
  },
  {
   "cell_type": "code",
   "execution_count": null,
   "metadata": {},
   "outputs": [],
   "source": [
    "ineq_l = []\n",
    "insym_l = []\n",
    "for key,value in elm.items():\n",
    "    y = sym.symbols(key)\n",
    "    ineq_l.append(value - y)\n",
    "    insym_l.append(y)\n",
    "sol = sym.solve(ineq_l, tuple(n))\n",
    "for i,x in enumerate(n):\n",
    "    print ('n['+str(i+1)+'] = ', end='')\n",
    "    print(sol[x])"
   ],
   "id": "cell-65"
  },
  {
   "cell_type": "markdown",
   "metadata": {},
   "source": [
    "Construct a formula string for the model"
   ],
   "id": "cell-66"
  },
  {
   "cell_type": "code",
   "execution_count": null,
   "metadata": {},
   "outputs": [],
   "source": [
    "repl_s = {}\n",
    "for key in elm.keys():\n",
    "    if key[0:1] != ' ':\n",
    "        repl_s[key] = '[' + key + ']'\n",
    "for key in elm.keys():\n",
    "    if key[0:1] == ' ':\n",
    "        repl_s[key[1:]] = '[' + key[1] + ']'\n",
    "formula_string = ''\n",
    "for x,y in repl_s.items():\n",
    "    formula_string += x + y\n",
    "formula_string"
   ],
   "id": "cell-67"
  },
  {
   "cell_type": "markdown",
   "metadata": {},
   "source": [
    "Compute a list of conversion strings to cast element abundances to component mole numbers"
   ],
   "id": "cell-68"
  },
  {
   "cell_type": "code",
   "execution_count": null,
   "metadata": {},
   "outputs": [],
   "source": [
    "def process_str(z):\n",
    "    while True:\n",
    "        l1 = z.find('[[')\n",
    "        if l1 == -1:\n",
    "            return z\n",
    "        else:\n",
    "            l2 = l1+3\n",
    "            z = z[:l2] + z[l2+1:]\n",
    "            z = z[:l1] + z[l1+1:]"
   ],
   "id": "cell-69"
  },
  {
   "cell_type": "code",
   "execution_count": null,
   "metadata": {},
   "outputs": [],
   "source": [
    "conversion_string = []\n",
    "for i,zz in enumerate(sol):\n",
    "    z = str(sol[zz]).replace(' ', '')\n",
    "    for x,y in repl_s.items():\n",
    "        z = z.replace(x,y)\n",
    "    z = process_str(z)\n",
    "    conversion_string.append('['+str(i)+']='+z)\n",
    "conversion_string"
   ],
   "id": "cell-70"
  },
  {
   "cell_type": "markdown",
   "metadata": {},
   "source": [
    "Compute a test string to insure a feasible solution; these constraints insure that the moles of each element is greater than zero"
   ],
   "id": "cell-71"
  },
  {
   "cell_type": "code",
   "execution_count": null,
   "metadata": {},
   "outputs": [],
   "source": [
    "test_string = []\n",
    "for x,y in elm.items():\n",
    "    z = str(y).replace('/2 +',']/2+')\n",
    "    z = z.replace(' +', '] +')\n",
    "    z = z.replace('n', '[')\n",
    "    z = z.replace(' ', '')\n",
    "    z += '] >= 0.0'\n",
    "    z = z.replace('/2]',']/2')\n",
    "    for i in range(1,nc+1):\n",
    "        z = z.replace('['+str(i)+']', '['+str(i-1)+']')\n",
    "    test_string.append(z)"
   ],
   "id": "cell-72"
  },
  {
   "cell_type": "markdown",
   "metadata": {},
   "source": [
    "## Add these bound constraints to the model"
   ],
   "id": "cell-73"
  },
  {
   "cell_type": "code",
   "execution_count": null,
   "metadata": {},
   "outputs": [],
   "source": [
    "model.formula_string = formula_string\n",
    "model.conversion_string = conversion_string\n",
    "model.test_string = test_string"
   ],
   "id": "cell-74"
  },
  {
   "cell_type": "markdown",
   "metadata": {},
   "source": [
    "## Assign parameter values"
   ],
   "id": "cell-75"
  },
  {
   "cell_type": "code",
   "execution_count": null,
   "metadata": {},
   "outputs": [],
   "source": [
    "depen_species_values = [\n",
    "    0.0, 0.0, 0.0, # H, S, V, CaCO3\n",
    "    0.0, 0.0, 0.0, # H, S, V, Na4ZrSi2O8\n",
    "    0.0, 0.0, 0.0, # H, S, V, K4ZrSi2O8\n",
    "    0.0, 0.0, 0.0  # H. S. V, ZrSiO4\n",
    "]"
   ],
   "id": "cell-76"
  },
  {
   "cell_type": "markdown",
   "metadata": {},
   "source": [
    "Parameter values are consistent with rhyolite-MELTS version 1.1"
   ],
   "id": "cell-77"
  },
  {
   "cell_type": "code",
   "execution_count": null,
   "metadata": {},
   "outputs": [],
   "source": [
    "if include_excess_parameters:\n",
    "    w_values = [\n",
    "                        26266.7, #   0 W(TiO2      ,SiO2      ) 0\n",
    "                       -39120.0, #   1 W(Al2O3     ,SiO2      )\n",
    "                         8110.3, #   2 W(Fe2O3     ,SiO2      )\n",
    "                        27886.3, #   3 W(MgCr2O4   ,SiO2      )\n",
    "                        23660.9, #   4 W(Fe2SiO4   ,SiO2      )\n",
    "                        18393.9, #   5 W(MnSi0.5O2 ,SiO2      )\n",
    "                         3421.0, #   6 W(Mg2SiO4   ,SiO2      )\n",
    "                        25197.4, #   7 W(NiSi0.5O2 ,SiO2      )\n",
    "                        14802.8, #   8 W(CoSi0.5O2 ,SiO2      )\n",
    "                         -863.7, #   9 W(CaSiO3    ,SiO2      )\n",
    "                       -99039.0, #  10 W(Na2SiO3   ,SiO2      ) 10\n",
    "                       -33921.7, #  11 W(KAlSiO4   ,SiO2      )\n",
    "                        61891.6, #  12 W(Ca3(PO4)2 ,SiO2      )\n",
    "                        30967.3, #  13 W(H2O       ,SiO2      )\n",
    "                            0.0, #  14 W(CO2       ,SiO2      )\n",
    "     6.3281206517489e+01*1000.0, #  15 W(CaCO3     ,SiO2      )\n",
    "                       -29449.8, #  16 W(Al2O3     ,TiO2      )\n",
    "                       -84756.9, #  17 W(Fe2O3     ,TiO2      )\n",
    "                       -72303.4, #  18 W(MgCr2O4   ,TiO2      )\n",
    "                         5209.1, #  19 W(Fe2SiO4   ,TiO2      )\n",
    "                       -16123.5, #  20 W(MnSi0.5O2 ,TiO2      ) 20\n",
    "                        -4178.3, #  21 W(Mg2SiO4   ,TiO2      )\n",
    "                         3614.8, #  22 W(NiSi0.5O2 ,TiO2      )\n",
    "                        -1640.0, #  23 W(CoSi0.5O2 ,TiO2      )\n",
    "                       -35372.5, #  24 W(CaSiO3    ,TiO2      )\n",
    "                       -15415.6, #  25 W(Na2SiO3   ,TiO2      )\n",
    "                       -48094.6, #  26 W(KAlSiO4   ,TiO2      )\n",
    "                        25938.8, #  27 W(Ca3(PO4)2 ,TiO2      )\n",
    "                        81879.1, #  28 W(H2O       ,TiO2      )\n",
    "    -1.9265668647972e+01*1000.0, #  29 W(CO2       ,TiO2      )\n",
    "    -7.9202707514741e+01*1000.0, #  30 W(CaCO3     ,TiO2      ) 30\n",
    "                       -17089.4, #  31 W(Fe2O3     ,Al2O3     )\n",
    "                       -31770.3, #  32 W(MgCr2O4   ,Al2O3     )\n",
    "                       -30509.0, #  33 W(Fe2SiO4   ,Al2O3     )\n",
    "                       -53874.9, #  34 W(MnSi0.5O2 ,Al2O3     )\n",
    "                       -32880.3, #  35 W(Mg2SiO4   ,Al2O3     )\n",
    "                         2985.2, #  36 W(NiSi0.5O2 ,Al2O3     )\n",
    "                        -2677.4, #  37 W(CoSi0.5O2 ,Al2O3     )\n",
    "                       -57917.9, #  38 7(CaSiO3    ,Al2O3     )\n",
    "                      -130785.0, #  39 W(Na2SiO3   ,Al2O3     )\n",
    "                       -25859.2, #  40 W(KAlSiO4   ,Al2O3     ) 40\n",
    "                        52220.8, #  41 W(Ca3(PO4)2 ,Al2O3     )\n",
    "                       -16098.1, #  42 W(H2O       ,Al2O3     )\n",
    "                            0.0, #  43 W(CO2       ,Al2O3     )\n",
    "     4.6716121152125e+01*1000.0, #  44 W(CaCO3     ,Al2O3     )\n",
    "                        21605.9, #  45 W(MgCr2O4   ,Fe2O3     )\n",
    "                      -179064.9, #  46 W(Fe2SiO4   ,Fe2O3     )\n",
    "                         3907.9, #  47 W(MnSi0.5O2 ,Fe2O3     )\n",
    "                       -71518.6, #  48 W(Mg2SiO4   ,Fe2O3     )\n",
    "                          408.7, #  49 W(NiSi0.5O2 ,Fe2O3     )\n",
    "                         -223.7, #  50 W(CoSi0.5O2 ,Fe2O3     ) 50\n",
    "                        12076.6, #  51 W(CaSiO3    ,Fe2O3     )\n",
    "                      -149662.2, #  52 W(Na2SiO3   ,Fe2O3     )\n",
    "                        57555.9, #  53 W(KAlSiO4   ,Fe2O3     )\n",
    "                        -4213.9, #  54 W(Ca3(PO4)2 ,Fe2O3     )\n",
    "                        31405.5, #  55 W(H2O       ,Fe2O3     )\n",
    "    -3.1868817914962e+00*1000.0, #  56 W(CO2       ,Fe2O3     )\n",
    "     6.5508729974818e+01*1000.0, #  57 W(CaCO3     ,Fe2O3     )\n",
    "                       -82971.8, #  58 W(Fe2SiO4   ,MgCr2O4   )\n",
    "                          182.4, #  59 W(MnSi0.5O2 ,MgCr2O4   )\n",
    "                        46049.2, #  60 W(Mg2SiO4   ,MgCr2O4   ) 60\n",
    "                         -266.0, #  61 W(NiSi0.5O2 ,MgCr2O4   )\n",
    "                         -384.0, #  62 W(CoSi0.5O2 ,MgCr2O4   )\n",
    "                        30704.7, #  63 W(CaSiO3    ,MgCr2O4   )\n",
    "                       113646.0, #  64 W(Na2SiO3   ,MgCr2O4   )\n",
    "                        75709.1, #  65 W(KAlSiO4   ,MgCr2O4   )\n",
    "                         5341.8, #  66 W(Ca3(PO4)2 ,MgCr2O4   )\n",
    "                            0.0, #  67 W(H2O       ,MgCr2O4   )\n",
    "                            0.0, #  68 W(CO2       ,MgCr2O4   )\n",
    "                            0.0, #  69 W(CaCO3     ,MgCr2O4   )\n",
    "                        -6823.9, #  70 W(MnSi0.5O2 ,Fe2SiO4   ) 70\n",
    "                       -37256.7, #  71 W(Mg2SiO4   ,Fe2SiO4   )\n",
    "                       -17019.8, #  72 W(NiSi0.5O2 ,Fe2SiO4   )\n",
    "                       -11746.3, #  73 W(CoSi0.5O2 ,Fe2SiO4   )\n",
    "                       -12970.8, #  74 W(CaSiO3    ,Fe2SiO4   )\n",
    "                       -90533.8, #  75 W(Na2SiO3   ,Fe2SiO4   )\n",
    "                        23649.4, #  76 W(KAlSiO4   ,Fe2SiO4   )\n",
    "                        87410.3, #  77 W(Ca3(PO4)2 ,Fe2SiO4   )\n",
    "                        28873.6, #  78 W(H2O       ,Fe2SiO4   )\n",
    "    -3.2464545980393e+01*1000.0, #  79 W(CO2       ,Fe2SiO4   )\n",
    "    -7.2996815311226e+01*1000.0, #  80 W(CaCO3     ,Fe2SiO4   ) 80\n",
    "                       -13040.1, #  81 W(Mg2SiO4   ,MnSi0.5O2 )\n",
    "                          785.8, #  82 W(NiSi0.5O2 ,MnSi0.5O2 )\n",
    "                          -50.6, #  83 W(CoSi0.5O2 ,MnSi0.5O2 )\n",
    "                         2934.6, #  84 W(CaSiO3    ,MnSi0.5O2 )\n",
    "                       -15780.8, #  85 W(Na2SiO3   ,MnSi0.5O2 )\n",
    "                        23727.4, #  86 W(KAlSiO4   ,MnSi0.5O2 )\n",
    "                            0.0, #  87 W(Ca3(PO4)2 ,MnSi0.5O2 )\n",
    "                            0.0, #  88 W(H2O       ,MnSi0.5O2 )\n",
    "                            0.0, #  89 W(CO2       ,MnSi0.5O2 )\n",
    "                            0.0, #  90 W(CaCO3     ,MnSi0.5O2 ) 90\n",
    "                       -21175.5, #  91 W(NiSi0.5O2 ,Mg2SiO4   )\n",
    "                       -14994.9, #  92 W(CoSi0.5O2 ,Mg2SiO4   )\n",
    "                       -31731.9, #  93 W(CaSiO3    ,Mg2SiO4   )\n",
    "                       -41876.9, #  94 W(Na2SiO3   ,Mg2SiO4   )\n",
    "                        22323.1, #  95 W(KAlSiO4   ,Mg2SiO4   )\n",
    "                       -23208.8, #  96 W(Ca3(PO4)2 ,Mg2SiO4   )\n",
    "                        35633.7, #  97 W(H2O       ,Mg2SiO4   )\n",
    "    -4.0853595138597e+01*1000.0, #  98 W(CO2       ,Mg2SiO4   )\n",
    "    -2.4872562549739e+01*1000.0, #  99 W(CaCO3     ,Mg2SiO4   )\n",
    "                          258.9, # 100 W(CoSi0.5O2 ,NiSi0.5O2 ) 100\n",
    "                         7027.5, # 101 W(CaSiO3    ,NiSi0.5O2 )\n",
    "                        -3647.8, # 102 W(Na2SiO3   ,NiSi0.5O2 )\n",
    "                         4261.4, # 103 W(KAlSiO4   ,NiSi0.5O2 )\n",
    "                            0.0, # 104 W(Ca3(PO4)2 ,NiSi0.5O2 )\n",
    "                            0.0, # 105 W(H2O       ,NiSi0.5O2 )\n",
    "                            0.0, # 106 W(CO2       ,NiSi0.5O2 )\n",
    "                            0.0, # 107 W(CaCO3     ,NiSi0.5O2 )\n",
    "                       -26685.7, # 108 W(CaSiO3    ,CoSi0.5O2 )\n",
    "                          531.2, # 109 W(Na2SiO3   ,CoSi0.5O2 )\n",
    "                          265.7, # 110 W(KAlSiO4   ,CoSi0.5O2 ) 110\n",
    "                            0.0, # 111 W(Ca3(PO4)2 ,CoSi0.5O2 )\n",
    "                            0.0, # 112 W(H2O       ,CoSi0.5O2 )\n",
    "                            0.0, # 113 W(CO2       ,CoSi0.5O2 )\n",
    "                            0.0, # 114 W(CaCO3     ,CoSi0.5O2 )\n",
    "                       -13247.1, # 115 W(Na2SiO3   ,CaSiO3    )\n",
    "                        17111.1, # 116 W(KAlSiO4   ,CaSiO3    )\n",
    "                        37070.3, # 117 W(Ca3(PO4)2 ,CaSiO3    )\n",
    "                        20374.6, # 118 W(H2O       ,CaSiO3    )\n",
    "     3.0012481472120e+01*1000.0, # 119 W(CO2       ,CaSiO3    )\n",
    "     3.7534127781795e+01*1000.0, # 120 W(CaCO3     ,CaSiO3    ) 120\n",
    "                         6522.8, # 121 W(KAlSiO4   ,Na2SiO3   )\n",
    "                        15571.9, # 122 W(Ca3(PO4)2 ,Na2SiO3   )\n",
    "                       -96937.6, # 123 W(H2O       ,Na2SiO3   )\n",
    "                            0.0, # 124 W(CO2       ,Na2SiO3   )\n",
    "    -3.1101129932991e+02*1000.0, # 126 W(CaCO3     ,Na2SiO3   )\n",
    "                        17100.6, # 127 W(Ca3(PO4)2 ,KAlSiO4   )\n",
    "                        10374.2, # 128 W(H2O       ,KAlSiO4   )\n",
    "                            0.0, # 129 W(CO2       ,KAlSiO4   )\n",
    "    -2.7864967599360e+01*1000.0, # 130 W(CaCO3     ,KAlSiO4   )\n",
    "                        43451.3, # 131 W(H2O       ,Ca3(PO4)2 ) 130\n",
    "    -3.4728165916175e+00*1000.0, # 132 W(CO2       ,Ca3(PO4)2 )\n",
    "     2.0119124588637e+00*1000.0, # 133 W(CaCO3     ,Ca3(PO4)2 )\n",
    "     2.3255499914663e+01*1000.0, # 134 W(CO2       ,H2O       )\n",
    "     7.8729683594722e+00*1000.0, # 135 W(CaCO3     ,H2O       )\n",
    "                            0.0, # 180 W(CaCO3     ,CO2       )\n",
    "    ]\n",
    "else:\n",
    "    w_values = []"
   ],
   "id": "cell-78"
  },
  {
   "cell_type": "code",
   "execution_count": null,
   "metadata": {},
   "outputs": [],
   "source": [
    "paramValues = dict(zip(params, depen_species_values+w_values))"
   ],
   "id": "cell-79"
  },
  {
   "cell_type": "code",
   "execution_count": null,
   "metadata": {},
   "outputs": [],
   "source": [
    "paramValues['T_r'] = 298.15\n",
    "paramValues['P_r'] =   1.0"
   ],
   "id": "cell-80"
  },
  {
   "cell_type": "markdown",
   "metadata": {},
   "source": [
    "## Generate code, load and compile the module"
   ],
   "id": "cell-81"
  },
  {
   "cell_type": "code",
   "execution_count": null,
   "metadata": {},
   "outputs": [],
   "source": [
    "model_working_dir = \"working\"\n",
    "!mkdir -p {model_working_dir}\n",
    "%cd {model_working_dir}\n",
    "model_type = \"calib\""
   ],
   "id": "cell-82"
  },
  {
   "cell_type": "code",
   "execution_count": null,
   "metadata": {},
   "outputs": [],
   "source": [
    "model.verbose = True\n",
    "model.de_minimis = True\n",
    "model.create_code_module(phase=\"Liquid\", \n",
    "                         params=paramValues, \n",
    "                         endmembers=[\n",
    "                             'SiO2_rMELTS_ZR',\n",
    "                             'TiO2_rMELTS_ZR',\n",
    "                             'Al2O3_rMELTS_ZR',\n",
    "                             'Fe2O3_rMELTS_ZR',\n",
    "                             'MgCr2O4_rMELTS_ZR',\n",
    "                             'Fe2SiO4_rMELTS_ZR',\n",
    "                             'MnSi1d2O2_rMELTS_ZR',\n",
    "                             'Mg2SiO4_rMELTS_ZR',\n",
    "                             'NiSi1d2O2_rMELTS_ZR',\n",
    "                             'CoSi1d2O2_rMELTS_ZR',\n",
    "                             'CaSiO3_rMELTS_ZR',\n",
    "                             'Na2SiO3_rMELTS_ZR',\n",
    "                             'KAlSiO4_rMELTS_ZR',\n",
    "                             'Ca3P2O8_rMELTS_ZR',\n",
    "                             'H2O_rMELTS_ZR',\n",
    "                             'CO2_rMELTS_ZR',\n",
    "                             'ZrSiO4_rMELTS_ZR'\n",
    "                         ], \n",
    "                         prefix=\"cy\", \n",
    "                         module_type=model_type, \n",
    "                         silent=False, \n",
    "                         add_code_to_access_order_paramater=True,\n",
    "                         minimal_deriv_set=True)"
   ],
   "id": "cell-83"
  },
  {
   "cell_type": "code",
   "execution_count": null,
   "metadata": {},
   "outputs": [],
   "source": [
    "import rMELTS_ZR\n",
    "%cd .."
   ],
   "id": "cell-84"
  },
  {
   "cell_type": "markdown",
   "metadata": {},
   "source": [
    "## Test identifier routines"
   ],
   "id": "cell-85"
  },
  {
   "cell_type": "code",
   "execution_count": null,
   "metadata": {},
   "outputs": [],
   "source": [
    "print(rMELTS_ZR.cy_Liquid_rMELTS_ZR_calib_identifier())\n",
    "print(rMELTS_ZR.cy_Liquid_rMELTS_ZR_calib_name())"
   ],
   "id": "cell-86"
  }
 ],
 "nbformat": 4,
 "nbformat_minor": 5,
 "metadata": {}
}
