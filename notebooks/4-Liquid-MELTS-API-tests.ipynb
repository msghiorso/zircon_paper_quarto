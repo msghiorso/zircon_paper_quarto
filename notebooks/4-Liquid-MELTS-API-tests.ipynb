{
 "cells": [
  {
   "cell_type": "markdown",
   "metadata": {},
   "source": [
    "# 4-Tests: MELTS liquid model with ZrSiO<sub>4</sub>\n",
    "\n",
    "**API tests.**   \n",
    "**Run Endmembers-MELTS and Liquid-MELTS-codegen notebooks first!**  \n",
    "\n",
    "Proposed associated solution model:\n",
    "\n",
    "| Components: | Species: | Reaction: | Variable: | Component: | Species X: |\n",
    "| :---------- | :------- | :-------- | :-------- | :--------- | :--------- |\n",
    "| SiO<sub>2</sub> | SiO<sub>2</sub> | | | $n_1$ | $X_1$ |\n",
    "| TiO<sub>2</sub> | TiO<sub>2</sub> | | $r_1$ | $n_2$ | $X_2$ |\n",
    "| Al<sub>2</sub>O<sub>3</sub> | Al<sub>2</sub>O<sub>3</sub> | | $r_2$ | $n_3$ | $X_3$ |\n",
    "| Fe<sub>2</sub>O<sub>3</sub> | Fe<sub>2</sub>O<sub>3</sub> | | $r_3$ | $n_4$ | $X_4$ |\n",
    "| MgCr<sub>2</sub>O<sub>4</sub> | MgCr<sub>2</sub>O<sub>4</sub> | | $r_4$ | $n_5$ | $X_5$ |\n",
    "| Fe<sub>2</sub>SiO<sub>4</sub> | Fe<sub>2</sub>SiO<sub>4</sub> | | $r_5$ | $n_6$ | $X_6$ |\n",
    "| MnSi<sub>1/2</sub>O<sub>2</sub> | MnSi<sub>1/2</sub>O<sub>2</sub> | | $r_6$ | $n_7$ | $X_7$ |\n",
    "| Mg<sub>2</sub>SiO<sub>4</sub> | Mg<sub>2</sub>SiO<sub>4</sub> | | $r_7$ | $n_8$ | $X_8$ |\n",
    "| NiSi<sub>1/2</sub>O<sub>2</sub> | NiSi<sub>1/2</sub>O<sub>2</sub>  | | $r_8$ | $n_9$ | $X_9$ |\n",
    "| CoSi<sub>1/2</sub>O<sub>2</sub> | CoSi<sub>1/2</sub>O<sub>2</sub> | | $r_9$ | $n_{10}$ | $X_{10}$ |\n",
    "| CaSiO<sub>3</sub> | CaSiO<sub>3</sub> | | $r_{10}$ | $n_{11}$ | $X_{11}$ |\n",
    "| Na<sub>2</sub>SiO<sub>3</sub> | Na<sub>2</sub>SiO<sub>3</sub> | | $r_{11}$ | $n_{12}$ | $X_{12}$ |\n",
    "| KAlSiO<sub>4</sub> | KAlSiO<sub>4</sub> | | $r_{12}$ | $n_{13}$ | $X_{13}$ |\n",
    "| Ca<sub>3</sub>(PO<sub>4</sub>)<sub>2</sub> | Ca<sub>3</sub>(PO<sub>4</sub>)<sub>2</sub> | | $r_{13}$ | $n_{14}$ | $X_{14}$ |\n",
    "| H<sub>2</sub>O | H<sub>2</sub>O | | $r_{14}$ | $n_{15}$ | $X_{15}$ |\n",
    "| CO<sub>2</sub> | CO<sub>2</sub> | | $r_{15}$ | $n_{16}$ | $X_{16}$ |\n",
    "| ZrSiO<sub>4</sub> | ZrSiO<sub>4</sub> | | $r_{16}$ | $n_{17}$ | $X_{17}$ |\n",
    "| | CaCO<sub>3</sub> | CO<sub>2</sub> + CaSiO<sub>3</sub> = CaCO<sub>3</sub> + SiO<sub>2</sub> | $s_1$ | | $X_{18}$ |\n",
    "| | Na<sub>4</sub>ZrSi<sub>2</sub>O<sub>8</sub> | ZrSiO<sub>4</sub> + 2Na<sub>2</sub>SiO<sub>3</sub> = Na<sub>4</sub>ZrSi<sub>2</sub>O<sub>8</sub> + SiO<sub>2</sub> | $s_2$ | | $X_{19}$ |\n",
    "| | K<sub>4</sub>ZrSi<sub>2</sub>O<sub>8</sub> | ZrSiO<sub>4</sub> + 4KAlSiO<sub>4</sub> = K<sub>4</sub>ZrSi<sub>2</sub>O<sub>8</sub> + 2Al<sub>2</sub>O<sub>3</sub> + 3SiO<sub>2</sub> | $s_3$ | | $X_{20}$ |"
   ]
  },
  {
   "cell_type": "code",
   "execution_count": null,
   "metadata": {},
   "outputs": [],
   "source": [
    "import pandas as pd\n",
    "import numpy as np\n",
    "from thermoengine import core\n",
    "from thermoengine.model import Database\n",
    "db = Database()\n",
    "import warnings\n",
    "warnings.filterwarnings(\"ignore\", category=DeprecationWarning)\n",
    "warnings.filterwarnings(\"ignore\", category=FutureWarning)"
   ]
  },
  {
   "cell_type": "markdown",
   "metadata": {},
   "source": [
    "- Number of components = 17\n",
    "- Number of species = 24\n",
    "- Number of \"ordering parameters\" (i.e., dependent species) = 7"
   ]
  },
  {
   "cell_type": "code",
   "execution_count": null,
   "metadata": {},
   "outputs": [],
   "source": [
    "nc = 17\n",
    "nw = 20\n",
    "ns = 3"
   ]
  },
  {
   "cell_type": "code",
   "execution_count": null,
   "metadata": {},
   "outputs": [],
   "source": [
    "model_working_dir = \"working\"\n",
    "%cd {model_working_dir}\n",
    "from pyximport import install\n",
    "install()\n",
    "import rMELTS_ZR\n",
    "%cd .."
   ]
  },
  {
   "cell_type": "markdown",
   "metadata": {},
   "source": [
    "## Test (T in K, P in bars)"
   ]
  },
  {
   "cell_type": "code",
   "execution_count": null,
   "metadata": {},
   "outputs": [],
   "source": [
    "t = 1000.00\n",
    "p = 1000.0"
   ]
  },
  {
   "cell_type": "markdown",
   "metadata": {},
   "source": [
    "Test identifier routines"
   ]
  },
  {
   "cell_type": "code",
   "execution_count": null,
   "metadata": {},
   "outputs": [],
   "source": [
    "print(rMELTS_ZR.cy_Liquid_rMELTS_ZR_calib_identifier())\n",
    "print(rMELTS_ZR.cy_Liquid_rMELTS_ZR_calib_name())"
   ]
  },
  {
   "cell_type": "markdown",
   "metadata": {},
   "source": [
    "## Adjust parameters to initial estimates"
   ]
  },
  {
   "cell_type": "code",
   "execution_count": null,
   "metadata": {},
   "outputs": [],
   "source": [
    "mu0_SiO2 = rMELTS_ZR.cy_Liquid_rMELTS_ZR_calib_endmember_mu0(0, t, p)\n",
    "mu0_Al2O3 = rMELTS_ZR.cy_Liquid_rMELTS_ZR_calib_endmember_mu0(2, t, p)\n",
    "mu0_Fe2O3 = rMELTS_ZR.cy_Liquid_rMELTS_ZR_calib_endmember_mu0(3, t, p)\n",
    "mu0_Fe2SiO4 = rMELTS_ZR.cy_Liquid_rMELTS_ZR_calib_endmember_mu0(5, t, p)\n",
    "mu0_CaSiO3 = rMELTS_ZR.cy_Liquid_rMELTS_ZR_calib_endmember_mu0(10, t, p)\n",
    "mu0_Na2SiO3 = rMELTS_ZR.cy_Liquid_rMELTS_ZR_calib_endmember_mu0(11, t, p)\n",
    "mu0_KAlSiO4 = rMELTS_ZR.cy_Liquid_rMELTS_ZR_calib_endmember_mu0(12, t, p)\n",
    "mu0_CO2 = rMELTS_ZR.cy_Liquid_rMELTS_ZR_calib_endmember_mu0(15, t, p)\n",
    "mu0_ZrSiO4 = rMELTS_ZR.cy_Liquid_rMELTS_ZR_calib_endmember_mu0(16, t, p)\n",
    "#\n",
    "mu0dT_SiO2 = rMELTS_ZR.cy_Liquid_rMELTS_ZR_calib_endmember_dmu0dT(0, t, p)\n",
    "mu0dT_Al2O3 = rMELTS_ZR.cy_Liquid_rMELTS_ZR_calib_endmember_dmu0dT(2, t, p)\n",
    "mu0dT_Fe2O3 = rMELTS_ZR.cy_Liquid_rMELTS_ZR_calib_endmember_dmu0dT(3, t, p)\n",
    "mu0dT_Fe2SiO4 = rMELTS_ZR.cy_Liquid_rMELTS_ZR_calib_endmember_dmu0dT(5, t, p)\n",
    "mu0dT_CaSiO3 = rMELTS_ZR.cy_Liquid_rMELTS_ZR_calib_endmember_dmu0dT(10, t, p)\n",
    "mu0dT_Na2SiO3 = rMELTS_ZR.cy_Liquid_rMELTS_ZR_calib_endmember_dmu0dT(11, t, p)\n",
    "mu0dT_KAlSiO4 = rMELTS_ZR.cy_Liquid_rMELTS_ZR_calib_endmember_dmu0dT(12, t, p)\n",
    "mu0dT_CO2 = rMELTS_ZR.cy_Liquid_rMELTS_ZR_calib_endmember_dmu0dT(15, t, p)\n",
    "mu0dT_ZrSiO4 = rMELTS_ZR.cy_Liquid_rMELTS_ZR_calib_endmember_dmu0dT(16, t, p)\n",
    "#\n",
    "mu0dP_SiO2 = rMELTS_ZR.cy_Liquid_rMELTS_ZR_calib_endmember_dmu0dP(0, t, p)\n",
    "mu0dP_Al2O3 = rMELTS_ZR.cy_Liquid_rMELTS_ZR_calib_endmember_dmu0dP(2, t, p)\n",
    "mu0dP_Fe2O3 = rMELTS_ZR.cy_Liquid_rMELTS_ZR_calib_endmember_dmu0dP(3, t, p)\n",
    "mu0dP_Fe2SiO4 = rMELTS_ZR.cy_Liquid_rMELTS_ZR_calib_endmember_dmu0dP(5, t, p)\n",
    "mu0dP_CaSiO3 = rMELTS_ZR.cy_Liquid_rMELTS_ZR_calib_endmember_dmu0dP(10, t, p)\n",
    "mu0dP_Na2SiO3 = rMELTS_ZR.cy_Liquid_rMELTS_ZR_calib_endmember_dmu0dP(11, t, p)\n",
    "mu0dP_KAlSiO4 = rMELTS_ZR.cy_Liquid_rMELTS_ZR_calib_endmember_dmu0dP(12, t, p)\n",
    "mu0dP_CO2 = rMELTS_ZR.cy_Liquid_rMELTS_ZR_calib_endmember_dmu0dP(15, t, p)\n",
    "mu0dP_ZrSiO4 = rMELTS_ZR.cy_Liquid_rMELTS_ZR_calib_endmember_dmu0dP(16, t, p)"
   ]
  },
  {
   "cell_type": "markdown",
   "metadata": {},
   "source": [
    "Compute properties of CaCO<sub>3</sub>:\n",
    "- CaCO<sub>3</sub> calibration adjustments are from Ghiorso and Gualda (2015)\n",
    "```\n",
    "known_depen_species_values = [\n",
    "    -1.7574497522747e+01*1000.0, 0.0, -1.9034060173857e+00, # H, S, V, CaCO3\n",
    "]\n",
    "```"
   ]
  },
  {
   "cell_type": "code",
   "execution_count": null,
   "metadata": {},
   "outputs": [],
   "source": [
    "h_delta_calib_CaCO3 = -1.7574497522747e+01*1000.0\n",
    "s_delta_calib_CaCO3 = 0.0\n",
    "v_delta_calib_CaCO3 = -1.9034060173857e+00\n",
    "mu0_CaCO3   = mu0_CO2 + mu0_CaSiO3 - mu0_SiO2\n",
    "mu0dT_CaCO3 = mu0dT_CO2 + mu0dT_CaSiO3 - mu0dT_SiO2\n",
    "mu0dP_CaCO3 = mu0dP_CO2 + mu0dP_CaSiO3 - mu0dP_SiO2\n",
    "rMELTS_ZR.cy_Liquid_rMELTS_ZR_set_param_value(2, mu0_CaCO3 - t*mu0dT_CaCO3 + h_delta_calib_CaCO3) \n",
    "rMELTS_ZR.cy_Liquid_rMELTS_ZR_set_param_value(3, -mu0dT_CaCO3 + s_delta_calib_CaCO3) \n",
    "rMELTS_ZR.cy_Liquid_rMELTS_ZR_set_param_value(4,  mu0dP_CaCO3 + v_delta_calib_CaCO3)\n",
    "mu0_CaCO3 + h_delta_calib_CaCO3, mu0_CaCO3 - t*mu0dT_CaCO3 + h_delta_calib_CaCO3, -mu0dT_CaCO3 + s_delta_calib_CaCO3, mu0dP_CaCO3 + v_delta_calib_CaCO3"
   ]
  },
  {
   "cell_type": "markdown",
   "metadata": {},
   "source": [
    "Properties of the zirconium species are estimated by choosing a value for h, s, and v that zeros the delta difference of the exchange reaction "
   ]
  },
  {
   "cell_type": "markdown",
   "metadata": {},
   "source": [
    "Na<sub>4</sub>ZrSi<sub>2</sub>O<sub>8</sub>"
   ]
  },
  {
   "cell_type": "code",
   "execution_count": null,
   "metadata": {},
   "outputs": [],
   "source": [
    "mu0_Na4ZrSi2O8   = mu0_ZrSiO4   + 2.0*mu0_Na2SiO3   - mu0_SiO2\n",
    "mu0dT_Na4ZrSi2O8 = mu0dT_ZrSiO4 + 2.0*mu0dT_Na2SiO3 - mu0dT_SiO2\n",
    "mu0dP_Na4ZrSi2O8 = mu0dP_ZrSiO4 + 2.0*mu0dP_Na2SiO3 - mu0dP_SiO2\n",
    "rMELTS_ZR.cy_Liquid_rMELTS_ZR_set_param_value(5, mu0_Na4ZrSi2O8 - t*mu0dT_Na4ZrSi2O8 - (p-1.0)*mu0dP_Na4ZrSi2O8)\n",
    "rMELTS_ZR.cy_Liquid_rMELTS_ZR_set_param_value(6, -mu0dT_Na4ZrSi2O8)\n",
    "rMELTS_ZR.cy_Liquid_rMELTS_ZR_set_param_value(7, mu0dP_Na4ZrSi2O8)\n",
    "mu0_Na4ZrSi2O8, mu0_Na4ZrSi2O8 - t*mu0dT_Na4ZrSi2O8 - (p-1.0)*mu0dP_Na4ZrSi2O8, -mu0dT_Na4ZrSi2O8, mu0dP_Na4ZrSi2O8"
   ]
  },
  {
   "cell_type": "code",
   "execution_count": null,
   "metadata": {},
   "outputs": [],
   "source": [
    "mu0_K4ZrSi2O8   = mu0_ZrSiO4   + 4.0*mu0_KAlSiO4   - 3.0*mu0_SiO2   - 2.0*mu0_Al2O3\n",
    "mu0dT_K4ZrSi2O8 = mu0dT_ZrSiO4 + 4.0*mu0dT_KAlSiO4 - 3.0*mu0dT_SiO2 - 2.0*mu0dT_Al2O3\n",
    "mu0dP_K4ZrSi2O8 = mu0dP_ZrSiO4 + 4.0*mu0dP_KAlSiO4 - 3.0*mu0dP_SiO2 - 2.0*mu0dP_Al2O3\n",
    "rMELTS_ZR.cy_Liquid_rMELTS_ZR_set_param_value(8, mu0_K4ZrSi2O8 - t*mu0dT_K4ZrSi2O8 - (p-1.0)*mu0dP_K4ZrSi2O8)\n",
    "rMELTS_ZR.cy_Liquid_rMELTS_ZR_set_param_value(9, -mu0dT_K4ZrSi2O8)\n",
    "rMELTS_ZR.cy_Liquid_rMELTS_ZR_set_param_value(10, mu0dP_K4ZrSi2O8)\n",
    "mu0_K4ZrSi2O8, mu0_K4ZrSi2O8 - t*mu0dT_K4ZrSi2O8 - (p-1.0)*mu0dP_K4ZrSi2O8, -mu0dT_K4ZrSi2O8, mu0dP_K4ZrSi2O8"
   ]
  },
  {
   "cell_type": "code",
   "execution_count": null,
   "metadata": {},
   "outputs": [],
   "source": [
    "rMELTS_ZR.cy_Liquid_rMELTS_ZR_get_param_values()"
   ]
  },
  {
   "cell_type": "markdown",
   "metadata": {},
   "source": [
    "## Input composition and retrieve the ordering parameter "
   ]
  },
  {
   "cell_type": "code",
   "execution_count": null,
   "metadata": {},
   "outputs": [],
   "source": [
    "wtZrSiO4 = 183.31*0.001 # weight of ZrSiO4 equal to 0.001 moles of Zr"
   ]
  },
  {
   "cell_type": "code",
   "execution_count": null,
   "metadata": {},
   "outputs": [],
   "source": [
    "elm_sys = ['H','O','Na','Mg','Al','Si','P','K','Ca','Ti','Cr','Mn','Fe','Co','Ni']\n",
    "grm_oxides = {\n",
    "    'SiO2':  77.5, \n",
    "    'TiO2':   0.08, \n",
    "    'Al2O3': 12.5, \n",
    "    'Fe2O3':  0.207,\n",
    "    'Cr2O3':  0.0, \n",
    "    'FeO':    0.473, \n",
    "    'MnO':    0.0,\n",
    "    'MgO':    0.03, \n",
    "    'NiO':    0.0, \n",
    "    'CoO':    0.0,\n",
    "    'CaO':    0.43, \n",
    "    'Na2O':   3.98, \n",
    "    'K2O':    4.88, \n",
    "    'P2O5':   0.0, \n",
    "    'H2O':    5.5,\n",
    "    'CO2':    0.05\n",
    "}\n",
    "tot_grm_oxides = 0.0\n",
    "for key in grm_oxides.keys():\n",
    "    tot_grm_oxides += grm_oxides[key]\n",
    "mol_oxides = core.chem.format_mol_oxide_comp(grm_oxides, convert_grams_to_moles=True)\n",
    "mol_elm = core.chem.mol_oxide_to_elem(mol_oxides)\n",
    "elm = np.zeros(107)\n",
    "for i,sym in enumerate(\n",
    "    ['Si', 'Ti', 'Al', 'Fe', 'Cr', 'Mn', 'Mg', 'Ni', 'Co', 'Ca', 'Na', 'K', 'P', 'H', 'C', 'O']):\n",
    "    index = core.chem.PERIODIC_ORDER.tolist().index(sym)\n",
    "    elm[index] = mol_elm[i]\n",
    "elm[core.chem.PERIODIC_ORDER.tolist().index('Zr')] += wtZrSiO4/183.31\n",
    "elm[core.chem.PERIODIC_ORDER.tolist().index('Si')] += wtZrSiO4/183.31\n",
    "elm[core.chem.PERIODIC_ORDER.tolist().index('O')]  += wtZrSiO4*4.0/183.31\n",
    "n = rMELTS_ZR.cy_Liquid_rMELTS_ZR_calib_conv_elm_to_moles(elm)\n",
    "for i,x in enumerate(n):\n",
    "    print (\"{0:<12.12s} {1:10.6f} {2:10.6f}\".format(rMELTS_ZR.cy_Liquid_rMELTS_ZR_calib_endmember_name(i), x, mol_oxides[i] if i<16 else 0))\n",
    "if not rMELTS_ZR.cy_Liquid_rMELTS_ZR_calib_test_moles(n):\n",
    "    print ('Output of intrinsic composition calculation fails tests for permissible values.')"
   ]
  },
  {
   "cell_type": "code",
   "execution_count": null,
   "metadata": {},
   "outputs": [],
   "source": [
    "def print_species(n, s):\n",
    "    fmt = '{0:>10s} {1:13.6g}'\n",
    "    print (fmt.format('      SiO2', n[0]+s[0]+s[1]+3*s[2]))\n",
    "    print (fmt.format('      TiO2', n[1]))\n",
    "    print (fmt.format('     Al2O3', n[2]+2*s[2]))\n",
    "    print (fmt.format('     Fe2O3', n[3]))\n",
    "    print (fmt.format('     Cr2O3', n[4]))\n",
    "    print (fmt.format('   Fe2SiO4', n[5]))\n",
    "    print (fmt.format(' MnSi1/2O2', n[6]))\n",
    "    print (fmt.format('   Mg2SiO4', n[7]))\n",
    "    print (fmt.format(' NiSi1/2O2', n[8]))\n",
    "    print (fmt.format(' CoSi1/2O2', n[9]))\n",
    "    print (fmt.format('    CaSiO3', n[10]-s[0]))\n",
    "    print (fmt.format('   Na2SiO3', n[11]-2*s[1]))\n",
    "    print (fmt.format('   KAlSiO4', n[12]-4*s[2]))\n",
    "    print (fmt.format(' Ca3(PO4)2', n[13]))\n",
    "    print (fmt.format('       H2O', n[14]))\n",
    "    print (fmt.format('       CO2', n[15]-s[0]))\n",
    "    print (fmt.format('    ZrSiO4', n[16]-s[1]-s[2]))\n",
    "    print (fmt.format('     CaCO3', s[0]))\n",
    "    print (fmt.format('Na4ZrSi2O8', s[1]))\n",
    "    print (fmt.format(' K4ZrSi2O8', s[2]))"
   ]
  },
  {
   "cell_type": "markdown",
   "metadata": {},
   "source": [
    "Speciation results"
   ]
  },
  {
   "cell_type": "code",
   "execution_count": null,
   "metadata": {},
   "outputs": [],
   "source": [
    "s = rMELTS_ZR.cy_Liquid_rMELTS_ZR_order_params(t, p, n)\n",
    "print_species(n, s)"
   ]
  },
  {
   "cell_type": "markdown",
   "metadata": {},
   "source": [
    "## Test calls to API\n",
    "Test some composition retrieval functions"
   ]
  },
  {
   "cell_type": "code",
   "execution_count": null,
   "metadata": {},
   "outputs": [],
   "source": [
    "e = np.zeros(106)\n",
    "sum = np.sum(n)\n",
    "for index in range(0,nc):\n",
    "    end = rMELTS_ZR.cy_Liquid_rMELTS_ZR_calib_endmember_elements(index)\n",
    "    for i in range(0,106):\n",
    "        e[i] += end[i]*n[index]/sum\n",
    "nConv = rMELTS_ZR.cy_Liquid_rMELTS_ZR_calib_conv_elm_to_moles(e)\n",
    "for i in range(0,nc):\n",
    "    print ('X[{0:2d}] input {1:13.6e}, calc {2:13.6e}, diff {3:13.6e}'.format(\n",
    "        i, n[i]/sum, nConv[i], nConv[i]-n[i]/sum))\n",
    "if not rMELTS_ZR.cy_Liquid_rMELTS_ZR_calib_test_moles(nConv):\n",
    "    print ('Output of intrinsic composition calculation fails tests for permissible values.')"
   ]
  },
  {
   "cell_type": "markdown",
   "metadata": {},
   "source": [
    "Test various conversion routines ..."
   ]
  },
  {
   "cell_type": "code",
   "execution_count": null,
   "metadata": {},
   "outputs": [],
   "source": [
    "print (rMELTS_ZR.cy_Liquid_rMELTS_ZR_calib_conv_moles_to_tot_moles(n))\n",
    "print (rMELTS_ZR.cy_Liquid_rMELTS_ZR_calib_conv_moles_to_mole_frac(n))\n",
    "e = rMELTS_ZR.cy_Liquid_rMELTS_ZR_calib_conv_moles_to_elm(n)\n",
    "print (e)\n",
    "print (rMELTS_ZR.cy_Liquid_rMELTS_ZR_calib_conv_elm_to_moles(e))\n",
    "print (rMELTS_ZR.cy_Liquid_rMELTS_ZR_calib_conv_elm_to_tot_moles(e))\n",
    "print (rMELTS_ZR.cy_Liquid_rMELTS_ZR_calib_conv_elm_to_tot_grams(e))"
   ]
  },
  {
   "cell_type": "markdown",
   "metadata": {},
   "source": [
    "### Execute the standard thermodynamic property retrieval functions:"
   ]
  },
  {
   "cell_type": "code",
   "execution_count": null,
   "metadata": {},
   "outputs": [],
   "source": [
    "fmt = \"{0:<10.10s} {1:13.6e} {2:<10.10s}\"\n",
    "print(fmt.format('G', rMELTS_ZR.cy_Liquid_rMELTS_ZR_calib_g(t,p,n), 'J'))\n",
    "print(fmt.format('dGdT', rMELTS_ZR.cy_Liquid_rMELTS_ZR_calib_dgdt(t,p,n), 'J/K'))\n",
    "print(fmt.format('dGdP', rMELTS_ZR.cy_Liquid_rMELTS_ZR_calib_dgdp(t,p,n), 'J/bar'))\n",
    "print(fmt.format('d2GdT2', rMELTS_ZR.cy_Liquid_rMELTS_ZR_calib_d2gdt2(t,p,n), 'J/K^2'))\n",
    "print(fmt.format('d2GdTdP', rMELTS_ZR.cy_Liquid_rMELTS_ZR_calib_d2gdtdp(t,p,n), 'J/K-bar'))\n",
    "print(fmt.format('d2GdP2', rMELTS_ZR.cy_Liquid_rMELTS_ZR_calib_d2gdp2(t,p,n), 'J/bar^2'))\n",
    "print(fmt.format('d3GdT3', rMELTS_ZR.cy_Liquid_rMELTS_ZR_calib_d3gdt3(t,p,n), 'J/K^3'))\n",
    "print(fmt.format('d3GdT2dP', rMELTS_ZR.cy_Liquid_rMELTS_ZR_calib_d3gdt2dp(t,p,n), 'J/K^2-bar'))\n",
    "print(fmt.format('d3GdTdP2', rMELTS_ZR.cy_Liquid_rMELTS_ZR_calib_d3gdtdp2(t,p,n), 'J/K-bar^2'))\n",
    "print(fmt.format('d3GdP3', rMELTS_ZR.cy_Liquid_rMELTS_ZR_calib_d3gdp3(t,p,n), 'J/bar^3'))\n",
    "print(fmt.format('S', rMELTS_ZR.cy_Liquid_rMELTS_ZR_calib_s(t,p,n), 'J/K'))\n",
    "print(fmt.format('V', rMELTS_ZR.cy_Liquid_rMELTS_ZR_calib_v(t,p,n), 'J/bar'))\n",
    "print(fmt.format('Cv', rMELTS_ZR.cy_Liquid_rMELTS_ZR_calib_cv(t,p,n), 'J/K'))\n",
    "print(fmt.format('Cp', rMELTS_ZR.cy_Liquid_rMELTS_ZR_calib_cp(t,p,n), 'J/K'))\n",
    "print(fmt.format('dCpdT', rMELTS_ZR.cy_Liquid_rMELTS_ZR_calib_dcpdt(t,p,n), 'J/K^2'))\n",
    "print(fmt.format('alpha', rMELTS_ZR.cy_Liquid_rMELTS_ZR_calib_alpha(t,p,n), '1/K'))\n",
    "print(fmt.format('beta', rMELTS_ZR.cy_Liquid_rMELTS_ZR_calib_beta(t,p,n), '1/bar'))\n",
    "print(fmt.format('K', rMELTS_ZR.cy_Liquid_rMELTS_ZR_calib_K(t,p,n), 'bar'))\n",
    "print(fmt.format('Kp', rMELTS_ZR.cy_Liquid_rMELTS_ZR_calib_Kp(t,p,n), ''))"
   ]
  },
  {
   "cell_type": "markdown",
   "metadata": {},
   "source": [
    "### Execute functions that access endmember properties:"
   ]
  },
  {
   "cell_type": "code",
   "execution_count": null,
   "metadata": {},
   "outputs": [],
   "source": [
    "fmt = \"{0:<10.10s} {1:13.6e} {2:<15.15s}\"\n",
    "print (\"number of components\", rMELTS_ZR.cy_Liquid_rMELTS_ZR_calib_endmember_number())\n",
    "for index in range(0, nc):\n",
    "    print (\"{0:<20.20s}\".format(rMELTS_ZR.cy_Liquid_rMELTS_ZR_calib_endmember_name(index)), end=' ')\n",
    "    print (\"{0:<20.20s}\".format(rMELTS_ZR.cy_Liquid_rMELTS_ZR_calib_endmember_formula(index)), end=' ')\n",
    "    print (\"mw: {0:10.2f}\".format(rMELTS_ZR.cy_Liquid_rMELTS_ZR_calib_endmember_mw(index)))\n",
    "    print (fmt.format('mu0', rMELTS_ZR.cy_Liquid_rMELTS_ZR_calib_endmember_mu0(index,t,p), 'J/mol'))\n",
    "    print (fmt.format('dmu0dT', rMELTS_ZR.cy_Liquid_rMELTS_ZR_calib_endmember_dmu0dT(index,t,p), 'J/K-mol'))\n",
    "    print (fmt.format('dmu0dP', rMELTS_ZR.cy_Liquid_rMELTS_ZR_calib_endmember_dmu0dP(index,t,p), 'J/bar-mol'))\n",
    "    print (fmt.format('d2mu0dT2', rMELTS_ZR.cy_Liquid_rMELTS_ZR_calib_endmember_d2mu0dT2(index,t,p), 'J/K^2-mol'))\n",
    "    print (fmt.format('d2mu0dTdP', rMELTS_ZR.cy_Liquid_rMELTS_ZR_calib_endmember_d2mu0dTdP(index,t,p), 'J/K-bar-mol'))\n",
    "    print (fmt.format('d2mu0dP2', rMELTS_ZR.cy_Liquid_rMELTS_ZR_calib_endmember_d2mu0dP2(index,t,p), 'J/bar^2-mol'))\n",
    "    print (fmt.format('d3mu0dT3', rMELTS_ZR.cy_Liquid_rMELTS_ZR_calib_endmember_d3mu0dT3(index,t,p), 'J/K^3-mol'))\n",
    "    print (fmt.format('d3mu0dT2dP', rMELTS_ZR.cy_Liquid_rMELTS_ZR_calib_endmember_d3mu0dT2dP(index,t,p), 'J/K^2-bar-mol'))\n",
    "    print (fmt.format('d3mu0dTdP2', rMELTS_ZR.cy_Liquid_rMELTS_ZR_calib_endmember_d3mu0dTdP2(index,t,p), 'J/K-bar^2-mol'))\n",
    "    print (fmt.format('d3mu0dP3', rMELTS_ZR.cy_Liquid_rMELTS_ZR_calib_endmember_d3mu0dP3(index,t,p), 'J/bar^3-mol'))\n",
    "    print (\"Element array:\")\n",
    "    print (rMELTS_ZR.cy_Liquid_rMELTS_ZR_calib_endmember_elements(index))\n",
    "    print ()"
   ]
  },
  {
   "cell_type": "markdown",
   "metadata": {},
   "source": [
    "### Execute functions that access species properties:"
   ]
  },
  {
   "cell_type": "code",
   "execution_count": null,
   "metadata": {},
   "outputs": [],
   "source": [
    "fmt = \"{0:<10.10s} {1:13.6e} {2:<15.15s}\"\n",
    "print (\"number of species\", rMELTS_ZR.cy_Liquid_rMELTS_ZR_calib_species_number())\n",
    "for index in range(0, nc):\n",
    "    print (\"{0:<20.20s}\".format(rMELTS_ZR.cy_Liquid_rMELTS_ZR_calib_species_name(index)), end=' ')\n",
    "    print (\"{0:<20.20s}\".format(rMELTS_ZR.cy_Liquid_rMELTS_ZR_calib_species_formula(index)), end=' ')\n",
    "    print (\"mw: {0:10.2f}\".format(rMELTS_ZR.cy_Liquid_rMELTS_ZR_calib_species_mw(index)))\n",
    "    print (\"Element array:\")\n",
    "    print (rMELTS_ZR.cy_Liquid_rMELTS_ZR_calib_species_elements(index))\n",
    "    print ()"
   ]
  },
  {
   "cell_type": "markdown",
   "metadata": {},
   "source": [
    "### Execute functions for molar derivatives\n",
    "#### First derivative vectors:"
   ]
  },
  {
   "cell_type": "code",
   "execution_count": null,
   "metadata": {},
   "outputs": [],
   "source": [
    "def printResult(name, result, units):\n",
    "    print (\"{0:<10.10s}\".format(name), end=' ')\n",
    "    [print (\"{0:13.6e}\".format(x), end=' ') for x in result]\n",
    "    print (\"{0:<10.10s}\".format(units))\n",
    "def printLabels(n):\n",
    "    print (\"{0:<18.18s}\".format(''), end=' ')\n",
    "    [print (\"[{0:3d}]{1:<8.8s}\".format(idx, ''), end=' ') for idx in range(len(n))]\n",
    "    print ()\n",
    "printLabels(n)\n",
    "printResult('dGdn', rMELTS_ZR.cy_Liquid_rMELTS_ZR_calib_dgdn(t,p,n), 'J/m')\n",
    "printResult('d2GdndT', rMELTS_ZR.cy_Liquid_rMELTS_ZR_calib_d2gdndt(t,p,n), 'J/K-m')\n",
    "printResult('d2GdndP', rMELTS_ZR.cy_Liquid_rMELTS_ZR_calib_d2gdndp(t,p,n), 'J/bar-m')\n",
    "printResult('d3GdndT2', rMELTS_ZR.cy_Liquid_rMELTS_ZR_calib_d3gdndt2(t,p,n), 'J/K^2-m')\n",
    "printResult('d3GdndTdP', rMELTS_ZR.cy_Liquid_rMELTS_ZR_calib_d3gdndtdp(t,p,n), 'J/K-bar-m')\n",
    "printResult('d3GdndP2', rMELTS_ZR.cy_Liquid_rMELTS_ZR_calib_d3gdndp2(t,p,n), 'J/bar^2-m')\n",
    "printResult('d4GdndT3', rMELTS_ZR.cy_Liquid_rMELTS_ZR_calib_d4gdndt3(t,p,n), 'J/K^3-m')\n",
    "printResult('d4GdndT2dP', rMELTS_ZR.cy_Liquid_rMELTS_ZR_calib_d4gdndt2dp(t,p,n), 'J/K^2-bar-m')\n",
    "printResult('d4GdndTdP2', rMELTS_ZR.cy_Liquid_rMELTS_ZR_calib_d4gdndtdp2(t,p,n), 'J/K-bar^2-m')\n",
    "printResult('d4GdndP3', rMELTS_ZR.cy_Liquid_rMELTS_ZR_calib_d4gdndp3(t,p,n), 'J/bar^3-m')"
   ]
  },
  {
   "cell_type": "markdown",
   "metadata": {},
   "source": [
    "#### The Hessian matrix (molar second derivative matrix) is stored as a compact linear array\n",
    "A function is provided to map matrix indices to compact storage 1-D array indices"
   ]
  },
  {
   "cell_type": "code",
   "execution_count": null,
   "metadata": {},
   "outputs": [],
   "source": [
    "def printResult(name, result, units):\n",
    "    print (\"{0:<10.10s}\".format(name), end=' ')\n",
    "    [print (\"{0:13.6e}\".format(x), end=' ') for x in result]\n",
    "    print (\"{0:<10.10s}\".format(units))\n",
    "def printLabels(n):\n",
    "    print (\"{0:<18.18s}\".format(''), end=' ')\n",
    "    maxIdx = int(len(n)*(len(n)-1)/2 + len(n))\n",
    "    [print (\"[{0:3d}]{1:<8.8s}\".format(idx, ''), end=' ') for idx in range(maxIdx)]\n",
    "    print ()\n",
    "printLabels(n)\n",
    "printResult('d2Gdn2', rMELTS_ZR.cy_Liquid_rMELTS_ZR_calib_d2gdn2(t,p,n), 'J/m^2')\n",
    "printResult('d3Gdn2dT', rMELTS_ZR.cy_Liquid_rMELTS_ZR_calib_d3gdn2dt(t,p,n), 'J/K-m^2')\n",
    "printResult('d3Gdn2dP', rMELTS_ZR.cy_Liquid_rMELTS_ZR_calib_d3gdn2dp(t,p,n), 'J/bar-m^2')\n",
    "printResult('d4Gdn2dT2', rMELTS_ZR.cy_Liquid_rMELTS_ZR_calib_d4gdn2dt2(t,p,n), 'J/K^2-m^2')\n",
    "printResult('d4Gdn2dTdP', rMELTS_ZR.cy_Liquid_rMELTS_ZR_calib_d4gdn2dtdp(t,p,n), 'J/K-bar-m^2')\n",
    "printResult('d4Gdn2dP2', rMELTS_ZR.cy_Liquid_rMELTS_ZR_calib_d4gdn2dp2(t,p,n), 'J/bar^2-m^2')\n",
    "printResult('d5Gdn2dT3', rMELTS_ZR.cy_Liquid_rMELTS_ZR_calib_d5gdn2dt3(t,p,n), 'J/K^3-m^2')\n",
    "printResult('d5Gdn2dT2dP', rMELTS_ZR.cy_Liquid_rMELTS_ZR_calib_d5gdn2dt2dp(t,p,n), 'J/K^2-bar-m^2')\n",
    "printResult('d5Gdn2dTdP2', rMELTS_ZR.cy_Liquid_rMELTS_ZR_calib_d5gdn2dtdp2(t,p,n), 'J/K-bar^2-m^2')\n",
    "printResult('d5Gdn2dP3', rMELTS_ZR.cy_Liquid_rMELTS_ZR_calib_d5gdn2dp3(t,p,n), 'J/bar^3-m^2')"
   ]
  },
  {
   "cell_type": "markdown",
   "metadata": {},
   "source": [
    "#### The 3-D Tensor (molar third derivative tensor) is stored as a compact linear array\n",
    "A function is provided to map matrix indices to compact storage 1-D array indices:  \n",
    "If $n_c$ represents the number of components in the solution, and  \n",
    "if $n_d$ represents the dimensionality of molar derivative (in this case 3), then  \n",
    "the number of numerically ordered permutations of $n_c$ molar derivatives taken $n_d$ at a time is:"
   ]
  },
  {
   "cell_type": "code",
   "execution_count": null,
   "metadata": {},
   "outputs": [],
   "source": [
    "def printResult(name, result, units):\n",
    "    print (\"{0:<10.10s}\".format(name), end=' ')\n",
    "    [print (\"{0:10.3e}\".format(x), end=' ') for x in result]\n",
    "    print (\"{0:<14.14s}\".format(units))\n",
    "def printLabels(n):\n",
    "    print (\"{0:<15.15s}\".format(''), end=' ')\n",
    "    maxIdx = int(len(n)*(len(n)+1)*(len(n)+2)/6)\n",
    "    [print (\"[{0:3d}]{1:<5.5s}\".format(idx, ''), end=' ') for idx in range(maxIdx)]\n",
    "    print ()\n",
    "printLabels(n)\n",
    "printResult('d3Gdn3', rMELTS_ZR.cy_Liquid_rMELTS_ZR_calib_d3gdn3(t,p,n), 'J/m^3')\n",
    "printResult('d4Gdn3dT', rMELTS_ZR.cy_Liquid_rMELTS_ZR_calib_d4gdn3dt(t,p,n), 'J/K-m^3')\n",
    "printResult('d4Gdn3dP', rMELTS_ZR.cy_Liquid_rMELTS_ZR_calib_d4gdn3dp(t,p,n), 'J/bar-m^3')\n",
    "printResult('d5Gdn3dT2', rMELTS_ZR.cy_Liquid_rMELTS_ZR_calib_d5gdn3dt2(t,p,n), 'J/K^2-m^3')\n",
    "printResult('d5Gdn3dTdP', rMELTS_ZR.cy_Liquid_rMELTS_ZR_calib_d5gdn3dtdp(t,p,n), 'J/K-bar-m^3')\n",
    "printResult('d5Gdn3dP2', rMELTS_ZR.cy_Liquid_rMELTS_ZR_calib_d5gdn3dp2(t,p,n), 'J/bar^2-m^3')\n",
    "printResult('d6Gdn3dT3', rMELTS_ZR.cy_Liquid_rMELTS_ZR_calib_d6gdn3dt3(t,p,n), 'J/K^3-m^3')\n",
    "printResult('d6Gdn3dT2dP', rMELTS_ZR.cy_Liquid_rMELTS_ZR_calib_d6gdn3dt2dp(t,p,n), 'J/K^2-bar-m^3')\n",
    "printResult('d6Gdn3dTdP2', rMELTS_ZR.cy_Liquid_rMELTS_ZR_calib_d6gdn3dtdp2(t,p,n), 'J/K-bar^2-m^3')\n",
    "printResult('d6Gdn3dP3', rMELTS_ZR.cy_Liquid_rMELTS_ZR_calib_d6gdn3dp3(t,p,n), 'J/bar^3-m^3')"
   ]
  },
  {
   "cell_type": "code",
   "execution_count": null,
   "metadata": {},
   "outputs": [],
   "source": [
    "nparam = 0"
   ]
  },
  {
   "cell_type": "code",
   "execution_count": null,
   "metadata": {},
   "outputs": [],
   "source": [
    "nparam = rMELTS_ZR.cy_Liquid_rMELTS_ZR_get_param_number()\n",
    "names = rMELTS_ZR.cy_Liquid_rMELTS_ZR_get_param_names()\n",
    "units = rMELTS_ZR.cy_Liquid_rMELTS_ZR_get_param_units()\n",
    "values = rMELTS_ZR.cy_Liquid_rMELTS_ZR_get_param_values()\n",
    "fmt = \"{0:<10.10s} {1:13.6e} {2:13.6e} {3:<10.10s}\"\n",
    "for i in range(0,nparam):\n",
    "    print(fmt.format(names[i], values[i], rMELTS_ZR.cy_Liquid_rMELTS_ZR_get_param_value(i), units[i]))"
   ]
  },
  {
   "cell_type": "markdown",
   "metadata": {},
   "source": [
    "### Functions that evaluate parameter derivatives ..."
   ]
  },
  {
   "cell_type": "code",
   "execution_count": null,
   "metadata": {},
   "outputs": [],
   "source": [
    "fmt = \"    {0:<10.10s} {1:13.6e}\"\n",
    "for i in range(0, nparam):\n",
    "    print ('Derivative with respect to parameter: ', names[i], ' of')\n",
    "    print (fmt.format('G', rMELTS_ZR.cy_Liquid_rMELTS_ZR_dparam_g(t, p, n, i)))\n",
    "    print (fmt.format('dGdT', rMELTS_ZR.cy_Liquid_rMELTS_ZR_dparam_dgdt(t, p, n, i)))\n",
    "    print (fmt.format('dGdP', rMELTS_ZR.cy_Liquid_rMELTS_ZR_dparam_dgdp(t, p, n, i)))\n",
    "    print (fmt.format('d2GdT2', rMELTS_ZR.cy_Liquid_rMELTS_ZR_dparam_d2gdt2(t, p, n, i)))\n",
    "    print (fmt.format('d2GdTdP', rMELTS_ZR.cy_Liquid_rMELTS_ZR_dparam_d2gdtdp(t, p, n, i)))\n",
    "    print (fmt.format('d2GdP2', rMELTS_ZR.cy_Liquid_rMELTS_ZR_dparam_d2gdp2(t, p, n, i)))\n",
    "    print (fmt.format('d3GdT3', rMELTS_ZR.cy_Liquid_rMELTS_ZR_dparam_d3gdt3(t, p, n, i)))\n",
    "    print (fmt.format('d3GdT2dP', rMELTS_ZR.cy_Liquid_rMELTS_ZR_dparam_d3gdt2dp(t, p, n, i)))\n",
    "    print (fmt.format('d3GdTdP2', rMELTS_ZR.cy_Liquid_rMELTS_ZR_dparam_d3gdtdp2(t, p, n, i)))\n",
    "    print (fmt.format('d3GdP3', rMELTS_ZR.cy_Liquid_rMELTS_ZR_dparam_d3gdp3(t, p, n, i)))"
   ]
  },
  {
   "cell_type": "markdown",
   "metadata": {},
   "source": [
    "### Parameter derivatives of the chemical potential"
   ]
  },
  {
   "cell_type": "code",
   "execution_count": null,
   "metadata": {},
   "outputs": [],
   "source": [
    "def printResult(name, result, units):\n",
    "    print (\"dmu[*]/d {0:<10.10s}\".format(name), end=' ')\n",
    "    [print (\"{0:13.6e}\".format(x), end=' ') for x in result]\n",
    "    print (\"{0:<12.12s}\".format(units))\n",
    "def printLabels(n):\n",
    "    print (\"         {0:<18.18s}\".format(''), end=' ')\n",
    "    [print (\"[{0:3d}]{1:<8.8s}\".format(idx, ''), end=' ') for idx in range(len(n))]\n",
    "    print ()\n",
    "printLabels(n)\n",
    "for i in range(0, nparam):\n",
    "    result = rMELTS_ZR.cy_Liquid_rMELTS_ZR_dparam_dgdn(t,p,n, i)\n",
    "    printResult(names[i], result, 'J/m^2/p-unit')"
   ]
  },
  {
   "cell_type": "code",
   "execution_count": null,
   "metadata": {},
   "outputs": [],
   "source": []
  }
 ],
 "metadata": {
  "kernelspec": {
   "display_name": "Python 3",
   "language": "python",
   "name": "python3"
  },
  "language_info": {
   "codemirror_mode": {
    "name": "ipython",
    "version": 3
   },
   "file_extension": ".py",
   "mimetype": "text/x-python",
   "name": "python",
   "nbconvert_exporter": "python",
   "pygments_lexer": "ipython3",
   "version": "3.7.9"
  }
 },
 "nbformat": 4,
 "nbformat_minor": 4
}
